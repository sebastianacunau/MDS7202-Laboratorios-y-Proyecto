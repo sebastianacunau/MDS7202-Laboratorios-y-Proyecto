{
 "cells": [
  {
   "cell_type": "markdown",
   "metadata": {
    "id": "vwCVs8pzA4v_"
   },
   "source": [
    "<h1><center>Laboratorio 10: Adivina, Adivinador 🔮</center></h1>\n",
    "\n",
    "<center><strong>MDS7202: Laboratorio de Programación Científica para Ciencia de Datos - Otoño 2025</strong></center>\n",
    "\n",
    "### Cuerpo Docente:\n",
    "\n",
    "- Profesores: Stefano Schiappacasse, Sebastián Tinoco\n",
    "- Auxiliares: Melanie Peña, Valentina Rojas\n",
    "- Ayudantes: Angelo Muñoz, Valentina Zúñiga"
   ]
  },
  {
   "cell_type": "markdown",
   "metadata": {
    "id": "xHCewuvxA-W2"
   },
   "source": [
    "### **Equipo: SUPER IMPORTANTE - notebooks sin nombre no serán revisados**\n",
    "\n",
    "- Nombre de alumno 1: Sebastián Acuña U.\n",
    "- Nombre de alumno 2: Martín Guzmán S."
   ]
  },
  {
   "cell_type": "markdown",
   "metadata": {
    "id": "4pg5Iz9tegst"
   },
   "source": [
    "### **Link de repositorio de GitHub:** [Repositorio](https://github.com/sebastianacunau/MDS7202-Laboratorios-y-Proyecto)"
   ]
  },
  {
   "cell_type": "markdown",
   "metadata": {
    "id": "EZCCAQyqegsu"
   },
   "source": [
    "## Temas a tratar\n",
    "- Series de Tiempo.\n",
    "- Predicciones vía `Prophet`.\n",
    "- Implementar un sistema de recomendación utilizando `surprise`.\n",
    "\n",
    "## Reglas:\n",
    "\n",
    "- **Grupos de 2 personas**\n",
    "- Fecha de entrega: 6 días de plazo con descuento de 1 punto por día. Entregas Martes a las 23:59.\n",
    "- Instrucciones del lab el viernes a las 16:15 en formato online. Asistencia no es obligatoria, pero se recomienda fuertemente asistir.\n",
    "- <u>Prohibidas las copias</u>. Cualquier intento de copia será debidamente penalizado con el reglamento de la escuela.\n",
    "- Tienen que subir el laboratorio a u-cursos y a su repositorio de github. Labs que no estén en u-cursos no serán revisados. Recuerden que el repositorio también tiene nota.\n",
    "- Cualquier duda fuera del horario de clases al foro. Mensajes al equipo docente serán respondidos por este medio.\n",
    "- Pueden usar cualquier material del curso que estimen conveniente.\n",
    "\n",
    "### Objetivos principales del laboratorio\n",
    "- Comprender qué es una serie de tiempo y su estructura.\n",
    "- Identificar tendencias, estacionalidades e irregularidades.\n",
    "- Armar un modelo predictivo para la serie.\n",
    "- Conocer y aplicar sistemas de recomendación.\n",
    "- Entender estructura y conocer casos de estudio.\n"
   ]
  },
  {
   "cell_type": "code",
   "execution_count": null,
   "metadata": {
    "id": "CwmzvkB8p3rc"
   },
   "outputs": [],
   "source": [
    "# Si usted está utilizando Colabolatory le puede ser útil este código para cargar los archivos.\n",
    "try:\n",
    "    from google.colab import drive\n",
    "    drive.mount(\"/content/drive\")\n",
    "    path = 'Dirección donde tiene los archivos en el Drive'\n",
    "except:\n",
    "    print('Ignorando conexión drive-colab')"
   ]
  },
  {
   "cell_type": "code",
   "execution_count": 1,
   "metadata": {
    "id": "smst0oS3hp9t"
   },
   "outputs": [],
   "source": [
    "# Librerias globales\n",
    "\n",
    "import pandas as pd\n",
    "import numpy as np\n",
    "import matplotlib.pyplot as plt\n",
    "import seaborn as sns\n",
    "import copy\n",
    "import plotly.express as px"
   ]
  },
  {
   "cell_type": "markdown",
   "metadata": {
    "id": "jKJ0AuRJpDa-"
   },
   "source": [
    "# **1. Forecasting (30 puntos)**\n"
   ]
  },
  {
   "cell_type": "markdown",
   "metadata": {
    "id": "-q56pg4rpJ2d"
   },
   "source": [
    "## **Prophet**\n",
    "\n",
    "Prophet es una herramienta open-source de Facebook utilizada para realizar predicciones en series de tiempo. Esta se basa en la descomposición aditiva, donde tendencias no lineales se ajustan junto a la estacionalidad.\n",
    "\n",
    "En la ecuación de a continuación se puede ver una idea general de los elementos que construyen a un modelo aditivo como lo es Prophet.\n",
    "\n",
    "\\begin{equation}\n",
    "y(t) = g(t) + s(t) + h(t) + e(t)\n",
    "\\end{equation}\n",
    "\n",
    "Donde, $g(t)$ hace referencia a las tendencias, que corresponden a cambios graduales en largos periodos de tiempo. $s(t)$ corresponde a la estacionalidad, son cambios periodicos o cortos en el tiempo. $h(t)$ es el efecto que tienen las festividades sobre las predicciones, mientras que e(t) corresponde al error o ruido. Finalmente $y(t)$, es la predicción hecha por el modelo.\n",
    "\n",
    "Prophet trabaja por defecto con Piece-Wise Lineal Model, este es un modelo de regresión lineal, en el cual se buscan distintas zonas en que la data presente patrones o tendencias lineales, de estas zonas obtiene su regresión y luego las \"une\" de manera de representar toda la región, como se puede ver en la ecuación siguiente.\n",
    "\n",
    "\\begin{equation}\n",
    "y(x)=\n",
    "    \\begin{cases}\n",
    "        η_1 + \\beta_1(x-b_1), & b_1 < x  \\leqslant b_2 \\\\\n",
    "        η_2 + \\beta_2(x-b_2), & b_2 < x  \\leqslant b_3 \\\\\n",
    "        η_3 + \\beta_3(x-b_3), & b_3 < x  \\leqslant b_3 \\\\\n",
    "        ... \\\\\n",
    "        η_k + \\beta_{nb}(x-b_{nb-1}), & b_{n-1} < x  \\leqslant b_{nb} \\\\\n",
    "    \\end{cases}\n",
    "\\end{equation}\n",
    "\n",
    "Siendo $b_1$ el primer punto de quiebre en la serie y así hasta el punto $b_{nb}$ correspondiente al último punto de quiebre de la serie con una cantidad $nb$ de puntos.\n",
    "\n",
    "Para mayor información de Prophet y como utilizarla, pueden ver su [documentación](https://facebook.github.io/prophet/docs/quick_start.html#python-api), donde hay pueden encontrar un pequeño tutorial de la librería."
   ]
  },
  {
   "cell_type": "markdown",
   "metadata": {
    "id": "q4h6rX5sBXmB"
   },
   "source": [
    "## **La Factura de Homero**"
   ]
  },
  {
   "cell_type": "markdown",
   "metadata": {
    "id": "mHZq_h1RFZJ1"
   },
   "source": [
    "<center>\n",
    "<img src =\"https://i.makeagif.com/media/7-30-2018/H_ZAY1.gif\" width = 500 />"
   ]
  },
  {
   "cell_type": "markdown",
   "metadata": {
    "id": "TsrEkIUHBwBb"
   },
   "source": [
    "Homero Simpson ha trabajado en la Planta Nuclear de Springfield por más de 20 años como Inspector de Seguridad, pero recientemente el Sr. Burns le ha permitido trabajar desde casa. Aunque le encanta la flexibilidad que esto le otorga, también ha notado un aumento considerable en su consumo energético en el hogar. Con el uso constante de calefacción en invierno y aire acondicionado en verano, Homero está preocupado por cómo afectará esto a su presupuesto en los próximos meses, ya que planea pasar aún más tiempo en casa.\n",
    "\n",
    "Afortunadamente, gracias a su puesto en la Planta de Energía Nuclear, Homero tiene acceso a los datos de consumo de energía de cada ciudadano en Springfield, por lo que accede a esta información y almacena el consumo de su hogar en un archivo llamado `energia_homero.csv`. Este archivo posee el consumo diario en el hogar de Homero Simpson desde el Junio del 2016 hasta Julio del 2020.\n",
    "\n",
    "Con esta valiosa información, Homero espera poder predecir su consumo energético y tomar decisiones informadas para ajustar su presupuesto mensual."
   ]
  },
  {
   "cell_type": "markdown",
   "metadata": {
    "id": "IKnCQlYbFpQ4"
   },
   "source": [
    "Los datos son los siguientes:\n",
    "\n",
    "* **date**: Fecha de medición.\n",
    "* **Energy_kWh**: Consumo diario de energía eléctrica en el hogar de Homero (en kWh)."
   ]
  },
  {
   "cell_type": "markdown",
   "metadata": {
    "id": "Obay1DE6H9Hk"
   },
   "source": [
    "## 1.1 Series de Tiempo [0 puntos]"
   ]
  },
  {
   "cell_type": "markdown",
   "metadata": {
    "id": "fIjQdwBAJFLJ"
   },
   "source": [
    "### Carga de los datos\n",
    "\n",
    "En primer lugar, cargue los datos históricos del archivo `energia_homero.csv` al entorno de trabajo. Una vez cargados, asegúrense de transformar la columna `date` a formato `datetime`. Además, visualice el consumo de energía en la casa de Homero mediante la librería `plotly`.\n"
   ]
  },
  {
   "cell_type": "markdown",
   "metadata": {
    "id": "Trz2Q7JKR2Zq"
   },
   "source": [
    "**Respuesta**:"
   ]
  },
  {
   "cell_type": "code",
   "execution_count": null,
   "metadata": {
    "id": "0HcBD2JHRtxk"
   },
   "outputs": [],
   "source": [
    "#Codigo Aqui"
   ]
  },
  {
   "cell_type": "markdown",
   "metadata": {
    "id": "6-aXIm9ZOufL"
   },
   "source": [
    "## 1.2 Controlando la Serie de Tiempo [6 puntos]"
   ]
  },
  {
   "cell_type": "markdown",
   "metadata": {
    "id": "LYT66o06PYSY"
   },
   "source": [
    "<center>\n",
    "<img src =\"https://i.pinimg.com/originals/66/77/88/667788e0b1f08ff1e1cfce11d303b203.gif\" width = 500 />"
   ]
  },
  {
   "cell_type": "markdown",
   "metadata": {
    "id": "z7OIm3yzPcPG"
   },
   "source": [
    "Luego de leer mucho, Homero cree que necesita descomponer la serie de tiempo para poder controlar estos componentes de forma efectiva y lograr que la serie tenga propiedades de una serie estacionaria.\n",
    "\n",
    "Usted, como buen ciudadano de Springfield, decide ayudar a Homero, el cual le pide que realice lo siguientes pasos:\n",
    "\n",
    "0. Cree un conjunto de entrenamiento y uno de prueba (a proyectar). Para ello, considere como entrenamiento la información **hasta** el `2020-02-29` y como conjunto de prueba **desde** el `2020-03-01`. [0 puntos]\n",
    "1. Cree un `Pipeline` que permita obtener una representación de la tendencia de la serie de tiempo, mediante un modelo Lineal. Nombre al pipeline `Pipeline_trend`. [1 punto]\n",
    "2. Entrene el modelo lineal y luego obtenga predicciones tanto para el conjunto de entrenamiento como para el de prueba (intervalo completo de tiempo). Luego grafique las predicciones y calcule el `Mean Absolute Error` (MAE), tanto para el conjunto de prueba como para el de entrenamiento. [1 punto]\n",
    "3. Grafique el error (Valor real - Valor predicho) para todo el intervalo de tiempo y responda ¿Hay un comportamiento estacional en la serie? [1 punto]\n",
    "4.  Cree un `Pipeline` que permita modelar la estacionalidad de la serie temporal mediante términos de Fourier y la represente a través de una Regresión Lineal de la variable objetivo. Nombre a este pipeline `Pipeline_seasonal`. Determine el valor de Periodos `P` y el número de terminos de Fourier `n`. [1 punto]\n",
    "5. Entrene el nuevo modelo y obtenga predicciones en el intervalo completo de tiempo. Luego grafique y calcule el `MAE` en el conjunto de prueba y en el de entrenamiento. [1 punto]\n",
    "6. Vuelva a graficar el error y comente los resultados. [1 punto]"
   ]
  },
  {
   "cell_type": "markdown",
   "metadata": {
    "id": "iwz-_XbTSCwX"
   },
   "source": [
    "**Respuesta**"
   ]
  },
  {
   "cell_type": "code",
   "execution_count": null,
   "metadata": {
    "id": "Y77qr78ASEH8"
   },
   "outputs": [],
   "source": [
    "#CODIGO AQUI"
   ]
  },
  {
   "cell_type": "markdown",
   "metadata": {
    "id": "wYclWYijbB9O"
   },
   "source": [
    "## 1.3 Un Consejo para Homero [6 puntos]"
   ]
  },
  {
   "cell_type": "markdown",
   "metadata": {
    "id": "VXI4w5jdcAML"
   },
   "source": [
    "<center>\n",
    "<img src =\"https://media.tenor.com/sjbvGMLZiDkAAAAM/the-simpsons-homner-simpson.gif\" width = 400 />"
   ]
  },
  {
   "cell_type": "markdown",
   "metadata": {
    "id": "TQYcRK_ibGhc"
   },
   "source": [
    "Homero al observar los resultados obtenidos, se mostró conforme y decidió no seguir averiguando al respecto. Usted, como buen amigo y utilizando sus recientes conocimientos en Forecast, le sugiere a Homero utilizar **Prophet**, una herramienta de modelado de series de tiempo que incluye descomposición de tendencias y estacionalidad, así como la capacidad de incorporar regresores adicionales. Usted le explica a Homero que Prophet es especialmente útil para realizar pronósticos cuando hay patrones estacionales y que podría mejorar los resultados que ha obtenido hasta ahora.\n",
    "\n",
    "Homero, algo agotado debido al exhaustivo estudio que hizo para entender como funciona esta herramienta, le solicita ayuda para implementar Prophet y evaluar si puede obtener mejores resultados en sus predicciones de consumo energético.\n",
    "\n",
    "Dado esto, Homero le pide que realice los siguientes pasos:\n",
    "\n",
    "1. Instale y cargue Prophet a su entorno de trabajo. Luego renombre la variable temporal `date` por `ds` y la variable objetivo `Energy_kWh` por `y`, en los conjuntos de entrenamiento y de prueba. [1 punto]\n",
    "2. Cree y ajuste el modelo Prophet con sus datos de entrenamiento. Luego realice prepare el dataset de predicciones con su set de prueba y realice las predicciones. `Nota:` Le puede ser útil este [Enlace](https://facebook.github.io/prophet/docs/quick_start.html#python-api) [2 puntos]\n",
    "3. Grafique las predicciones y las componentes del modelo Prophet. `Nota`: Utilice los métodos `.plot()` y `.plot_components()` de Prophet. [1 punto]\n",
    "4. Calcule el `MAE` de la predicción en el conjunto de entrenamiento y de prueba. [1 punto]\n",
    "5. Grafique el error (Valor real - Valor predicho) en todo el intervalo de tiempo. Analice sus resultados y responda: ¿Hay un comportamiento estacional en la serie? [1 punto]"
   ]
  },
  {
   "cell_type": "code",
   "execution_count": null,
   "metadata": {
    "id": "-XmKaQmYoqtp"
   },
   "outputs": [],
   "source": [
    "# librerias extras\n",
    "from prophet import Prophet\n",
    "from prophet.plot import plot_plotly, plot_components_plotly"
   ]
  },
  {
   "cell_type": "markdown",
   "metadata": {
    "id": "S1eLSZ_uSQxK"
   },
   "source": [
    "**Respuesta:**"
   ]
  },
  {
   "cell_type": "code",
   "execution_count": null,
   "metadata": {
    "id": "P9bkU463SPM-"
   },
   "outputs": [],
   "source": [
    "#CODIGO AQUI"
   ]
  },
  {
   "cell_type": "markdown",
   "metadata": {
    "id": "hmv6O8Qj44Dt"
   },
   "source": [
    "## 1.4 Incluyendo Regresores [5 puntos]"
   ]
  },
  {
   "cell_type": "markdown",
   "metadata": {
    "id": "YvWzqXrwRSkc"
   },
   "source": [
    "<center>\n",
    "<img src =\"https://i.redd.it/64hwjftunjjd1.gif\" width = 400 />"
   ]
  },
  {
   "cell_type": "markdown",
   "metadata": {
    "id": "xUNihwodPwBG"
   },
   "source": [
    "Con los nuevos resultados obtenidos del modelo Prophet, usted le aconseja a Homero que puede mejorar sus predicciones al incluir regresores en el modelo, es decir, variables adicionales que pueden influir en la variable objetivo, en este caso, el consumo energético. Homero encuentra que es una buena idea y va en busca de ayuda donde el Profesor Frink, un destacado Científico de Springfield. Para suerte de Homero, Frink tenía un estudio reciente que registra las condiciones climáticas en Springfield, en el mismo intervalo de tiempo en que Homero disponía de los datos de consumo eléctrico. Con esta nueva información, usted le recomienda a Homero que podrían utilizar esta información meteorológica proporcionada como variables exógenas al modelo.\n",
    "\n",
    "Sin embargo, al no comprender bien la importancia de los regresores, Homero decide confiar en sus capacidades y le pide que, por favor, incluya estas variables en el modelo para evaluar su impacto en las predicciones.\n",
    "\n",
    "Para ello, usted debe:\n",
    "0. Seleccionar las variables exógenas a utilizar del archivo `datos_frink.csv`. Añada estas variables a sus conjuntos de entrenamiento y prueba mediante `merge`. [0 puntos]\n",
    "1. Cree el modelo Prophet e incluya los regresores (variables exógenas) al modelo. Luego realice el entrenamiento. **Hint**: Utilice el método `.add_regressor()`. Mas información en el siguiente [Enlace](https://facebook.github.io/prophet/docs/seasonality,_holiday_effects,_and_regressors.html#additional-regressors). [2 puntos]\n",
    "2. Grafique las predicciones y las componentes del modelo Prophet. `Nota`: Utilice los métodos `.plot()` y `.plot_components()` de Prophet. [1 punto]\n",
    "3. Calcule el `MAE` de la predicción en el conjunto de entrenamiento y de prueba. Analice sus resultados. [1 punto]\n",
    "4. Grafique el error (Valor real - Valor predicho) en el conjunto de entrenamiento y de prueba. ¿Hay un comportamiento estacional en la serie? ¿Influyen estas variables en el comportamiento del consumo energético en el hogar de Homero? [1 punto]"
   ]
  },
  {
   "cell_type": "markdown",
   "metadata": {
    "id": "8BTXeJvXqesW"
   },
   "source": [
    "Los datos del dataset de Frink son los siguientes:\n",
    "\n",
    "* **date**: Fecha de medición.\n",
    "* **Temp_max**: Temperatura máxima registrada durante el día (en °F).\n",
    "* **Temp_avg**: Temperatura promedio registrada durante el día (en °F).\n",
    "* **Temp_min**: Temperatura mínima registrada durante el día (en °F).\n",
    "* **Dew_max**: Punto de rocío máximo registrado durante el día (en °F).\n",
    "* **Dew_avg**: Punto de rocío promedio registrado durante el día (en °F).\n",
    "* **Dew_min**: Punto de rocío mínimo registrado durante el día (en °F).\n",
    "* **Hum_max**: Humedad máxima registrada durante el día (en porcentaje).\n",
    "* **Hum_avg**: Humedad promedio registrada durante el día (en porcentaje).\n",
    "* **Hum_min**: Humedad mínima registrada durante el día (en porcentaje).\n",
    "* **Wind_max**: Velocidad máxima del viento registrada durante el día (en millas por hora, mph).\n",
    "* **Wind_avg**: Velocidad promedio del viento registrada durante el día (en millas por hora, mph).\n",
    "* **Wind_min**: Velocidad mínima del viento registrada durante el día (en millas por hora, mph).\n",
    "* **Press_max**: Presión atmosférica máxima registrada durante el día (en pulgadas de mercurio, Hg).\n",
    "* **Press_avg**: Presión atmosférica promedio registrada durante el día (en pulgadas de mercurio, Hg).\n",
    "* **Press_min**: Presión atmosférica mínima registrada durante el día (en pulgadas de mercurio, Hg)."
   ]
  },
  {
   "cell_type": "markdown",
   "metadata": {
    "id": "ctwtNdYiSYkt"
   },
   "source": [
    "**Respuesta:**"
   ]
  },
  {
   "cell_type": "code",
   "execution_count": null,
   "metadata": {
    "id": "sIkCy2vNSZ0N"
   },
   "outputs": [],
   "source": [
    "#CODIGO AQUI"
   ]
  },
  {
   "cell_type": "markdown",
   "metadata": {
    "id": "dF6GHPP89yPk"
   },
   "source": [
    "## 1.5 Aplicando Lags [7 puntos]"
   ]
  },
  {
   "cell_type": "markdown",
   "metadata": {
    "id": "jkRSC7IvL9hT"
   },
   "source": [
    "<center>\n",
    "<img src =\"https://i.gifer.com/J45h.gif\" width = 400 />"
   ]
  },
  {
   "cell_type": "markdown",
   "metadata": {
    "id": "DLhDwh6295N-"
   },
   "source": [
    "Homero, satisfecho con los resultados obtenidos, cree que aún puede mejorar el rendimiento del modelo incorporando lags de las variables exógenas. Se le ocurre que, al incluir estos lags, podría identificar cómo los valores pasados de las variables influyen en la evolución de la variable objetivo. Con esta idea en mente, Homero solicita su ayuda para encontrar y aplicar los lags adecuados a las variables exógenas de manera efectiva.\n",
    "\n",
    "Para ello, a usted se le pide que:\n",
    "\n",
    "1. Calcule la `Autocorrelación Parcial` de las variables exógenas `avg` que usted haya considerado. Por ejemplo: `Temp_avg, Dew_avg, etc`. Luego determine la cantidad de rezagos (lags) que se va a aplicar a cada una de las variables. Justifique. [1 punto]\n",
    "\n",
    "2. Aplique los lags determinados en el paso anterior e incluyalos como variables en los conjuntos train y test. [1 punto]\n",
    "\n",
    "3. Impute los valores nulos de los nuevos atributos lags mediante la media de cada variable. [1 punto]\n",
    "\n",
    "4. Cree y entrene el modelo Prophet e incluya las variables exógenas y adicionalmente sus respectivos lags al modelo. [1 punto]\n",
    "\n",
    "5. Grafique las predicciones y las componentes del modelo Prophet. `Nota`: Utilice los métodos `.plot()` y `.plot_components()` de Prophet. [1 punto]\n",
    "6. Calcule el `MAE` de la predicción en el conjunto de prueba y en el de entrenamiento. Analice sus resultados. [1 punto]\n",
    "7. Grafique el error (Valor real - Valor predicho) en el conjunto de entrenamiento y en el de prueba. ¿Hay un comportamiento estacional en la serie? ¿Como afecta la inclusión de los lags en el desempeño del modelo? [1 punto]\n"
   ]
  },
  {
   "cell_type": "markdown",
   "metadata": {
    "id": "2ER9nRljShWz"
   },
   "source": [
    "**Respuesta:**"
   ]
  },
  {
   "cell_type": "code",
   "execution_count": null,
   "metadata": {
    "id": "AiTxiiUnSizV"
   },
   "outputs": [],
   "source": [
    "#CODIGO AQUI"
   ]
  },
  {
   "cell_type": "markdown",
   "metadata": {
    "id": "eX7JgdOEyTEA"
   },
   "source": [
    "## 1.6 Optimizando Prophet [6 puntos]"
   ]
  },
  {
   "cell_type": "markdown",
   "metadata": {
    "id": "PXi5MIk3RtgS"
   },
   "source": [
    "<center>\n",
    "<img src =\"https://i.gifer.com/BKlg.gif\" width = 500 />"
   ]
  },
  {
   "cell_type": "markdown",
   "metadata": {
    "id": "fYc8t5ukRx1x"
   },
   "source": [
    "Homero, contento con sus resultados, decide compartir su trabajo en LinkedIn. Sin embargo, justo antes de realizar la publicación, su hija Lisa Simpson le comenta que su modelo podría mejorar aún más mediante la optimización de hiperparámetros. Aunque Homero no entiende muy bien a qué se refiere Lisa, decide confiar en su conocimiento y le pide ayuda para implementar la optimización.\n",
    "\n",
    "Lisa le prepara una función llamada optimize_prophet, que recibe como entrada el registro histórico, los datos a predecir (futuros), el nombre de las variables exógenas y una grilla de hiperparámetros que se desea modificar.\n",
    "\n",
    "Después de varios intentos, Homero no logra utilizar la función de Lisa y, desesperado por publicar sus resultados en internet, se acerca a usted en busca de ayuda.\n",
    "\n",
    "Para ello, usted decide realizar los siguientes pasos:\n",
    "\n",
    "1. Crear una grilla donde se modifiquen los siguientes hiperparámetros: `changepoint_prior_scale`, `seasonality_prior_scale`, `seasonality_mode`, `changepoint_range` y encuentre los hiperparámetros que optimicen el `MAE`. `Nota:` Utilice la función `optimize_prophet()` dada en el enunciado. [1 punto]\n",
    "2. Crear y entrenar un modelo Prophet utilizando los mejores parámetros encontrados, incluyendo regresores (variables exógenas). [2 puntos]\n",
    "3. Grafique las predicciones y las componentes del modelo Prophet. `Nota`: Utilice los métodos `.plot()` y `.plot_components()` de Prophet. [1 punto]\n",
    "4. Calcule el `MAE` de la predicción en el conjunto de entrenamiento y en el de prueba. [1 punto]\n",
    "5. Grafique el error (Valor real - Valor predicho) en ambos conjuntos. Analice sus resultados. [1 punto]\n"
   ]
  },
  {
   "cell_type": "code",
   "execution_count": null,
   "metadata": {
    "id": "49jB4USI5B4P"
   },
   "outputs": [],
   "source": [
    "#NO MODIFICAR ESTA CELDA\n",
    "\n",
    "import itertools\n",
    "import numpy as np\n",
    "import pandas as pd\n",
    "from tqdm import tqdm\n",
    "import logging\n",
    "\n",
    "# Silenciar el logging de Prophet\n",
    "logging.getLogger('prophet').setLevel(logging.ERROR)\n",
    "logging.getLogger('cmdstanpy').setLevel(logging.ERROR)\n",
    "\n",
    "\n",
    "def optimize_prophet(df, df_to_pred, features, param_grid ):\n",
    "  '''\n",
    "  Función que recibe como entrada:\n",
    "  -df: data entrenamiento.\n",
    "  -df_to_pred: data a predecir (test).\n",
    "  -features: lista de variables exógenas.\n",
    "  -param_grid: grilla de hiperparámetros.\n",
    "\n",
    "  Retorna:\n",
    "  -tuning_results: Dataframe con resultados de la optimización.\n",
    "  -best_params: Diccionario de mejores parámetros encontrados.\n",
    "  '''\n",
    "\n",
    "  # Generate all combinations of parameters\n",
    "  all_params = [dict(zip(param_grid.keys(), v)) for v in itertools.product(*param_grid.values())]\n",
    "  MAEs = []  # Store the MAEs for each params here\n",
    "\n",
    "  # Use tqdm to add a progress bar to the parameter tuning loop\n",
    "  for params in tqdm(all_params, desc=\"Tuning Prophet parameters\"):\n",
    "      m = Prophet(**params)  # Fit model with given params\n",
    "      for feature in features:\n",
    "          m.add_regressor(feature)\n",
    "      m.fit(df)\n",
    "\n",
    "      # Prepare future dataframe\n",
    "      df_prop = m.make_future_dataframe(periods=len(df_to_pred))\n",
    "      df_feat = pd.concat([df[features], df_to_pred[features]]).reset_index(drop=True)\n",
    "      df_prop[features] = df_feat[features]\n",
    "\n",
    "      # Make predictions\n",
    "      forecast = m.predict(df_prop)\n",
    "      forecast_pred = forecast[forecast['ds'].isin(df_to_pred['ds'])].reset_index(drop=True)\n",
    "\n",
    "      # Calculate MAE for the predictions\n",
    "      mae_pred = mean_absolute_error(df_to_pred['y'], forecast_pred['yhat'])\n",
    "      MAEs.append(mae_pred)\n",
    "\n",
    "  # Find the best parameters\n",
    "  tuning_results = pd.DataFrame(all_params)\n",
    "  tuning_results['MAEs'] = MAEs\n",
    "  tuning_results = tuning_results.sort_values(by='MAEs', ascending=True)\n",
    "  best_params = all_params[np.argmin(MAEs)]\n",
    "  return tuning_results, best_params"
   ]
  },
  {
   "cell_type": "markdown",
   "metadata": {
    "id": "1XQVCm2VStle"
   },
   "source": [
    "**Respuesta:**"
   ]
  },
  {
   "cell_type": "code",
   "execution_count": null,
   "metadata": {
    "id": "NCs9MMySSvcg"
   },
   "outputs": [],
   "source": [
    "#CODIGO AQUI"
   ]
  },
  {
   "cell_type": "markdown",
   "metadata": {
    "id": "FVox6yBNCS6T"
   },
   "source": [
    "# **2. Sistemas de Recomendación (30 puntos)**"
   ]
  },
  {
   "cell_type": "markdown",
   "metadata": {
    "id": "KKtN95WQCjcp"
   },
   "source": [
    "## Homero contra la Prohibición"
   ]
  },
  {
   "cell_type": "markdown",
   "metadata": {
    "id": "OD7xVTFp4rac"
   },
   "source": [
    "<center>\n",
    "<img src =\"https://i.ytimg.com/vi/rMSXXuhZjYY/maxresdefault.jpg\" width = 500 />"
   ]
  },
  {
   "cell_type": "markdown",
   "metadata": {
    "id": "xrf2l5Xb1xd7"
   },
   "source": [
    "En Springfield, el caos estalló cuando las autoridades prohibieron el alcohol. Pero como siempre, donde otros ven problemas, Homero Simpson ve oportunidades. Decidido a mantener las fiestas vivas, se convirtió en el Barón de la Cerveza en un abrir y cerrar de ojos. Con la ayuda de su buen amigo Moe el cantinero, Homero obtuvo un valioso dataset llamado `cervezas.csv`, que contiene valoraciones de los ciudadanos de Springfield sobre distintas cervezas. Homero quiere asegurarse de ofrecer las cervezas más apreciadas para mantener a su clientela oculta y feliz, mientras eludía la mirada del estricto Elio Pez. Por ende, Homero lo contacta para solicitar de su ayuda en esta nueva labor.\n",
    "\n",
    "El dataset contiene los siguientes atributos:\n",
    "\n",
    "  * userId: Identificador de los ciudadanos/usuarios\n",
    "  * beerId: Identificador único de cada cerveza\n",
    "  * rating: Evaluación otorgada por el ciudadano a la cerveza, en un rango de 1.0 a 5.0.\n",
    "  * beerName: Nombre de la cerveza\n",
    "  * beerStyle: Tipo de Cerveza.\n",
    "\n"
   ]
  },
  {
   "cell_type": "code",
   "execution_count": 4,
   "metadata": {
    "id": "87A32f0bxjq-"
   },
   "outputs": [],
   "source": [
    "#!pip install surprise"
   ]
  },
  {
   "cell_type": "code",
   "execution_count": 32,
   "metadata": {
    "id": "Sm4EO6VRvBLQ"
   },
   "outputs": [],
   "source": [
    "# Librerias extras\n",
    "from sklearn.preprocessing import LabelEncoder\n",
    "\n",
    "from surprise import accuracy\n",
    "from surprise.reader import Reader\n",
    "from surprise.dataset import Dataset\n",
    "from surprise.prediction_algorithms.knns import KNNBasic\n",
    "from surprise.prediction_algorithms.matrix_factorization import SVD\n",
    "from surprise.model_selection import train_test_split\n",
    "from surprise.accuracy import mae\n",
    "from surprise import NMF\n",
    "from collections import defaultdict\n",
    "from sklearn.feature_extraction.text import CountVectorizer\n",
    "from sklearn.metrics.pairwise import cosine_similarity\n",
    "\n",
    "import pandas as pd\n",
    "from copy import deepcopy"
   ]
  },
  {
   "cell_type": "markdown",
   "metadata": {
    "id": "TSctqoUm5JLB"
   },
   "source": [
    "## Carga de los datos [0 puntos]\n",
    "\n",
    "Cargue el dataset `cervezas.csv` y realice una breve exploración de los datos. ¿Hay valores nulos? ¿Cuantos cervezas se estan evaluando? ¿Cuantos ciudadanos participaron de esta evaluación?"
   ]
  },
  {
   "cell_type": "code",
   "execution_count": 3,
   "metadata": {
    "id": "Gp5RMLpTTOVD"
   },
   "outputs": [
    {
     "data": {
      "text/html": [
       "<div>\n",
       "<style scoped>\n",
       "    .dataframe tbody tr th:only-of-type {\n",
       "        vertical-align: middle;\n",
       "    }\n",
       "\n",
       "    .dataframe tbody tr th {\n",
       "        vertical-align: top;\n",
       "    }\n",
       "\n",
       "    .dataframe thead th {\n",
       "        text-align: right;\n",
       "    }\n",
       "</style>\n",
       "<table border=\"1\" class=\"dataframe\">\n",
       "  <thead>\n",
       "    <tr style=\"text-align: right;\">\n",
       "      <th></th>\n",
       "      <th>userId</th>\n",
       "      <th>beerId</th>\n",
       "      <th>rating</th>\n",
       "      <th>beerName</th>\n",
       "      <th>beerStyle</th>\n",
       "    </tr>\n",
       "  </thead>\n",
       "  <tbody>\n",
       "    <tr>\n",
       "      <th>0</th>\n",
       "      <td>144</td>\n",
       "      <td>995</td>\n",
       "      <td>3.0</td>\n",
       "      <td>Mai Bock</td>\n",
       "      <td>Maibock / Helles Bock</td>\n",
       "    </tr>\n",
       "    <tr>\n",
       "      <th>1</th>\n",
       "      <td>63</td>\n",
       "      <td>58695</td>\n",
       "      <td>4.0</td>\n",
       "      <td>Hop In The Dark Cascadian Dark Ale</td>\n",
       "      <td>American Black Ale</td>\n",
       "    </tr>\n",
       "    <tr>\n",
       "      <th>2</th>\n",
       "      <td>147</td>\n",
       "      <td>4083</td>\n",
       "      <td>5.0</td>\n",
       "      <td>Stone Ruination IPA</td>\n",
       "      <td>American Double / Imperial IPA</td>\n",
       "    </tr>\n",
       "    <tr>\n",
       "      <th>3</th>\n",
       "      <td>4261</td>\n",
       "      <td>40310</td>\n",
       "      <td>3.0</td>\n",
       "      <td>Noël Des Géants</td>\n",
       "      <td>Herbed / Spiced Beer</td>\n",
       "    </tr>\n",
       "    <tr>\n",
       "      <th>4</th>\n",
       "      <td>140</td>\n",
       "      <td>1904</td>\n",
       "      <td>5.0</td>\n",
       "      <td>Sierra Nevada Celebration Ale</td>\n",
       "      <td>American IPA</td>\n",
       "    </tr>\n",
       "  </tbody>\n",
       "</table>\n",
       "</div>"
      ],
      "text/plain": [
       "   userId  beerId  rating                            beerName  \\\n",
       "0     144     995     3.0                            Mai Bock   \n",
       "1      63   58695     4.0  Hop In The Dark Cascadian Dark Ale   \n",
       "2     147    4083     5.0                 Stone Ruination IPA   \n",
       "3    4261   40310     3.0                     Noël Des Géants   \n",
       "4     140    1904     5.0       Sierra Nevada Celebration Ale   \n",
       "\n",
       "                        beerStyle  \n",
       "0           Maibock / Helles Bock  \n",
       "1              American Black Ale  \n",
       "2  American Double / Imperial IPA  \n",
       "3            Herbed / Spiced Beer  \n",
       "4                    American IPA  "
      ]
     },
     "execution_count": 3,
     "metadata": {},
     "output_type": "execute_result"
    }
   ],
   "source": [
    "#CODIGO AQUI\n",
    "cervezas_df = pd.read_csv('cervezas.csv')\n",
    "cervezas_df.head()"
   ]
  },
  {
   "cell_type": "code",
   "execution_count": 4,
   "metadata": {},
   "outputs": [
    {
     "name": "stdout",
     "output_type": "stream",
     "text": [
      "<class 'pandas.core.frame.DataFrame'>\n",
      "RangeIndex: 295059 entries, 0 to 295058\n",
      "Data columns (total 5 columns):\n",
      " #   Column     Non-Null Count   Dtype  \n",
      "---  ------     --------------   -----  \n",
      " 0   userId     295059 non-null  int64  \n",
      " 1   beerId     295059 non-null  int64  \n",
      " 2   rating     295059 non-null  float64\n",
      " 3   beerName   295059 non-null  object \n",
      " 4   beerStyle  295059 non-null  object \n",
      "dtypes: float64(1), int64(2), object(2)\n",
      "memory usage: 11.3+ MB\n"
     ]
    }
   ],
   "source": [
    "cervezas_df.info()"
   ]
  },
  {
   "cell_type": "code",
   "execution_count": 5,
   "metadata": {},
   "outputs": [
    {
     "data": {
      "text/plain": [
       "userId       0.0\n",
       "beerId       0.0\n",
       "rating       0.0\n",
       "beerName     0.0\n",
       "beerStyle    0.0\n",
       "dtype: float64"
      ]
     },
     "execution_count": 5,
     "metadata": {},
     "output_type": "execute_result"
    }
   ],
   "source": [
    "cervezas_df.isnull().mean()"
   ]
  },
  {
   "cell_type": "code",
   "execution_count": 6,
   "metadata": {},
   "outputs": [
    {
     "data": {
      "text/plain": [
       "userId        706\n",
       "beerId       3747\n",
       "rating          9\n",
       "beerName     3689\n",
       "beerStyle     101\n",
       "dtype: int64"
      ]
     },
     "execution_count": 6,
     "metadata": {},
     "output_type": "execute_result"
    }
   ],
   "source": [
    "cervezas_df.nunique()"
   ]
  },
  {
   "cell_type": "code",
   "execution_count": 7,
   "metadata": {},
   "outputs": [
    {
     "data": {
      "text/plain": [
       "array([3. , 4. , 5. , 3.5, 2. , 4.5, 2.5, 1. , 1.5])"
      ]
     },
     "execution_count": 7,
     "metadata": {},
     "output_type": "execute_result"
    }
   ],
   "source": [
    "cervezas_df['rating'].unique()"
   ]
  },
  {
   "cell_type": "markdown",
   "metadata": {},
   "source": [
    "* Hay 3747 cervezas diferentes siendo evaluadas.\n",
    "* Hay un total de 706 ciudadanos/usuarios participando de la evaluación.\n",
    "* La escala de evaluación va desde 1.0 a 5.0, con intervalos de 0.5.\n",
    "* No hay valores nulos en la data."
   ]
  },
  {
   "cell_type": "markdown",
   "metadata": {
    "id": "_v0xBQmN9v80"
   },
   "source": [
    "## 2.1 Caracterización Inicial [3 puntos]"
   ]
  },
  {
   "cell_type": "markdown",
   "metadata": {
    "id": "gbsflKIA9zO9"
   },
   "source": [
    "Antes de entrenar nuestro sistema recomendador, es necesario caracterizar los datos disponibles y de esta manera tener un mejor entendimiento del problema a resolver. Para esto, se le pide lo siguiente:\n",
    "\n",
    "1. Genere gráficos y/o estadística descriptiva con los datos. Utilice su análisis para responder las siguientes preguntas: [2 puntos]\n",
    "  - ¿Cuantos *usuarios* hay en los datos?\n",
    "  - ¿Cuantos *productos* hay en los datos?\n",
    "  - ¿Cuantas *calificaciones* hay en los datos?\n",
    "  - ¿Cuantas *calificaciones* faltantes hay en los datos?\n",
    "  - ¿Cual es la media de las *calificaciones* entregadas por los usuarios? ¿Cómo cambia esto a través de los productos?  \n",
    "2. Transforme los datos entregados a una matriz (usuario, producto) y muestre sus resultados. [1 punto]"
   ]
  },
  {
   "cell_type": "markdown",
   "metadata": {},
   "source": [
    "### Ítem 1"
   ]
  },
  {
   "cell_type": "code",
   "execution_count": null,
   "metadata": {},
   "outputs": [
    {
     "data": {
      "image/png": "[encoded data removed]",
      "text/plain": [
       "<Figure size 800x500 with 1 Axes>"
      ]
     },
     "metadata": {},
     "output_type": "display_data"
    }
   ],
   "source": [
    "rating_counts = cervezas_df['rating'].value_counts().sort_index()\n",
    "ratings = rating_counts.index.values\n",
    "counts = rating_counts.values\n",
    "\n",
    "bar_width = 0.7\n",
    "separation = 0.15\n",
    "x = np.arange(len(ratings)) * (bar_width + separation)\n",
    "\n",
    "plt.figure(figsize=(8,5))\n",
    "bars = plt.bar(x, counts, width=bar_width, color='skyblue', align='center')\n",
    "plt.xlabel('Rating')\n",
    "plt.ylabel('Frecuencia')\n",
    "plt.title('Distribución de Ratings')\n",
    "plt.xticks(x, ratings)\n",
    "\n",
    "# Agregar etiquetas encima de cada barra\n",
    "for i, bar in enumerate(bars):\n",
    "    height = bar.get_height()\n",
    "    if height >= 1000:\n",
    "        label = f\"{height/1000:.1f}K\"\n",
    "    else:\n",
    "        label = f\"{int(height)}\"\n",
    "    plt.text(bar.get_x() + bar.get_width()/2, height, label, ha='center', va='bottom', fontsize=10)\n",
    "\n",
    "plt.tight_layout()\n",
    "plt.show()"
   ]
  },
  {
   "cell_type": "code",
   "execution_count": 20,
   "metadata": {},
   "outputs": [
    {
     "name": "stdout",
     "output_type": "stream",
     "text": [
      "Estadísticas descriptivas de la columna 'rating':\n",
      "count    295059.000000\n",
      "mean          3.860367\n",
      "std           0.702807\n",
      "min           1.000000\n",
      "25%           3.500000\n",
      "50%           4.000000\n",
      "75%           4.500000\n",
      "max           5.000000\n",
      "Name: rating, dtype: float64\n"
     ]
    }
   ],
   "source": [
    "# Estadísticas descriptivas de la columna 'rating'\n",
    "stats_rating = cervezas_df['rating'].describe()\n",
    "\n",
    "print(\"Estadísticas descriptivas de la columna 'rating':\")\n",
    "print(stats_rating)"
   ]
  },
  {
   "cell_type": "code",
   "execution_count": null,
   "metadata": {},
   "outputs": [
    {
     "name": "stdout",
     "output_type": "stream",
     "text": [
      "Promedio de los promedios de rating por beerId: 3.7860744095484606\n"
     ]
    }
   ],
   "source": [
    "# Promedio de rating para cada beerId\n",
    "mean_rating_per_beer = cervezas_df.groupby('beerId')['rating'].mean()\n",
    "\n",
    "# Promedio de los promedios\n",
    "mean_of_means = mean_rating_per_beer.mean()\n",
    "print(\"Promedio de los promedios de rating por beerId:\", mean_of_means)"
   ]
  },
  {
   "cell_type": "markdown",
   "metadata": {},
   "source": [
    "> **Respuestas Ítem 1:**\n",
    ">\n",
    "> * Hay 706 usuarios en los datos.\n",
    "> * Hay 3747 productos en los datos.\n",
    "> * Hay 295.059 calificaciones en los datos.\n",
    "> * No hay calificaciones faltantes.\n",
    "> * La media de las calificaciones entregada por los usuarios es 3.86 de 5. Dependiendo del producto, la calificación promedio es 3.78 de 5."
   ]
  },
  {
   "cell_type": "markdown",
   "metadata": {},
   "source": [
    "### Observación extra\n",
    "\n",
    "Hay algunas inconsistencias en la data, en particular hay algunas cervezas con el mismo nombre y tipo cuyos IDs son diferentes. Se omitirá hacer un tratamiento en este ítem, pero se deja constancia de lo encontrado."
   ]
  },
  {
   "cell_type": "code",
   "execution_count": 19,
   "metadata": {},
   "outputs": [
    {
     "name": "stdout",
     "output_type": "stream",
     "text": [
      "beerName: Big Swell IPA\n",
      "  beerId: 27364, beerStyle: American IPA\n",
      "  beerId: 40628, beerStyle: American IPA\n",
      "\n",
      "beerName: Bière De Mars\n",
      "  beerId: 25142, beerStyle: Bière de Garde\n",
      "  beerId: 31748, beerStyle: Bière de Garde\n",
      "\n",
      "beerName: Black Hole\n",
      "  beerId: 16637, beerStyle: Old Ale\n",
      "  beerId: 33929, beerStyle: Russian Imperial Stout\n",
      "\n",
      "beerName: Brown Ale\n",
      "  beerId: 1647, beerStyle: English Brown Ale\n",
      "  beerId: 14163, beerStyle: English Brown Ale\n",
      "\n",
      "beerName: Chocolate Porter\n",
      "  beerId: 6499, beerStyle: American Porter\n",
      "  beerId: 10408, beerStyle: American Porter\n",
      "\n",
      "beerName: Chocolate Stout\n",
      "  beerId: 1118, beerStyle: American Stout\n",
      "  beerId: 20807, beerStyle: American Stout\n",
      "\n",
      "beerName: Christmas Ale\n",
      "  beerId: 1999, beerStyle: American Brown Ale\n",
      "  beerId: 3508, beerStyle: Winter Warmer\n",
      "  beerId: 39286, beerStyle: Belgian Strong Dark Ale\n",
      "\n",
      "beerName: CoCoNut Porter\n",
      "  beerId: 34850, beerStyle: American Porter\n",
      "  beerId: 37795, beerStyle: American Porter\n",
      "\n",
      "beerName: Double Chocolate Stout\n",
      "  beerId: 40798, beerStyle: American Double / Imperial Stout\n",
      "  beerId: 60694, beerStyle: American Double / Imperial Stout\n",
      "\n",
      "beerName: Double Stout\n",
      "  beerId: 7266, beerStyle: English Stout\n",
      "  beerId: 41626, beerStyle: American Double / Imperial Stout\n",
      "\n",
      "beerName: Freedom Of '78\n",
      "  beerId: 60826, beerStyle: American IPA\n",
      "  beerId: 64457, beerStyle: American IPA\n",
      "\n",
      "beerName: Grand Cru\n",
      "  beerId: 65144, beerStyle: Belgian Strong Dark Ale\n",
      "  beerId: 71265, beerStyle: Belgian Strong Pale Ale\n",
      "\n",
      "beerName: Harvest Ale\n",
      "  beerId: 13637, beerStyle: Extra Special / Strong Bitter (ESB)\n",
      "  beerId: 38488, beerStyle: Extra Special / Strong Bitter (ESB)\n",
      "  beerId: 44888, beerStyle: American IPA\n",
      "\n",
      "beerName: Hefeweizen\n",
      "  beerId: 20575, beerStyle: Hefeweizen\n",
      "  beerId: 30099, beerStyle: Hefeweizen\n",
      "\n",
      "beerName: Hoptimus Prime\n",
      "  beerId: 31941, beerStyle: American Double / Imperial IPA\n",
      "  beerId: 68087, beerStyle: American Double / Imperial IPA\n",
      "\n",
      "beerName: IPA\n",
      "  beerId: 270, beerStyle: English India Pale Ale (IPA)\n",
      "  beerId: 11565, beerStyle: American IPA\n",
      "  beerId: 23454, beerStyle: English India Pale Ale (IPA)\n",
      "  beerId: 40416, beerStyle: American IPA\n",
      "  beerId: 44713, beerStyle: American IPA\n",
      "\n",
      "beerName: Imperial IPA\n",
      "  beerId: 14366, beerStyle: American Double / Imperial IPA\n",
      "  beerId: 38101, beerStyle: American Double / Imperial IPA\n",
      "  beerId: 41019, beerStyle: American Double / Imperial IPA\n",
      "\n",
      "beerName: Imperial Stout\n",
      "  beerId: 356, beerStyle: Russian Imperial Stout\n",
      "  beerId: 28248, beerStyle: Russian Imperial Stout\n",
      "  beerId: 45541, beerStyle: American Double / Imperial Stout\n",
      "  beerId: 54593, beerStyle: American Double / Imperial Stout\n",
      "\n",
      "beerName: India Pale Ale\n",
      "  beerId: 1481, beerStyle: English India Pale Ale (IPA)\n",
      "  beerId: 3064, beerStyle: American IPA\n",
      "  beerId: 3968, beerStyle: English India Pale Ale (IPA)\n",
      "  beerId: 4948, beerStyle: English India Pale Ale (IPA)\n",
      "  beerId: 14507, beerStyle: American IPA\n",
      "  beerId: 25231, beerStyle: English India Pale Ale (IPA)\n",
      "\n",
      "beerName: Kilkenny Irish Cream Ale\n",
      "  beerId: 3628, beerStyle: Irish Red Ale\n",
      "  beerId: 52083, beerStyle: Irish Red Ale\n",
      "\n",
      "beerName: Nut Brown Ale\n",
      "  beerId: 1169, beerStyle: English Brown Ale\n",
      "  beerId: 1781, beerStyle: English Brown Ale\n",
      "  beerId: 4792, beerStyle: English Brown Ale\n",
      "  beerId: 7324, beerStyle: English Brown Ale\n",
      "\n",
      "beerName: Oatmeal Stout\n",
      "  beerId: 2354, beerStyle: Oatmeal Stout\n",
      "  beerId: 3307, beerStyle: Oatmeal Stout\n",
      "  beerId: 4312, beerStyle: Oatmeal Stout\n",
      "\n",
      "beerName: Oktoberfest\n",
      "  beerId: 986, beerStyle: Märzen / Oktoberfest\n",
      "  beerId: 997, beerStyle: Märzen / Oktoberfest\n",
      "  beerId: 1470, beerStyle: Märzen / Oktoberfest\n",
      "  beerId: 1568, beerStyle: Märzen / Oktoberfest\n",
      "\n",
      "beerName: Pale Ale\n",
      "  beerId: 696, beerStyle: Kölsch\n",
      "  beerId: 1783, beerStyle: American Pale Ale (APA)\n",
      "  beerId: 2094, beerStyle: American Pale Ale (APA)\n",
      "  beerId: 4798, beerStyle: American Pale Ale (APA)\n",
      "  beerId: 19781, beerStyle: American Pale Ale (APA)\n",
      "  beerId: 25656, beerStyle: American Pale Ale (APA)\n",
      "  beerId: 55960, beerStyle: English Pale Ale\n",
      "\n",
      "beerName: Phoenix Pale Ale\n",
      "  beerId: 5996, beerStyle: American Pale Ale (APA)\n",
      "  beerId: 30452, beerStyle: American Pale Ale (APA)\n",
      "\n",
      "beerName: Pikeland Pils\n",
      "  beerId: 8787, beerStyle: German Pilsener\n",
      "  beerId: 30453, beerStyle: German Pilsener\n",
      "\n",
      "beerName: Porter\n",
      "  beerId: 4878, beerStyle: Baltic Porter\n",
      "  beerId: 4957, beerStyle: English Porter\n",
      "  beerId: 10433, beerStyle: American Porter\n",
      "  beerId: 14314, beerStyle: English Porter\n",
      "  beerId: 37302, beerStyle: American Porter\n",
      "\n",
      "beerName: Saison\n",
      "  beerId: 22321, beerStyle: Saison / Farmhouse Ale\n",
      "  beerId: 28247, beerStyle: Saison / Farmhouse Ale\n",
      "\n",
      "beerName: Saison Du BUFF\n",
      "  beerId: 58048, beerStyle: Saison / Farmhouse Ale\n",
      "  beerId: 60785, beerStyle: Saison / Farmhouse Ale\n",
      "  beerId: 61351, beerStyle: Saison / Farmhouse Ale\n",
      "\n",
      "beerName: Salvation\n",
      "  beerId: 4072, beerStyle: Belgian Strong Pale Ale\n",
      "  beerId: 13742, beerStyle: Belgian Strong Dark Ale\n",
      "\n",
      "beerName: Thirteen\n",
      "  beerId: 42355, beerStyle: American Double / Imperial Stout\n",
      "  beerId: 64130, beerStyle: Wheatwine\n",
      "\n",
      "beerName: Winter Warmer\n",
      "  beerId: 14053, beerStyle: Old Ale\n",
      "  beerId: 33822, beerStyle: Winter Warmer\n",
      "\n"
     ]
    }
   ],
   "source": [
    "# Encontrar beerName duplicados con diferentes beerId\n",
    "duplicated_beernames = cervezas_df.groupby('beerName')['beerId'].nunique()\n",
    "duplicated_beernames = duplicated_beernames[duplicated_beernames > 1].index\n",
    "\n",
    "# Filtrar el dataframe para esos beerName y mostrar beerName, beerId y beerStyle\n",
    "duplicated_beers = cervezas_df[cervezas_df['beerName'].isin(duplicated_beernames)][['beerName', 'beerId', 'beerStyle']]\n",
    "duplicated_beers = duplicated_beers.drop_duplicates().sort_values(['beerName', 'beerId'])\n",
    "\n",
    "for name, group in duplicated_beers.groupby('beerName'):\n",
    "    print(f\"beerName: {name}\")\n",
    "    for _, row in group.iterrows():\n",
    "        print(f\"  beerId: {row['beerId']}, beerStyle: {row['beerStyle']}\")\n",
    "    print()"
   ]
  },
  {
   "cell_type": "markdown",
   "metadata": {},
   "source": [
    "### Ítem 2"
   ]
  },
  {
   "cell_type": "code",
   "execution_count": 18,
   "metadata": {},
   "outputs": [],
   "source": [
    "# Transformar el dataframe de pandas a un surprise Dataset\n",
    "reader = Reader(rating_scale = (1, 5))\n",
    "colab_df = cervezas_df[['userId', 'beerId', 'rating']].copy()\n",
    "dataset = Dataset.load_from_df(colab_df, reader)"
   ]
  },
  {
   "cell_type": "code",
   "execution_count": 17,
   "metadata": {},
   "outputs": [
    {
     "data": {
      "text/html": [
       "<div>\n",
       "<style scoped>\n",
       "    .dataframe tbody tr th:only-of-type {\n",
       "        vertical-align: middle;\n",
       "    }\n",
       "\n",
       "    .dataframe tbody tr th {\n",
       "        vertical-align: top;\n",
       "    }\n",
       "\n",
       "    .dataframe thead th {\n",
       "        text-align: right;\n",
       "    }\n",
       "</style>\n",
       "<table border=\"1\" class=\"dataframe\">\n",
       "  <thead>\n",
       "    <tr style=\"text-align: right;\">\n",
       "      <th></th>\n",
       "      <th>userId</th>\n",
       "      <th>beerId</th>\n",
       "      <th>rating</th>\n",
       "    </tr>\n",
       "  </thead>\n",
       "  <tbody>\n",
       "    <tr>\n",
       "      <th>0</th>\n",
       "      <td>144</td>\n",
       "      <td>995</td>\n",
       "      <td>3.0</td>\n",
       "    </tr>\n",
       "    <tr>\n",
       "      <th>1</th>\n",
       "      <td>63</td>\n",
       "      <td>58695</td>\n",
       "      <td>4.0</td>\n",
       "    </tr>\n",
       "    <tr>\n",
       "      <th>2</th>\n",
       "      <td>147</td>\n",
       "      <td>4083</td>\n",
       "      <td>5.0</td>\n",
       "    </tr>\n",
       "    <tr>\n",
       "      <th>3</th>\n",
       "      <td>4261</td>\n",
       "      <td>40310</td>\n",
       "      <td>3.0</td>\n",
       "    </tr>\n",
       "    <tr>\n",
       "      <th>4</th>\n",
       "      <td>140</td>\n",
       "      <td>1904</td>\n",
       "      <td>5.0</td>\n",
       "    </tr>\n",
       "    <tr>\n",
       "      <th>...</th>\n",
       "      <td>...</td>\n",
       "      <td>...</td>\n",
       "      <td>...</td>\n",
       "    </tr>\n",
       "    <tr>\n",
       "      <th>295054</th>\n",
       "      <td>863</td>\n",
       "      <td>45653</td>\n",
       "      <td>4.0</td>\n",
       "    </tr>\n",
       "    <tr>\n",
       "      <th>295055</th>\n",
       "      <td>306</td>\n",
       "      <td>1341</td>\n",
       "      <td>4.0</td>\n",
       "    </tr>\n",
       "    <tr>\n",
       "      <th>295056</th>\n",
       "      <td>8</td>\n",
       "      <td>8917</td>\n",
       "      <td>3.0</td>\n",
       "    </tr>\n",
       "    <tr>\n",
       "      <th>295057</th>\n",
       "      <td>35</td>\n",
       "      <td>102</td>\n",
       "      <td>3.0</td>\n",
       "    </tr>\n",
       "    <tr>\n",
       "      <th>295058</th>\n",
       "      <td>18149</td>\n",
       "      <td>38149</td>\n",
       "      <td>5.0</td>\n",
       "    </tr>\n",
       "  </tbody>\n",
       "</table>\n",
       "<p>295059 rows × 3 columns</p>\n",
       "</div>"
      ],
      "text/plain": [
       "        userId  beerId  rating\n",
       "0          144     995     3.0\n",
       "1           63   58695     4.0\n",
       "2          147    4083     5.0\n",
       "3         4261   40310     3.0\n",
       "4          140    1904     5.0\n",
       "...        ...     ...     ...\n",
       "295054     863   45653     4.0\n",
       "295055     306    1341     4.0\n",
       "295056       8    8917     3.0\n",
       "295057      35     102     3.0\n",
       "295058   18149   38149     5.0\n",
       "\n",
       "[295059 rows x 3 columns]"
      ]
     },
     "execution_count": 17,
     "metadata": {},
     "output_type": "execute_result"
    }
   ],
   "source": [
    "dataset.df"
   ]
  },
  {
   "cell_type": "code",
   "execution_count": 22,
   "metadata": {},
   "outputs": [],
   "source": [
    "# Construye la matriz usuario-producto como un diccionario de diccionarios\n",
    "user_item_matrix = defaultdict(dict)\n",
    "for uid, iid, rating in colab_df.values:\n",
    "    user_item_matrix[uid][iid] = rating"
   ]
  },
  {
   "cell_type": "code",
   "execution_count": 23,
   "metadata": {},
   "outputs": [
    {
     "data": {
      "text/html": [
       "<div>\n",
       "<style scoped>\n",
       "    .dataframe tbody tr th:only-of-type {\n",
       "        vertical-align: middle;\n",
       "    }\n",
       "\n",
       "    .dataframe tbody tr th {\n",
       "        vertical-align: top;\n",
       "    }\n",
       "\n",
       "    .dataframe thead th {\n",
       "        text-align: right;\n",
       "    }\n",
       "</style>\n",
       "<table border=\"1\" class=\"dataframe\">\n",
       "  <thead>\n",
       "    <tr style=\"text-align: right;\">\n",
       "      <th></th>\n",
       "      <th>995.0</th>\n",
       "      <th>2851.0</th>\n",
       "      <th>1000.0</th>\n",
       "      <th>96.0</th>\n",
       "      <th>802.0</th>\n",
       "      <th>993.0</th>\n",
       "      <th>97.0</th>\n",
       "      <th>997.0</th>\n",
       "      <th>999.0</th>\n",
       "      <th>25258.0</th>\n",
       "      <th>...</th>\n",
       "      <th>11482.0</th>\n",
       "      <th>15259.0</th>\n",
       "      <th>4686.0</th>\n",
       "      <th>5133.0</th>\n",
       "      <th>21505.0</th>\n",
       "      <th>10572.0</th>\n",
       "      <th>46984.0</th>\n",
       "      <th>38101.0</th>\n",
       "      <th>3050.0</th>\n",
       "      <th>4753.0</th>\n",
       "    </tr>\n",
       "  </thead>\n",
       "  <tbody>\n",
       "    <tr>\n",
       "      <th>144.0</th>\n",
       "      <td>2.5</td>\n",
       "      <td>4.0</td>\n",
       "      <td>2.5</td>\n",
       "      <td>4.0</td>\n",
       "      <td>4.5</td>\n",
       "      <td>3.0</td>\n",
       "      <td>2.0</td>\n",
       "      <td>5.0</td>\n",
       "      <td>3.5</td>\n",
       "      <td>4.5</td>\n",
       "      <td>...</td>\n",
       "      <td>0.0</td>\n",
       "      <td>0.0</td>\n",
       "      <td>0.0</td>\n",
       "      <td>0.0</td>\n",
       "      <td>0.0</td>\n",
       "      <td>0.0</td>\n",
       "      <td>0.0</td>\n",
       "      <td>0.0</td>\n",
       "      <td>0.0</td>\n",
       "      <td>0.0</td>\n",
       "    </tr>\n",
       "    <tr>\n",
       "      <th>63.0</th>\n",
       "      <td>0.0</td>\n",
       "      <td>0.0</td>\n",
       "      <td>0.0</td>\n",
       "      <td>0.0</td>\n",
       "      <td>0.0</td>\n",
       "      <td>0.0</td>\n",
       "      <td>0.0</td>\n",
       "      <td>0.0</td>\n",
       "      <td>0.0</td>\n",
       "      <td>0.0</td>\n",
       "      <td>...</td>\n",
       "      <td>0.0</td>\n",
       "      <td>0.0</td>\n",
       "      <td>0.0</td>\n",
       "      <td>0.0</td>\n",
       "      <td>0.0</td>\n",
       "      <td>0.0</td>\n",
       "      <td>0.0</td>\n",
       "      <td>0.0</td>\n",
       "      <td>0.0</td>\n",
       "      <td>0.0</td>\n",
       "    </tr>\n",
       "    <tr>\n",
       "      <th>147.0</th>\n",
       "      <td>0.0</td>\n",
       "      <td>0.0</td>\n",
       "      <td>0.0</td>\n",
       "      <td>0.0</td>\n",
       "      <td>0.0</td>\n",
       "      <td>0.0</td>\n",
       "      <td>0.0</td>\n",
       "      <td>0.0</td>\n",
       "      <td>0.0</td>\n",
       "      <td>0.0</td>\n",
       "      <td>...</td>\n",
       "      <td>0.0</td>\n",
       "      <td>0.0</td>\n",
       "      <td>0.0</td>\n",
       "      <td>0.0</td>\n",
       "      <td>0.0</td>\n",
       "      <td>0.0</td>\n",
       "      <td>0.0</td>\n",
       "      <td>0.0</td>\n",
       "      <td>0.0</td>\n",
       "      <td>0.0</td>\n",
       "    </tr>\n",
       "    <tr>\n",
       "      <th>4261.0</th>\n",
       "      <td>0.0</td>\n",
       "      <td>0.0</td>\n",
       "      <td>0.0</td>\n",
       "      <td>0.0</td>\n",
       "      <td>0.0</td>\n",
       "      <td>0.0</td>\n",
       "      <td>0.0</td>\n",
       "      <td>0.0</td>\n",
       "      <td>0.0</td>\n",
       "      <td>0.0</td>\n",
       "      <td>...</td>\n",
       "      <td>0.0</td>\n",
       "      <td>0.0</td>\n",
       "      <td>0.0</td>\n",
       "      <td>0.0</td>\n",
       "      <td>0.0</td>\n",
       "      <td>0.0</td>\n",
       "      <td>0.0</td>\n",
       "      <td>0.0</td>\n",
       "      <td>0.0</td>\n",
       "      <td>0.0</td>\n",
       "    </tr>\n",
       "    <tr>\n",
       "      <th>140.0</th>\n",
       "      <td>0.0</td>\n",
       "      <td>0.0</td>\n",
       "      <td>0.0</td>\n",
       "      <td>0.0</td>\n",
       "      <td>0.0</td>\n",
       "      <td>0.0</td>\n",
       "      <td>0.0</td>\n",
       "      <td>0.0</td>\n",
       "      <td>0.0</td>\n",
       "      <td>0.0</td>\n",
       "      <td>...</td>\n",
       "      <td>0.0</td>\n",
       "      <td>0.0</td>\n",
       "      <td>0.0</td>\n",
       "      <td>0.0</td>\n",
       "      <td>0.0</td>\n",
       "      <td>0.0</td>\n",
       "      <td>0.0</td>\n",
       "      <td>0.0</td>\n",
       "      <td>0.0</td>\n",
       "      <td>0.0</td>\n",
       "    </tr>\n",
       "    <tr>\n",
       "      <th>...</th>\n",
       "      <td>...</td>\n",
       "      <td>...</td>\n",
       "      <td>...</td>\n",
       "      <td>...</td>\n",
       "      <td>...</td>\n",
       "      <td>...</td>\n",
       "      <td>...</td>\n",
       "      <td>...</td>\n",
       "      <td>...</td>\n",
       "      <td>...</td>\n",
       "      <td>...</td>\n",
       "      <td>...</td>\n",
       "      <td>...</td>\n",
       "      <td>...</td>\n",
       "      <td>...</td>\n",
       "      <td>...</td>\n",
       "      <td>...</td>\n",
       "      <td>...</td>\n",
       "      <td>...</td>\n",
       "      <td>...</td>\n",
       "      <td>...</td>\n",
       "    </tr>\n",
       "    <tr>\n",
       "      <th>4992.0</th>\n",
       "      <td>0.0</td>\n",
       "      <td>0.0</td>\n",
       "      <td>0.0</td>\n",
       "      <td>0.0</td>\n",
       "      <td>0.0</td>\n",
       "      <td>0.0</td>\n",
       "      <td>0.0</td>\n",
       "      <td>0.0</td>\n",
       "      <td>0.0</td>\n",
       "      <td>0.0</td>\n",
       "      <td>...</td>\n",
       "      <td>0.0</td>\n",
       "      <td>0.0</td>\n",
       "      <td>0.0</td>\n",
       "      <td>0.0</td>\n",
       "      <td>0.0</td>\n",
       "      <td>4.0</td>\n",
       "      <td>0.0</td>\n",
       "      <td>0.0</td>\n",
       "      <td>0.0</td>\n",
       "      <td>0.0</td>\n",
       "    </tr>\n",
       "    <tr>\n",
       "      <th>892.0</th>\n",
       "      <td>0.0</td>\n",
       "      <td>0.0</td>\n",
       "      <td>0.0</td>\n",
       "      <td>0.0</td>\n",
       "      <td>0.0</td>\n",
       "      <td>0.0</td>\n",
       "      <td>0.0</td>\n",
       "      <td>0.0</td>\n",
       "      <td>0.0</td>\n",
       "      <td>0.0</td>\n",
       "      <td>...</td>\n",
       "      <td>0.0</td>\n",
       "      <td>0.0</td>\n",
       "      <td>0.0</td>\n",
       "      <td>0.0</td>\n",
       "      <td>0.0</td>\n",
       "      <td>0.0</td>\n",
       "      <td>3.5</td>\n",
       "      <td>0.0</td>\n",
       "      <td>0.0</td>\n",
       "      <td>0.0</td>\n",
       "    </tr>\n",
       "    <tr>\n",
       "      <th>1879.0</th>\n",
       "      <td>0.0</td>\n",
       "      <td>0.0</td>\n",
       "      <td>0.0</td>\n",
       "      <td>0.0</td>\n",
       "      <td>0.0</td>\n",
       "      <td>0.0</td>\n",
       "      <td>0.0</td>\n",
       "      <td>0.0</td>\n",
       "      <td>0.0</td>\n",
       "      <td>0.0</td>\n",
       "      <td>...</td>\n",
       "      <td>0.0</td>\n",
       "      <td>0.0</td>\n",
       "      <td>0.0</td>\n",
       "      <td>0.0</td>\n",
       "      <td>0.0</td>\n",
       "      <td>0.0</td>\n",
       "      <td>0.0</td>\n",
       "      <td>4.0</td>\n",
       "      <td>0.0</td>\n",
       "      <td>0.0</td>\n",
       "    </tr>\n",
       "    <tr>\n",
       "      <th>944.0</th>\n",
       "      <td>0.0</td>\n",
       "      <td>0.0</td>\n",
       "      <td>0.0</td>\n",
       "      <td>0.0</td>\n",
       "      <td>0.0</td>\n",
       "      <td>0.0</td>\n",
       "      <td>0.0</td>\n",
       "      <td>0.0</td>\n",
       "      <td>0.0</td>\n",
       "      <td>0.0</td>\n",
       "      <td>...</td>\n",
       "      <td>0.0</td>\n",
       "      <td>0.0</td>\n",
       "      <td>0.0</td>\n",
       "      <td>0.0</td>\n",
       "      <td>0.0</td>\n",
       "      <td>0.0</td>\n",
       "      <td>0.0</td>\n",
       "      <td>0.0</td>\n",
       "      <td>3.0</td>\n",
       "      <td>0.0</td>\n",
       "    </tr>\n",
       "    <tr>\n",
       "      <th>1503.0</th>\n",
       "      <td>0.0</td>\n",
       "      <td>0.0</td>\n",
       "      <td>0.0</td>\n",
       "      <td>0.0</td>\n",
       "      <td>0.0</td>\n",
       "      <td>0.0</td>\n",
       "      <td>0.0</td>\n",
       "      <td>0.0</td>\n",
       "      <td>0.0</td>\n",
       "      <td>0.0</td>\n",
       "      <td>...</td>\n",
       "      <td>0.0</td>\n",
       "      <td>0.0</td>\n",
       "      <td>0.0</td>\n",
       "      <td>0.0</td>\n",
       "      <td>0.0</td>\n",
       "      <td>0.0</td>\n",
       "      <td>0.0</td>\n",
       "      <td>0.0</td>\n",
       "      <td>0.0</td>\n",
       "      <td>4.5</td>\n",
       "    </tr>\n",
       "  </tbody>\n",
       "</table>\n",
       "<p>706 rows × 3747 columns</p>\n",
       "</div>"
      ],
      "text/plain": [
       "        995.0    2851.0   1000.0   96.0     802.0    993.0    97.0     \\\n",
       "144.0       2.5      4.0      2.5      4.0      4.5      3.0      2.0   \n",
       "63.0        0.0      0.0      0.0      0.0      0.0      0.0      0.0   \n",
       "147.0       0.0      0.0      0.0      0.0      0.0      0.0      0.0   \n",
       "4261.0      0.0      0.0      0.0      0.0      0.0      0.0      0.0   \n",
       "140.0       0.0      0.0      0.0      0.0      0.0      0.0      0.0   \n",
       "...         ...      ...      ...      ...      ...      ...      ...   \n",
       "4992.0      0.0      0.0      0.0      0.0      0.0      0.0      0.0   \n",
       "892.0       0.0      0.0      0.0      0.0      0.0      0.0      0.0   \n",
       "1879.0      0.0      0.0      0.0      0.0      0.0      0.0      0.0   \n",
       "944.0       0.0      0.0      0.0      0.0      0.0      0.0      0.0   \n",
       "1503.0      0.0      0.0      0.0      0.0      0.0      0.0      0.0   \n",
       "\n",
       "        997.0    999.0    25258.0  ...  11482.0  15259.0  4686.0   5133.0   \\\n",
       "144.0       5.0      3.5      4.5  ...      0.0      0.0      0.0      0.0   \n",
       "63.0        0.0      0.0      0.0  ...      0.0      0.0      0.0      0.0   \n",
       "147.0       0.0      0.0      0.0  ...      0.0      0.0      0.0      0.0   \n",
       "4261.0      0.0      0.0      0.0  ...      0.0      0.0      0.0      0.0   \n",
       "140.0       0.0      0.0      0.0  ...      0.0      0.0      0.0      0.0   \n",
       "...         ...      ...      ...  ...      ...      ...      ...      ...   \n",
       "4992.0      0.0      0.0      0.0  ...      0.0      0.0      0.0      0.0   \n",
       "892.0       0.0      0.0      0.0  ...      0.0      0.0      0.0      0.0   \n",
       "1879.0      0.0      0.0      0.0  ...      0.0      0.0      0.0      0.0   \n",
       "944.0       0.0      0.0      0.0  ...      0.0      0.0      0.0      0.0   \n",
       "1503.0      0.0      0.0      0.0  ...      0.0      0.0      0.0      0.0   \n",
       "\n",
       "        21505.0  10572.0  46984.0  38101.0  3050.0   4753.0   \n",
       "144.0       0.0      0.0      0.0      0.0      0.0      0.0  \n",
       "63.0        0.0      0.0      0.0      0.0      0.0      0.0  \n",
       "147.0       0.0      0.0      0.0      0.0      0.0      0.0  \n",
       "4261.0      0.0      0.0      0.0      0.0      0.0      0.0  \n",
       "140.0       0.0      0.0      0.0      0.0      0.0      0.0  \n",
       "...         ...      ...      ...      ...      ...      ...  \n",
       "4992.0      0.0      4.0      0.0      0.0      0.0      0.0  \n",
       "892.0       0.0      0.0      3.5      0.0      0.0      0.0  \n",
       "1879.0      0.0      0.0      0.0      4.0      0.0      0.0  \n",
       "944.0       0.0      0.0      0.0      0.0      3.0      0.0  \n",
       "1503.0      0.0      0.0      0.0      0.0      0.0      4.5  \n",
       "\n",
       "[706 rows x 3747 columns]"
      ]
     },
     "execution_count": 23,
     "metadata": {},
     "output_type": "execute_result"
    }
   ],
   "source": [
    "user_product_df = pd.DataFrame(user_item_matrix).T.fillna(0)\n",
    "user_product_df"
   ]
  },
  {
   "cell_type": "markdown",
   "metadata": {
    "id": "4_RHVQbNvGKQ"
   },
   "source": [
    "## 2.2 Método Basado en Contenido [4 puntos]"
   ]
  },
  {
   "cell_type": "markdown",
   "metadata": {
    "id": "Lr2XsjuH6bEm"
   },
   "source": [
    "<center>\n",
    "<img src =\"https://is1-ssl.mzstatic.com/image/thumb/WfNa_TwFpJoTWXQmU-BrbA/1200x675.jpg\" width = 500 />"
   ]
  },
  {
   "cell_type": "markdown",
   "metadata": {
    "id": "4rCGuXKI52RJ"
   },
   "source": [
    "Como primera tarea, Homero le pide centrarse en las características de las cervezas y no en la interacción de los ciudadanos con esta. Adicionalmente, Homero le quiere regalar un pack de distintas cervezas a Carl en agradecimiento a su ayuda anterior, el cual se enteró que Carl tiene un `userId = 100`. Por ende, Homero le pide las siguientes acciones:\n",
    "\n",
    "1. Cree un dataframe que contenga las características de las cervezas, excluyendo las evaluaciones de los ciudadanos. `Nota:` No considere valores duplicados. [1 punto]\n",
    "2. Implemente el método Bag of Words para procesar la columna `beerStyle`. Para ello, transforme las palabras a minúsculas, elimine stopwords en inglés y filtre las palabras que aparezcan en 10 documentos como mínimo. Guarde su resultado como un DataFrame. [1 punto].\n",
    "> `Nota:` Le puede ser útil esta [documentacion](https://scikit-learn.org/1.5/modules/generated/sklearn.feature_extraction.text.CountVectorizer.html) y el método `.get_feature_names_out()`.\n",
    "3. Cree una función que imprima las top 5 cervezas similares a `Chocolate Porter`, utilizando como medida de similitud la similitud coseno. [1 punto]\n",
    "4. Identifique la cerveza mejor evaluada por Carl (`userId = 100`) y obtenga las top 5 cervezas similares a esa cerveza. [1 punto]"
   ]
  },
  {
   "cell_type": "markdown",
   "metadata": {
    "id": "-cmVF_zATVdq"
   },
   "source": [
    "**Respuesta:**"
   ]
  },
  {
   "cell_type": "code",
   "execution_count": null,
   "metadata": {
    "id": "sv3qlPfrTX9-"
   },
   "outputs": [
    {
     "data": {
      "text/html": [
       "<div>\n",
       "<style scoped>\n",
       "    .dataframe tbody tr th:only-of-type {\n",
       "        vertical-align: middle;\n",
       "    }\n",
       "\n",
       "    .dataframe tbody tr th {\n",
       "        vertical-align: top;\n",
       "    }\n",
       "\n",
       "    .dataframe thead th {\n",
       "        text-align: right;\n",
       "    }\n",
       "</style>\n",
       "<table border=\"1\" class=\"dataframe\">\n",
       "  <thead>\n",
       "    <tr style=\"text-align: right;\">\n",
       "      <th></th>\n",
       "      <th>beerId</th>\n",
       "      <th>beerName</th>\n",
       "      <th>beerStyle</th>\n",
       "    </tr>\n",
       "  </thead>\n",
       "  <tbody>\n",
       "    <tr>\n",
       "      <th>0</th>\n",
       "      <td>5</td>\n",
       "      <td>Amber</td>\n",
       "      <td>Vienna Lager</td>\n",
       "    </tr>\n",
       "    <tr>\n",
       "      <th>1</th>\n",
       "      <td>6</td>\n",
       "      <td>Turbodog</td>\n",
       "      <td>English Brown Ale</td>\n",
       "    </tr>\n",
       "    <tr>\n",
       "      <th>2</th>\n",
       "      <td>7</td>\n",
       "      <td>Purple Haze</td>\n",
       "      <td>Fruit / Vegetable Beer</td>\n",
       "    </tr>\n",
       "    <tr>\n",
       "      <th>3</th>\n",
       "      <td>9</td>\n",
       "      <td>Golden</td>\n",
       "      <td>American Pale Lager</td>\n",
       "    </tr>\n",
       "    <tr>\n",
       "      <th>4</th>\n",
       "      <td>10</td>\n",
       "      <td>Allagash Dubbel Ale</td>\n",
       "      <td>Dubbel</td>\n",
       "    </tr>\n",
       "    <tr>\n",
       "      <th>...</th>\n",
       "      <td>...</td>\n",
       "      <td>...</td>\n",
       "      <td>...</td>\n",
       "    </tr>\n",
       "    <tr>\n",
       "      <th>3742</th>\n",
       "      <td>74827</td>\n",
       "      <td>Lips Of Faith - Fresh Hop India Pale Ale</td>\n",
       "      <td>American IPA</td>\n",
       "    </tr>\n",
       "    <tr>\n",
       "      <th>3743</th>\n",
       "      <td>74904</td>\n",
       "      <td>Allies Win The War!</td>\n",
       "      <td>English Strong Ale</td>\n",
       "    </tr>\n",
       "    <tr>\n",
       "      <th>3744</th>\n",
       "      <td>74986</td>\n",
       "      <td>Lagunitas Sucks Holiday Ale</td>\n",
       "      <td>American Double / Imperial IPA</td>\n",
       "    </tr>\n",
       "    <tr>\n",
       "      <th>3745</th>\n",
       "      <td>75013</td>\n",
       "      <td>Firestone 15 - Anniversary Ale</td>\n",
       "      <td>American Strong Ale</td>\n",
       "    </tr>\n",
       "    <tr>\n",
       "      <th>3746</th>\n",
       "      <td>75086</td>\n",
       "      <td>Stone 11.11.11 Vertical Epic Ale</td>\n",
       "      <td>Belgian Strong Pale Ale</td>\n",
       "    </tr>\n",
       "  </tbody>\n",
       "</table>\n",
       "<p>3747 rows × 3 columns</p>\n",
       "</div>"
      ],
      "text/plain": [
       "      beerId                                  beerName  \\\n",
       "0          5                                     Amber   \n",
       "1          6                                  Turbodog   \n",
       "2          7                               Purple Haze   \n",
       "3          9                                    Golden   \n",
       "4         10                       Allagash Dubbel Ale   \n",
       "...      ...                                       ...   \n",
       "3742   74827  Lips Of Faith - Fresh Hop India Pale Ale   \n",
       "3743   74904                       Allies Win The War!   \n",
       "3744   74986               Lagunitas Sucks Holiday Ale   \n",
       "3745   75013            Firestone 15 - Anniversary Ale   \n",
       "3746   75086          Stone 11.11.11 Vertical Epic Ale   \n",
       "\n",
       "                           beerStyle  \n",
       "0                       Vienna Lager  \n",
       "1                  English Brown Ale  \n",
       "2             Fruit / Vegetable Beer  \n",
       "3                American Pale Lager  \n",
       "4                             Dubbel  \n",
       "...                              ...  \n",
       "3742                    American IPA  \n",
       "3743              English Strong Ale  \n",
       "3744  American Double / Imperial IPA  \n",
       "3745             American Strong Ale  \n",
       "3746         Belgian Strong Pale Ale  \n",
       "\n",
       "[3747 rows x 3 columns]"
      ]
     },
     "execution_count": 24,
     "metadata": {},
     "output_type": "execute_result"
    }
   ],
   "source": [
    "# Parte 1\n",
    "bow_df = cervezas_df.groupby('beerId')[['beerName', 'beerStyle']].first().reset_index()\n",
    "bow_df.drop_duplicates(inplace=True)\n",
    "bow_df"
   ]
  },
  {
   "cell_type": "code",
   "execution_count": 25,
   "metadata": {},
   "outputs": [
    {
     "data": {
      "text/html": [
       "<div>\n",
       "<style scoped>\n",
       "    .dataframe tbody tr th:only-of-type {\n",
       "        vertical-align: middle;\n",
       "    }\n",
       "\n",
       "    .dataframe tbody tr th {\n",
       "        vertical-align: top;\n",
       "    }\n",
       "\n",
       "    .dataframe thead th {\n",
       "        text-align: right;\n",
       "    }\n",
       "</style>\n",
       "<table border=\"1\" class=\"dataframe\">\n",
       "  <thead>\n",
       "    <tr style=\"text-align: right;\">\n",
       "      <th></th>\n",
       "      <th>adjunct</th>\n",
       "      <th>ale</th>\n",
       "      <th>altbier</th>\n",
       "      <th>amber</th>\n",
       "      <th>american</th>\n",
       "      <th>apa</th>\n",
       "      <th>baltic</th>\n",
       "      <th>barleywine</th>\n",
       "      <th>beer</th>\n",
       "      <th>belgian</th>\n",
       "      <th>...</th>\n",
       "      <th>vienna</th>\n",
       "      <th>warmer</th>\n",
       "      <th>wee</th>\n",
       "      <th>weizenbock</th>\n",
       "      <th>wheat</th>\n",
       "      <th>wheatwine</th>\n",
       "      <th>wild</th>\n",
       "      <th>winter</th>\n",
       "      <th>witbier</th>\n",
       "      <th>zwickel</th>\n",
       "    </tr>\n",
       "  </thead>\n",
       "  <tbody>\n",
       "    <tr>\n",
       "      <th>0</th>\n",
       "      <td>0</td>\n",
       "      <td>0</td>\n",
       "      <td>0</td>\n",
       "      <td>0</td>\n",
       "      <td>0</td>\n",
       "      <td>0</td>\n",
       "      <td>0</td>\n",
       "      <td>0</td>\n",
       "      <td>0</td>\n",
       "      <td>0</td>\n",
       "      <td>...</td>\n",
       "      <td>1</td>\n",
       "      <td>0</td>\n",
       "      <td>0</td>\n",
       "      <td>0</td>\n",
       "      <td>0</td>\n",
       "      <td>0</td>\n",
       "      <td>0</td>\n",
       "      <td>0</td>\n",
       "      <td>0</td>\n",
       "      <td>0</td>\n",
       "    </tr>\n",
       "    <tr>\n",
       "      <th>1</th>\n",
       "      <td>0</td>\n",
       "      <td>1</td>\n",
       "      <td>0</td>\n",
       "      <td>0</td>\n",
       "      <td>0</td>\n",
       "      <td>0</td>\n",
       "      <td>0</td>\n",
       "      <td>0</td>\n",
       "      <td>0</td>\n",
       "      <td>0</td>\n",
       "      <td>...</td>\n",
       "      <td>0</td>\n",
       "      <td>0</td>\n",
       "      <td>0</td>\n",
       "      <td>0</td>\n",
       "      <td>0</td>\n",
       "      <td>0</td>\n",
       "      <td>0</td>\n",
       "      <td>0</td>\n",
       "      <td>0</td>\n",
       "      <td>0</td>\n",
       "    </tr>\n",
       "    <tr>\n",
       "      <th>2</th>\n",
       "      <td>0</td>\n",
       "      <td>0</td>\n",
       "      <td>0</td>\n",
       "      <td>0</td>\n",
       "      <td>0</td>\n",
       "      <td>0</td>\n",
       "      <td>0</td>\n",
       "      <td>0</td>\n",
       "      <td>1</td>\n",
       "      <td>0</td>\n",
       "      <td>...</td>\n",
       "      <td>0</td>\n",
       "      <td>0</td>\n",
       "      <td>0</td>\n",
       "      <td>0</td>\n",
       "      <td>0</td>\n",
       "      <td>0</td>\n",
       "      <td>0</td>\n",
       "      <td>0</td>\n",
       "      <td>0</td>\n",
       "      <td>0</td>\n",
       "    </tr>\n",
       "    <tr>\n",
       "      <th>3</th>\n",
       "      <td>0</td>\n",
       "      <td>0</td>\n",
       "      <td>0</td>\n",
       "      <td>0</td>\n",
       "      <td>1</td>\n",
       "      <td>0</td>\n",
       "      <td>0</td>\n",
       "      <td>0</td>\n",
       "      <td>0</td>\n",
       "      <td>0</td>\n",
       "      <td>...</td>\n",
       "      <td>0</td>\n",
       "      <td>0</td>\n",
       "      <td>0</td>\n",
       "      <td>0</td>\n",
       "      <td>0</td>\n",
       "      <td>0</td>\n",
       "      <td>0</td>\n",
       "      <td>0</td>\n",
       "      <td>0</td>\n",
       "      <td>0</td>\n",
       "    </tr>\n",
       "    <tr>\n",
       "      <th>4</th>\n",
       "      <td>0</td>\n",
       "      <td>0</td>\n",
       "      <td>0</td>\n",
       "      <td>0</td>\n",
       "      <td>0</td>\n",
       "      <td>0</td>\n",
       "      <td>0</td>\n",
       "      <td>0</td>\n",
       "      <td>0</td>\n",
       "      <td>0</td>\n",
       "      <td>...</td>\n",
       "      <td>0</td>\n",
       "      <td>0</td>\n",
       "      <td>0</td>\n",
       "      <td>0</td>\n",
       "      <td>0</td>\n",
       "      <td>0</td>\n",
       "      <td>0</td>\n",
       "      <td>0</td>\n",
       "      <td>0</td>\n",
       "      <td>0</td>\n",
       "    </tr>\n",
       "    <tr>\n",
       "      <th>...</th>\n",
       "      <td>...</td>\n",
       "      <td>...</td>\n",
       "      <td>...</td>\n",
       "      <td>...</td>\n",
       "      <td>...</td>\n",
       "      <td>...</td>\n",
       "      <td>...</td>\n",
       "      <td>...</td>\n",
       "      <td>...</td>\n",
       "      <td>...</td>\n",
       "      <td>...</td>\n",
       "      <td>...</td>\n",
       "      <td>...</td>\n",
       "      <td>...</td>\n",
       "      <td>...</td>\n",
       "      <td>...</td>\n",
       "      <td>...</td>\n",
       "      <td>...</td>\n",
       "      <td>...</td>\n",
       "      <td>...</td>\n",
       "      <td>...</td>\n",
       "    </tr>\n",
       "    <tr>\n",
       "      <th>3742</th>\n",
       "      <td>0</td>\n",
       "      <td>0</td>\n",
       "      <td>0</td>\n",
       "      <td>0</td>\n",
       "      <td>1</td>\n",
       "      <td>0</td>\n",
       "      <td>0</td>\n",
       "      <td>0</td>\n",
       "      <td>0</td>\n",
       "      <td>0</td>\n",
       "      <td>...</td>\n",
       "      <td>0</td>\n",
       "      <td>0</td>\n",
       "      <td>0</td>\n",
       "      <td>0</td>\n",
       "      <td>0</td>\n",
       "      <td>0</td>\n",
       "      <td>0</td>\n",
       "      <td>0</td>\n",
       "      <td>0</td>\n",
       "      <td>0</td>\n",
       "    </tr>\n",
       "    <tr>\n",
       "      <th>3743</th>\n",
       "      <td>0</td>\n",
       "      <td>1</td>\n",
       "      <td>0</td>\n",
       "      <td>0</td>\n",
       "      <td>0</td>\n",
       "      <td>0</td>\n",
       "      <td>0</td>\n",
       "      <td>0</td>\n",
       "      <td>0</td>\n",
       "      <td>0</td>\n",
       "      <td>...</td>\n",
       "      <td>0</td>\n",
       "      <td>0</td>\n",
       "      <td>0</td>\n",
       "      <td>0</td>\n",
       "      <td>0</td>\n",
       "      <td>0</td>\n",
       "      <td>0</td>\n",
       "      <td>0</td>\n",
       "      <td>0</td>\n",
       "      <td>0</td>\n",
       "    </tr>\n",
       "    <tr>\n",
       "      <th>3744</th>\n",
       "      <td>0</td>\n",
       "      <td>0</td>\n",
       "      <td>0</td>\n",
       "      <td>0</td>\n",
       "      <td>1</td>\n",
       "      <td>0</td>\n",
       "      <td>0</td>\n",
       "      <td>0</td>\n",
       "      <td>0</td>\n",
       "      <td>0</td>\n",
       "      <td>...</td>\n",
       "      <td>0</td>\n",
       "      <td>0</td>\n",
       "      <td>0</td>\n",
       "      <td>0</td>\n",
       "      <td>0</td>\n",
       "      <td>0</td>\n",
       "      <td>0</td>\n",
       "      <td>0</td>\n",
       "      <td>0</td>\n",
       "      <td>0</td>\n",
       "    </tr>\n",
       "    <tr>\n",
       "      <th>3745</th>\n",
       "      <td>0</td>\n",
       "      <td>1</td>\n",
       "      <td>0</td>\n",
       "      <td>0</td>\n",
       "      <td>1</td>\n",
       "      <td>0</td>\n",
       "      <td>0</td>\n",
       "      <td>0</td>\n",
       "      <td>0</td>\n",
       "      <td>0</td>\n",
       "      <td>...</td>\n",
       "      <td>0</td>\n",
       "      <td>0</td>\n",
       "      <td>0</td>\n",
       "      <td>0</td>\n",
       "      <td>0</td>\n",
       "      <td>0</td>\n",
       "      <td>0</td>\n",
       "      <td>0</td>\n",
       "      <td>0</td>\n",
       "      <td>0</td>\n",
       "    </tr>\n",
       "    <tr>\n",
       "      <th>3746</th>\n",
       "      <td>0</td>\n",
       "      <td>1</td>\n",
       "      <td>0</td>\n",
       "      <td>0</td>\n",
       "      <td>0</td>\n",
       "      <td>0</td>\n",
       "      <td>0</td>\n",
       "      <td>0</td>\n",
       "      <td>0</td>\n",
       "      <td>1</td>\n",
       "      <td>...</td>\n",
       "      <td>0</td>\n",
       "      <td>0</td>\n",
       "      <td>0</td>\n",
       "      <td>0</td>\n",
       "      <td>0</td>\n",
       "      <td>0</td>\n",
       "      <td>0</td>\n",
       "      <td>0</td>\n",
       "      <td>0</td>\n",
       "      <td>0</td>\n",
       "    </tr>\n",
       "  </tbody>\n",
       "</table>\n",
       "<p>3747 rows × 95 columns</p>\n",
       "</div>"
      ],
      "text/plain": [
       "      adjunct  ale  altbier  amber  american  apa  baltic  barleywine  beer  \\\n",
       "0           0    0        0      0         0    0       0           0     0   \n",
       "1           0    1        0      0         0    0       0           0     0   \n",
       "2           0    0        0      0         0    0       0           0     1   \n",
       "3           0    0        0      0         1    0       0           0     0   \n",
       "4           0    0        0      0         0    0       0           0     0   \n",
       "...       ...  ...      ...    ...       ...  ...     ...         ...   ...   \n",
       "3742        0    0        0      0         1    0       0           0     0   \n",
       "3743        0    1        0      0         0    0       0           0     0   \n",
       "3744        0    0        0      0         1    0       0           0     0   \n",
       "3745        0    1        0      0         1    0       0           0     0   \n",
       "3746        0    1        0      0         0    0       0           0     0   \n",
       "\n",
       "      belgian  ...  vienna  warmer  wee  weizenbock  wheat  wheatwine  wild  \\\n",
       "0           0  ...       1       0    0           0      0          0     0   \n",
       "1           0  ...       0       0    0           0      0          0     0   \n",
       "2           0  ...       0       0    0           0      0          0     0   \n",
       "3           0  ...       0       0    0           0      0          0     0   \n",
       "4           0  ...       0       0    0           0      0          0     0   \n",
       "...       ...  ...     ...     ...  ...         ...    ...        ...   ...   \n",
       "3742        0  ...       0       0    0           0      0          0     0   \n",
       "3743        0  ...       0       0    0           0      0          0     0   \n",
       "3744        0  ...       0       0    0           0      0          0     0   \n",
       "3745        0  ...       0       0    0           0      0          0     0   \n",
       "3746        1  ...       0       0    0           0      0          0     0   \n",
       "\n",
       "      winter  witbier  zwickel  \n",
       "0          0        0        0  \n",
       "1          0        0        0  \n",
       "2          0        0        0  \n",
       "3          0        0        0  \n",
       "4          0        0        0  \n",
       "...      ...      ...      ...  \n",
       "3742       0        0        0  \n",
       "3743       0        0        0  \n",
       "3744       0        0        0  \n",
       "3745       0        0        0  \n",
       "3746       0        0        0  \n",
       "\n",
       "[3747 rows x 95 columns]"
      ]
     },
     "execution_count": 25,
     "metadata": {},
     "output_type": "execute_result"
    }
   ],
   "source": [
    "# Parte 2\n",
    "vectorizer = CountVectorizer(lowercase=True, # minúsculas\n",
    "                             stop_words='english', # eliminar stopwords en inglés\n",
    "                             min_df=10) # mínimo de 10 ocurrencias\n",
    "bow_matrix = vectorizer.fit_transform(bow_df['beerStyle']).toarray()\n",
    "bow_matrix = pd.DataFrame(bow_matrix, columns=vectorizer.get_feature_names_out())\n",
    "bow_matrix"
   ]
  },
  {
   "cell_type": "code",
   "execution_count": 26,
   "metadata": {},
   "outputs": [
    {
     "data": {
      "text/plain": [
       "array([[1.        , 0.        , 0.        , ..., 0.        , 0.        ,\n",
       "        0.        ],\n",
       "       [0.        , 1.        , 0.        , ..., 0.        , 0.33333333,\n",
       "        0.28867513],\n",
       "       [0.        , 0.        , 1.        , ..., 0.        , 0.        ,\n",
       "        0.        ],\n",
       "       ...,\n",
       "       [0.        , 0.        , 0.        , ..., 1.        , 0.28867513,\n",
       "        0.        ],\n",
       "       [0.        , 0.33333333, 0.        , ..., 0.28867513, 1.        ,\n",
       "        0.57735027],\n",
       "       [0.        , 0.28867513, 0.        , ..., 0.        , 0.57735027,\n",
       "        1.        ]])"
      ]
     },
     "execution_count": 26,
     "metadata": {},
     "output_type": "execute_result"
    }
   ],
   "source": [
    "# Parte 3\n",
    "cosine_sim = cosine_similarity(bow_matrix)\n",
    "cosine_sim"
   ]
  },
  {
   "cell_type": "code",
   "execution_count": 28,
   "metadata": {},
   "outputs": [],
   "source": [
    "# Función para obtener recomendaciones de cerveza basadas en similitud coseno\n",
    "def get_beer_recommendations(df, beer, k = 5):\n",
    "\n",
    "  \"\"\"\n",
    "  Input:\n",
    "    - df: DataFrame con las columnas 'beerId', 'beerName' y 'beerStyle'.\n",
    "    - beer: Nombre de la cerveza para la cual se quieren recomendaciones.\n",
    "    - k: Número de recomendaciones a retornar (default = 5).\n",
    "  Output:\n",
    "    - Lista de nombres de las k cervezas más similares a la cerveza especificada, ocupando similitud coseno.\n",
    "  \"\"\"\n",
    "\n",
    "  assert beer in df['beerName'].values, 'La cerveza no se encuentra en el dataset!'\n",
    "\n",
    "  # Obtener el índice de la cerveza especificada\n",
    "  idx = df[df['beerName'] == beer].index[0]\n",
    "\n",
    "  # Obtener las puntuaciones de similitud coseno para la cerveza especificada\n",
    "  sim_scores = list(enumerate(cosine_sim[idx]))\n",
    "\n",
    "  # Ordenar las puntuaciones de similitud en orden descendente\n",
    "  sim_scores = sorted(sim_scores, key=lambda x: x[1], reverse=True)\n",
    "\n",
    "  # Obtener las k cervezas más similares (excluyendo la cerveza misma)\n",
    "  sim_scores = sim_scores[1:k+1]\n",
    "\n",
    "  # Obtener los índices de las cervezas más similares\n",
    "  beer_indices = [i[0] for i in sim_scores]\n",
    "\n",
    "  # Return the top k most similar movies\n",
    "  return df['beerName'].iloc[beer_indices].values"
   ]
  },
  {
   "cell_type": "code",
   "execution_count": 29,
   "metadata": {},
   "outputs": [
    {
     "data": {
      "text/plain": [
       "array(['Blackhook Porter', 'Anchor Porter', 'Coffeehouse Porter',\n",
       "       \"Drayman's Porter\", 'Stone Smoked Porter'], dtype=object)"
      ]
     },
     "execution_count": 29,
     "metadata": {},
     "output_type": "execute_result"
    }
   ],
   "source": [
    "get_beer_recommendations(bow_df, 'Chocolate Porter', k=5)"
   ]
  },
  {
   "cell_type": "code",
   "execution_count": 30,
   "metadata": {},
   "outputs": [
    {
     "name": "stdout",
     "output_type": "stream",
     "text": [
      "Cerveza favorita del usuario 100: McNeill's Firehouse Amber Ale\n"
     ]
    }
   ],
   "source": [
    "# Parte 4\n",
    "userId = 100 # usuario a recomendar\n",
    "user_beers = cervezas_df[cervezas_df['userId'] == userId].sort_values('rating', ascending = False)\n",
    "best_beer = user_beers.iloc[0]['beerName']\n",
    "print(f'Cerveza favorita del usuario {userId}: {best_beer}')"
   ]
  },
  {
   "cell_type": "code",
   "execution_count": 31,
   "metadata": {},
   "outputs": [
    {
     "data": {
      "text/plain": [
       "array(['Full Sail Amber', \"McNeill's Firehouse Amber Ale\", 'Grail Ale',\n",
       "       'American Amber Ale', \"Ruedrich's Red Seal Ale\"], dtype=object)"
      ]
     },
     "execution_count": 31,
     "metadata": {},
     "output_type": "execute_result"
    }
   ],
   "source": [
    "get_beer_recommendations(bow_df, best_beer, k=5)"
   ]
  },
  {
   "cell_type": "markdown",
   "metadata": {
    "id": "c7pMOOedwGQu"
   },
   "source": [
    "## 2.3 Filtros Colaborativos [16 puntos]"
   ]
  },
  {
   "cell_type": "markdown",
   "metadata": {
    "id": "P9tgPpoa_Utx"
   },
   "source": [
    "<center>\n",
    "<img src =\"https://i.makeagif.com/media/2-08-2016/McmGFQ.gif\" width = 400 />"
   ]
  },
  {
   "cell_type": "markdown",
   "metadata": {
    "id": "DJeoHmbQA9uK"
   },
   "source": [
    "Después de consolidarse como el Barón de la Cerveza en Springfield, Homero Simpson decidió llevar su negocio clandestino a otro nivel. Al ser el único proveedor de alcohol en la ciudad, quiere asegurarse de que cada cerveza que elabora sea de la mejor calidad posible. Para lograrlo, planea usar las evaluaciones pasadas que los ciudadanos de Springfield han registrado sobre las distintas cervezas. Inspirado por los consejos de su amigo Moe, Homero se enteró de que puede implementar un sistema de recomendación basado en filtros colaborativos.\n",
    "\n",
    "Ahora, Homero necesita de su ayuda para diseñar y elaborar distintos sistemas de filtros colaborativos que le permitan continuar con su reinado cervecero."
   ]
  },
  {
   "cell_type": "markdown",
   "metadata": {
    "id": "oGCI_UeUwHcw"
   },
   "source": [
    "### 2.3.1 Filtros Colaborativos Basados en Memoria [8 puntos]"
   ]
  },
  {
   "cell_type": "markdown",
   "metadata": {
    "id": "pWnf00k4BdyC"
   },
   "source": [
    "Para este tipo de filtros, Homero le pide lo siguiente:\n",
    "\n",
    "1. Transforme el DataFrame de `pandas` a Dataset de `surprise`. `Hint`: Utilice solamente los identificadores de ciudadano, cerveza y rating. ¿Importa el orden? [1 punto]\n",
    "2. Genere un conjunto de entrenamiento y uno de prueba, asegurando que el 30% de los datos sea destinado al conjunto de prueba. No olvide fijar una semilla para garantizar reproducibilidad. [1 punto]\n",
    "3. Entrene un modelo de **KNN basado en usuarios** utilizando la `similitud coseno`. Luego realice predicciones en el conjunto de prueba. `Nota`: Le puede ser útil la siguiente [documentación](https://surprise.readthedocs.io/en/stable/knn_inspired.html) [2 puntos]\n",
    "4. Calcule el MAE (Mean Absolute Error) de las predicciones realizadas por el modelo y muestre las predicciones en un DataFrame para su análisis. `Nota:` Le puede ser útil la siguiente [documentación](https://surprise.readthedocs.io/en/stable/accuracy.html#surprise.accuracy.mae) [2 puntos]\n",
    "5. Repita los pasos 3 y 4 pero utilizando un modelo de **KNN basado en los productos**. [2 puntos]"
   ]
  },
  {
   "cell_type": "markdown",
   "metadata": {
    "id": "IBAY-wkNTfFu"
   },
   "source": [
    "**Respuesta:**"
   ]
  },
  {
   "cell_type": "code",
   "execution_count": null,
   "metadata": {
    "id": "M6GZBM2uTig4"
   },
   "outputs": [
    {
     "name": "stdout",
     "output_type": "stream",
     "text": [
      "Computing the cosine similarity matrix...\n",
      "Done computing similarity matrix.\n",
      "MAE del modelo KNN basado en usuarios: 0.46489\n",
      "\n",
      "Computing the cosine similarity matrix...\n",
      "Done computing similarity matrix.\n",
      "MAE del modelo KNN basado en productos: 0.46471\n"
     ]
    }
   ],
   "source": [
    "# Parte 1: Transformar Dataframe de pandas a Dataset de surprise (ya fue realizado en sección 2.1.2)\n",
    "# Obs: El orden de las columnas es importante, mas no el orden de los valores de IDs.\n",
    "reader = Reader(rating_scale = (1, 5))\n",
    "colab_df = cervezas_df[['userId', 'beerId', 'rating']].copy()\n",
    "dataset = Dataset.load_from_df(colab_df, reader)\n",
    "\n",
    "# Parte 2: Generar un conjunto de entrenamiento y otro de test en proporción 70/30\n",
    "trainset, testset = train_test_split(data = dataset, test_size = 0.3, random_state = 13)\n",
    "\n",
    "# Parte 3: Entrenar un modelo KNN basado en usuarios, usando como métrica la similitud coseno\n",
    "knn_model = KNNBasic(sim_options = {'name': 'cosine', 'user_based': True})\n",
    "knn_model.fit(trainset)\n",
    "predictions = knn_model.test(testset)\n",
    "\n",
    "# Parte 4: Calcular el MAE de las predicciones\n",
    "mae_score = mae(predictions, verbose = False)\n",
    "print(f'MAE del modelo KNN basado en usuarios: {mae_score:.5f}\\n')\n",
    "\n",
    "# Parte 5: Entrenar KNN basado en productos\n",
    "knn_model_item = KNNBasic(sim_options = {'name': 'cosine', 'user_based': False})\n",
    "knn_model_item.fit(trainset)\n",
    "predictions_item = knn_model_item.test(testset)\n",
    "mae_score_item = mae(predictions_item, verbose = False)\n",
    "print(f'MAE del modelo KNN basado en productos: {mae_score_item:.5f}')"
   ]
  },
  {
   "cell_type": "code",
   "execution_count": null,
   "metadata": {},
   "outputs": [
    {
     "data": {
      "text/html": [
       "<div>\n",
       "<style scoped>\n",
       "    .dataframe tbody tr th:only-of-type {\n",
       "        vertical-align: middle;\n",
       "    }\n",
       "\n",
       "    .dataframe tbody tr th {\n",
       "        vertical-align: top;\n",
       "    }\n",
       "\n",
       "    .dataframe thead th {\n",
       "        text-align: right;\n",
       "    }\n",
       "</style>\n",
       "<table border=\"1\" class=\"dataframe\">\n",
       "  <thead>\n",
       "    <tr style=\"text-align: right;\">\n",
       "      <th></th>\n",
       "      <th>userId</th>\n",
       "      <th>beerId</th>\n",
       "      <th>true_rating</th>\n",
       "      <th>predicted_rating</th>\n",
       "      <th>details</th>\n",
       "    </tr>\n",
       "  </thead>\n",
       "  <tbody>\n",
       "    <tr>\n",
       "      <th>0</th>\n",
       "      <td>16866</td>\n",
       "      <td>52367</td>\n",
       "      <td>4.0</td>\n",
       "      <td>4.125000</td>\n",
       "      <td>{'actual_k': 12, 'was_impossible': False}</td>\n",
       "    </tr>\n",
       "    <tr>\n",
       "      <th>1</th>\n",
       "      <td>812</td>\n",
       "      <td>2519</td>\n",
       "      <td>4.0</td>\n",
       "      <td>4.027778</td>\n",
       "      <td>{'actual_k': 18, 'was_impossible': False}</td>\n",
       "    </tr>\n",
       "    <tr>\n",
       "      <th>2</th>\n",
       "      <td>13371</td>\n",
       "      <td>31547</td>\n",
       "      <td>4.0</td>\n",
       "      <td>4.062500</td>\n",
       "      <td>{'actual_k': 24, 'was_impossible': False}</td>\n",
       "    </tr>\n",
       "    <tr>\n",
       "      <th>3</th>\n",
       "      <td>1853</td>\n",
       "      <td>5996</td>\n",
       "      <td>4.0</td>\n",
       "      <td>4.166667</td>\n",
       "      <td>{'actual_k': 21, 'was_impossible': False}</td>\n",
       "    </tr>\n",
       "    <tr>\n",
       "      <th>4</th>\n",
       "      <td>9790</td>\n",
       "      <td>27249</td>\n",
       "      <td>4.0</td>\n",
       "      <td>3.925000</td>\n",
       "      <td>{'actual_k': 40, 'was_impossible': False}</td>\n",
       "    </tr>\n",
       "    <tr>\n",
       "      <th>...</th>\n",
       "      <td>...</td>\n",
       "      <td>...</td>\n",
       "      <td>...</td>\n",
       "      <td>...</td>\n",
       "      <td>...</td>\n",
       "    </tr>\n",
       "    <tr>\n",
       "      <th>88513</th>\n",
       "      <td>220</td>\n",
       "      <td>44896</td>\n",
       "      <td>4.5</td>\n",
       "      <td>4.083333</td>\n",
       "      <td>{'actual_k': 36, 'was_impossible': False}</td>\n",
       "    </tr>\n",
       "    <tr>\n",
       "      <th>88514</th>\n",
       "      <td>141</td>\n",
       "      <td>28305</td>\n",
       "      <td>4.0</td>\n",
       "      <td>3.887500</td>\n",
       "      <td>{'actual_k': 40, 'was_impossible': False}</td>\n",
       "    </tr>\n",
       "    <tr>\n",
       "      <th>88515</th>\n",
       "      <td>42</td>\n",
       "      <td>16506</td>\n",
       "      <td>4.5</td>\n",
       "      <td>3.937500</td>\n",
       "      <td>{'actual_k': 40, 'was_impossible': False}</td>\n",
       "    </tr>\n",
       "    <tr>\n",
       "      <th>88516</th>\n",
       "      <td>99</td>\n",
       "      <td>36028</td>\n",
       "      <td>4.0</td>\n",
       "      <td>3.662500</td>\n",
       "      <td>{'actual_k': 40, 'was_impossible': False}</td>\n",
       "    </tr>\n",
       "    <tr>\n",
       "      <th>88517</th>\n",
       "      <td>696</td>\n",
       "      <td>20389</td>\n",
       "      <td>4.0</td>\n",
       "      <td>4.012500</td>\n",
       "      <td>{'actual_k': 40, 'was_impossible': False}</td>\n",
       "    </tr>\n",
       "  </tbody>\n",
       "</table>\n",
       "<p>88518 rows × 5 columns</p>\n",
       "</div>"
      ],
      "text/plain": [
       "       userId  beerId  true_rating  predicted_rating  \\\n",
       "0       16866   52367          4.0          4.125000   \n",
       "1         812    2519          4.0          4.027778   \n",
       "2       13371   31547          4.0          4.062500   \n",
       "3        1853    5996          4.0          4.166667   \n",
       "4        9790   27249          4.0          3.925000   \n",
       "...       ...     ...          ...               ...   \n",
       "88513     220   44896          4.5          4.083333   \n",
       "88514     141   28305          4.0          3.887500   \n",
       "88515      42   16506          4.5          3.937500   \n",
       "88516      99   36028          4.0          3.662500   \n",
       "88517     696   20389          4.0          4.012500   \n",
       "\n",
       "                                         details  \n",
       "0      {'actual_k': 12, 'was_impossible': False}  \n",
       "1      {'actual_k': 18, 'was_impossible': False}  \n",
       "2      {'actual_k': 24, 'was_impossible': False}  \n",
       "3      {'actual_k': 21, 'was_impossible': False}  \n",
       "4      {'actual_k': 40, 'was_impossible': False}  \n",
       "...                                          ...  \n",
       "88513  {'actual_k': 36, 'was_impossible': False}  \n",
       "88514  {'actual_k': 40, 'was_impossible': False}  \n",
       "88515  {'actual_k': 40, 'was_impossible': False}  \n",
       "88516  {'actual_k': 40, 'was_impossible': False}  \n",
       "88517  {'actual_k': 40, 'was_impossible': False}  \n",
       "\n",
       "[88518 rows x 5 columns]"
      ]
     },
     "execution_count": 35,
     "metadata": {},
     "output_type": "execute_result"
    }
   ],
   "source": [
    "# Parte 4: DataFrame con las predicciones basadas en usuarios\n",
    "user_pred_df = pd.DataFrame(predictions, columns=['userId', 'beerId', 'true_rating', 'predicted_rating', 'details'])\n",
    "user_pred_df"
   ]
  },
  {
   "cell_type": "code",
   "execution_count": null,
   "metadata": {},
   "outputs": [
    {
     "data": {
      "text/html": [
       "<div>\n",
       "<style scoped>\n",
       "    .dataframe tbody tr th:only-of-type {\n",
       "        vertical-align: middle;\n",
       "    }\n",
       "\n",
       "    .dataframe tbody tr th {\n",
       "        vertical-align: top;\n",
       "    }\n",
       "\n",
       "    .dataframe thead th {\n",
       "        text-align: right;\n",
       "    }\n",
       "</style>\n",
       "<table border=\"1\" class=\"dataframe\">\n",
       "  <thead>\n",
       "    <tr style=\"text-align: right;\">\n",
       "      <th></th>\n",
       "      <th>userId</th>\n",
       "      <th>beerId</th>\n",
       "      <th>true_rating</th>\n",
       "      <th>predicted_rating</th>\n",
       "      <th>details</th>\n",
       "    </tr>\n",
       "  </thead>\n",
       "  <tbody>\n",
       "    <tr>\n",
       "      <th>0</th>\n",
       "      <td>16866</td>\n",
       "      <td>52367</td>\n",
       "      <td>4.0</td>\n",
       "      <td>4.162352</td>\n",
       "      <td>{'actual_k': 40, 'was_impossible': False}</td>\n",
       "    </tr>\n",
       "    <tr>\n",
       "      <th>1</th>\n",
       "      <td>812</td>\n",
       "      <td>2519</td>\n",
       "      <td>4.0</td>\n",
       "      <td>3.987859</td>\n",
       "      <td>{'actual_k': 40, 'was_impossible': False}</td>\n",
       "    </tr>\n",
       "    <tr>\n",
       "      <th>2</th>\n",
       "      <td>13371</td>\n",
       "      <td>31547</td>\n",
       "      <td>4.0</td>\n",
       "      <td>4.124389</td>\n",
       "      <td>{'actual_k': 40, 'was_impossible': False}</td>\n",
       "    </tr>\n",
       "    <tr>\n",
       "      <th>3</th>\n",
       "      <td>1853</td>\n",
       "      <td>5996</td>\n",
       "      <td>4.0</td>\n",
       "      <td>4.150134</td>\n",
       "      <td>{'actual_k': 40, 'was_impossible': False}</td>\n",
       "    </tr>\n",
       "    <tr>\n",
       "      <th>4</th>\n",
       "      <td>9790</td>\n",
       "      <td>27249</td>\n",
       "      <td>4.0</td>\n",
       "      <td>3.925000</td>\n",
       "      <td>{'actual_k': 40, 'was_impossible': False}</td>\n",
       "    </tr>\n",
       "    <tr>\n",
       "      <th>...</th>\n",
       "      <td>...</td>\n",
       "      <td>...</td>\n",
       "      <td>...</td>\n",
       "      <td>...</td>\n",
       "      <td>...</td>\n",
       "    </tr>\n",
       "    <tr>\n",
       "      <th>88513</th>\n",
       "      <td>220</td>\n",
       "      <td>44896</td>\n",
       "      <td>4.5</td>\n",
       "      <td>4.112232</td>\n",
       "      <td>{'actual_k': 40, 'was_impossible': False}</td>\n",
       "    </tr>\n",
       "    <tr>\n",
       "      <th>88514</th>\n",
       "      <td>141</td>\n",
       "      <td>28305</td>\n",
       "      <td>4.0</td>\n",
       "      <td>3.887500</td>\n",
       "      <td>{'actual_k': 40, 'was_impossible': False}</td>\n",
       "    </tr>\n",
       "    <tr>\n",
       "      <th>88515</th>\n",
       "      <td>42</td>\n",
       "      <td>16506</td>\n",
       "      <td>4.5</td>\n",
       "      <td>3.937500</td>\n",
       "      <td>{'actual_k': 40, 'was_impossible': False}</td>\n",
       "    </tr>\n",
       "    <tr>\n",
       "      <th>88516</th>\n",
       "      <td>99</td>\n",
       "      <td>36028</td>\n",
       "      <td>4.0</td>\n",
       "      <td>3.662500</td>\n",
       "      <td>{'actual_k': 40, 'was_impossible': False}</td>\n",
       "    </tr>\n",
       "    <tr>\n",
       "      <th>88517</th>\n",
       "      <td>696</td>\n",
       "      <td>20389</td>\n",
       "      <td>4.0</td>\n",
       "      <td>4.012500</td>\n",
       "      <td>{'actual_k': 40, 'was_impossible': False}</td>\n",
       "    </tr>\n",
       "  </tbody>\n",
       "</table>\n",
       "<p>88518 rows × 5 columns</p>\n",
       "</div>"
      ],
      "text/plain": [
       "       userId  beerId  true_rating  predicted_rating  \\\n",
       "0       16866   52367          4.0          4.162352   \n",
       "1         812    2519          4.0          3.987859   \n",
       "2       13371   31547          4.0          4.124389   \n",
       "3        1853    5996          4.0          4.150134   \n",
       "4        9790   27249          4.0          3.925000   \n",
       "...       ...     ...          ...               ...   \n",
       "88513     220   44896          4.5          4.112232   \n",
       "88514     141   28305          4.0          3.887500   \n",
       "88515      42   16506          4.5          3.937500   \n",
       "88516      99   36028          4.0          3.662500   \n",
       "88517     696   20389          4.0          4.012500   \n",
       "\n",
       "                                         details  \n",
       "0      {'actual_k': 40, 'was_impossible': False}  \n",
       "1      {'actual_k': 40, 'was_impossible': False}  \n",
       "2      {'actual_k': 40, 'was_impossible': False}  \n",
       "3      {'actual_k': 40, 'was_impossible': False}  \n",
       "4      {'actual_k': 40, 'was_impossible': False}  \n",
       "...                                          ...  \n",
       "88513  {'actual_k': 40, 'was_impossible': False}  \n",
       "88514  {'actual_k': 40, 'was_impossible': False}  \n",
       "88515  {'actual_k': 40, 'was_impossible': False}  \n",
       "88516  {'actual_k': 40, 'was_impossible': False}  \n",
       "88517  {'actual_k': 40, 'was_impossible': False}  \n",
       "\n",
       "[88518 rows x 5 columns]"
      ]
     },
     "execution_count": 36,
     "metadata": {},
     "output_type": "execute_result"
    }
   ],
   "source": [
    "# Parte 5: DataFrame con las predicciones basadas en productos\n",
    "item_pred_df = pd.DataFrame(predictions_item, columns=['userId', 'beerId', 'true_rating', 'predicted_rating', 'details'])\n",
    "item_pred_df"
   ]
  },
  {
   "cell_type": "markdown",
   "metadata": {
    "id": "rhYHlQYowqd_"
   },
   "source": [
    "### 2.3.2 Filtros Colaborativos Basados en Modelo [8 puntos]"
   ]
  },
  {
   "cell_type": "markdown",
   "metadata": {
    "id": "lLRjmyYDGgWq"
   },
   "source": [
    "Ahora Homero le pide que cambie el enfoque del tipo de filtro colaborativo a uno basado en modelo. Por ende, Homero le pide lo siguiente:\n",
    "\n",
    "1. Entrene un modelo `NMF` , asegurándose de fijar la semilla para reproducibilidad. Luego genere predicciones para el conjunto de prueba. [2 puntos]\n",
    "2. Calcule el MAE de las predicciones obtenidas y muestre los resultados de las predicciones en un DataFrame para su analisis. [1 punto]\n",
    "3. Entrene un modelo `SVD` sobre el conjunto de entrenamiento. Posteriormente, genere las predicciones para el conjunto de prueba. [2 puntos]\n",
    "4. Calcule el MAE de las predicciones y muestre los resultados de las predicciones en un DataFrame. [1 punto]\n",
    "5. Compare los resultados de ambos modelos y seleccione el mejor a su criterio. Justifique. [2 puntos]"
   ]
  },
  {
   "cell_type": "markdown",
   "metadata": {
    "id": "BkH_1GJiTk95"
   },
   "source": [
    "**Respuesta**"
   ]
  },
  {
   "cell_type": "code",
   "execution_count": null,
   "metadata": {
    "id": "DpZm03aUTmu-"
   },
   "outputs": [
    {
     "name": "stdout",
     "output_type": "stream",
     "text": [
      "MAE del modelo NMF: 0.48355\n",
      "MAE del modelo SVD: 0.46186\n"
     ]
    }
   ],
   "source": [
    "# Parte 1: Entrenar un modelo NMF\n",
    "nmf_model = NMF(random_state=13)\n",
    "nmf_model.fit(trainset)\n",
    "predictions_nmf = nmf_model.test(testset)\n",
    "\n",
    "# Parte 2: Calcular el MAE de las predicciones\n",
    "mae_score_nmf = mae(predictions_nmf, verbose = False)\n",
    "print(f'MAE del modelo NMF: {mae_score_nmf:.5f}')\n",
    "\n",
    "# Parte 3: Entrenar un modelo SVD\n",
    "svd_model = SVD(random_state=13)\n",
    "svd_model.fit(trainset)\n",
    "predictions_svd = svd_model.test(testset)\n",
    "\n",
    "# Parte 4: Calcular el MAE de las predicciones y mostrar las predicciones\n",
    "mae_score_svd = mae(predictions_svd, verbose = False)\n",
    "print(f'MAE del modelo SVD: {mae_score_svd:.5f}')"
   ]
  },
  {
   "cell_type": "code",
   "execution_count": null,
   "metadata": {},
   "outputs": [
    {
     "data": {
      "text/html": [
       "<div>\n",
       "<style scoped>\n",
       "    .dataframe tbody tr th:only-of-type {\n",
       "        vertical-align: middle;\n",
       "    }\n",
       "\n",
       "    .dataframe tbody tr th {\n",
       "        vertical-align: top;\n",
       "    }\n",
       "\n",
       "    .dataframe thead th {\n",
       "        text-align: right;\n",
       "    }\n",
       "</style>\n",
       "<table border=\"1\" class=\"dataframe\">\n",
       "  <thead>\n",
       "    <tr style=\"text-align: right;\">\n",
       "      <th></th>\n",
       "      <th>uid</th>\n",
       "      <th>iid</th>\n",
       "      <th>r_ui</th>\n",
       "      <th>est</th>\n",
       "    </tr>\n",
       "  </thead>\n",
       "  <tbody>\n",
       "    <tr>\n",
       "      <th>0</th>\n",
       "      <td>16866</td>\n",
       "      <td>52367</td>\n",
       "      <td>4.0</td>\n",
       "      <td>4.023595</td>\n",
       "    </tr>\n",
       "    <tr>\n",
       "      <th>1</th>\n",
       "      <td>812</td>\n",
       "      <td>2519</td>\n",
       "      <td>4.0</td>\n",
       "      <td>3.857707</td>\n",
       "    </tr>\n",
       "    <tr>\n",
       "      <th>2</th>\n",
       "      <td>13371</td>\n",
       "      <td>31547</td>\n",
       "      <td>4.0</td>\n",
       "      <td>4.069109</td>\n",
       "    </tr>\n",
       "    <tr>\n",
       "      <th>3</th>\n",
       "      <td>1853</td>\n",
       "      <td>5996</td>\n",
       "      <td>4.0</td>\n",
       "      <td>4.025250</td>\n",
       "    </tr>\n",
       "    <tr>\n",
       "      <th>4</th>\n",
       "      <td>9790</td>\n",
       "      <td>27249</td>\n",
       "      <td>4.0</td>\n",
       "      <td>3.925765</td>\n",
       "    </tr>\n",
       "    <tr>\n",
       "      <th>...</th>\n",
       "      <td>...</td>\n",
       "      <td>...</td>\n",
       "      <td>...</td>\n",
       "      <td>...</td>\n",
       "    </tr>\n",
       "    <tr>\n",
       "      <th>88513</th>\n",
       "      <td>220</td>\n",
       "      <td>44896</td>\n",
       "      <td>4.5</td>\n",
       "      <td>4.137211</td>\n",
       "    </tr>\n",
       "    <tr>\n",
       "      <th>88514</th>\n",
       "      <td>141</td>\n",
       "      <td>28305</td>\n",
       "      <td>4.0</td>\n",
       "      <td>3.738607</td>\n",
       "    </tr>\n",
       "    <tr>\n",
       "      <th>88515</th>\n",
       "      <td>42</td>\n",
       "      <td>16506</td>\n",
       "      <td>4.5</td>\n",
       "      <td>3.892530</td>\n",
       "    </tr>\n",
       "    <tr>\n",
       "      <th>88516</th>\n",
       "      <td>99</td>\n",
       "      <td>36028</td>\n",
       "      <td>4.0</td>\n",
       "      <td>3.731063</td>\n",
       "    </tr>\n",
       "    <tr>\n",
       "      <th>88517</th>\n",
       "      <td>696</td>\n",
       "      <td>20389</td>\n",
       "      <td>4.0</td>\n",
       "      <td>3.792388</td>\n",
       "    </tr>\n",
       "  </tbody>\n",
       "</table>\n",
       "<p>88518 rows × 4 columns</p>\n",
       "</div>"
      ],
      "text/plain": [
       "         uid    iid  r_ui       est\n",
       "0      16866  52367   4.0  4.023595\n",
       "1        812   2519   4.0  3.857707\n",
       "2      13371  31547   4.0  4.069109\n",
       "3       1853   5996   4.0  4.025250\n",
       "4       9790  27249   4.0  3.925765\n",
       "...      ...    ...   ...       ...\n",
       "88513    220  44896   4.5  4.137211\n",
       "88514    141  28305   4.0  3.738607\n",
       "88515     42  16506   4.5  3.892530\n",
       "88516     99  36028   4.0  3.731063\n",
       "88517    696  20389   4.0  3.792388\n",
       "\n",
       "[88518 rows x 4 columns]"
      ]
     },
     "execution_count": 40,
     "metadata": {},
     "output_type": "execute_result"
    }
   ],
   "source": [
    "# Parte 2: DataFrame con las predicciones del modelo NMF\n",
    "nmf_pred_df = pd.DataFrame(predictions_nmf).drop(columns=['details'])\n",
    "nmf_pred_df"
   ]
  },
  {
   "cell_type": "code",
   "execution_count": null,
   "metadata": {},
   "outputs": [
    {
     "data": {
      "text/html": [
       "<div>\n",
       "<style scoped>\n",
       "    .dataframe tbody tr th:only-of-type {\n",
       "        vertical-align: middle;\n",
       "    }\n",
       "\n",
       "    .dataframe tbody tr th {\n",
       "        vertical-align: top;\n",
       "    }\n",
       "\n",
       "    .dataframe thead th {\n",
       "        text-align: right;\n",
       "    }\n",
       "</style>\n",
       "<table border=\"1\" class=\"dataframe\">\n",
       "  <thead>\n",
       "    <tr style=\"text-align: right;\">\n",
       "      <th></th>\n",
       "      <th>uid</th>\n",
       "      <th>iid</th>\n",
       "      <th>r_ui</th>\n",
       "      <th>est</th>\n",
       "    </tr>\n",
       "  </thead>\n",
       "  <tbody>\n",
       "    <tr>\n",
       "      <th>0</th>\n",
       "      <td>16866</td>\n",
       "      <td>52367</td>\n",
       "      <td>4.0</td>\n",
       "      <td>4.058352</td>\n",
       "    </tr>\n",
       "    <tr>\n",
       "      <th>1</th>\n",
       "      <td>812</td>\n",
       "      <td>2519</td>\n",
       "      <td>4.0</td>\n",
       "      <td>4.033744</td>\n",
       "    </tr>\n",
       "    <tr>\n",
       "      <th>2</th>\n",
       "      <td>13371</td>\n",
       "      <td>31547</td>\n",
       "      <td>4.0</td>\n",
       "      <td>4.036764</td>\n",
       "    </tr>\n",
       "    <tr>\n",
       "      <th>3</th>\n",
       "      <td>1853</td>\n",
       "      <td>5996</td>\n",
       "      <td>4.0</td>\n",
       "      <td>4.137310</td>\n",
       "    </tr>\n",
       "    <tr>\n",
       "      <th>4</th>\n",
       "      <td>9790</td>\n",
       "      <td>27249</td>\n",
       "      <td>4.0</td>\n",
       "      <td>3.935477</td>\n",
       "    </tr>\n",
       "    <tr>\n",
       "      <th>...</th>\n",
       "      <td>...</td>\n",
       "      <td>...</td>\n",
       "      <td>...</td>\n",
       "      <td>...</td>\n",
       "    </tr>\n",
       "    <tr>\n",
       "      <th>88513</th>\n",
       "      <td>220</td>\n",
       "      <td>44896</td>\n",
       "      <td>4.5</td>\n",
       "      <td>4.075282</td>\n",
       "    </tr>\n",
       "    <tr>\n",
       "      <th>88514</th>\n",
       "      <td>141</td>\n",
       "      <td>28305</td>\n",
       "      <td>4.0</td>\n",
       "      <td>3.952018</td>\n",
       "    </tr>\n",
       "    <tr>\n",
       "      <th>88515</th>\n",
       "      <td>42</td>\n",
       "      <td>16506</td>\n",
       "      <td>4.5</td>\n",
       "      <td>4.100301</td>\n",
       "    </tr>\n",
       "    <tr>\n",
       "      <th>88516</th>\n",
       "      <td>99</td>\n",
       "      <td>36028</td>\n",
       "      <td>4.0</td>\n",
       "      <td>3.615360</td>\n",
       "    </tr>\n",
       "    <tr>\n",
       "      <th>88517</th>\n",
       "      <td>696</td>\n",
       "      <td>20389</td>\n",
       "      <td>4.0</td>\n",
       "      <td>3.969285</td>\n",
       "    </tr>\n",
       "  </tbody>\n",
       "</table>\n",
       "<p>88518 rows × 4 columns</p>\n",
       "</div>"
      ],
      "text/plain": [
       "         uid    iid  r_ui       est\n",
       "0      16866  52367   4.0  4.058352\n",
       "1        812   2519   4.0  4.033744\n",
       "2      13371  31547   4.0  4.036764\n",
       "3       1853   5996   4.0  4.137310\n",
       "4       9790  27249   4.0  3.935477\n",
       "...      ...    ...   ...       ...\n",
       "88513    220  44896   4.5  4.075282\n",
       "88514    141  28305   4.0  3.952018\n",
       "88515     42  16506   4.5  4.100301\n",
       "88516     99  36028   4.0  3.615360\n",
       "88517    696  20389   4.0  3.969285\n",
       "\n",
       "[88518 rows x 4 columns]"
      ]
     },
     "execution_count": 41,
     "metadata": {},
     "output_type": "execute_result"
    }
   ],
   "source": [
    "# Parte 4: DataFrame con las predicciones del modelo SVD\n",
    "svd_pred_df = pd.DataFrame(predictions_svd).drop(columns=['details'])\n",
    "svd_pred_df"
   ]
  },
  {
   "cell_type": "markdown",
   "metadata": {},
   "source": [
    "> **Respuesta Parte 5:** Basándose en las métricas MAE obtenidas, el mejor modelo es SVD pues tiene un valor más bajo, lo que indica un error absoluto menor entre el valor real y el predicho, errando en aproximadamente 0.46 puntos en promedio en la escala 1.0 a 5.0. De todas maneras, la diferencia entre las métricas MAE es baja, por lo que probar con otras métricas como el MSE o FCP puede ayudar a confirmar la selección."
   ]
  },
  {
   "cell_type": "markdown",
   "metadata": {
    "id": "S-zlOMPdH5nT"
   },
   "source": [
    "## 2.4 El Mejor Filtro Colaborativo [7 puntos]"
   ]
  },
  {
   "cell_type": "markdown",
   "metadata": {
    "id": "PX4JsISWJ-fS"
   },
   "source": [
    "<center>\n",
    "<img src =\"https://media.giphy.com/media/citBl9yPwnUOs/giphy.gif\" width = 400 />"
   ]
  },
  {
   "cell_type": "markdown",
   "metadata": {
    "id": "xOPZ5Q05NZej"
   },
   "source": [
    "Homero Simpson desea perfeccionar y extender su sistema de recomendaciones para cervezas en Springfield. En esta fase, busca implementar técnicas que le permitan no solo predecir las preferencias de los ciudadanos, sino también evaluar métricas que midan la eficacia de sus recomendaciones. Con el objetivo de recomendar las mejores K cervezas para usuarios específicos, Homero buscará comprender mejor cómo optimizar su sistema y satisfacer a sus clientes.\n",
    "\n",
    "Para ello, usted ayudará a Homero realizando las siguientes labores:"
   ]
  },
  {
   "cell_type": "markdown",
   "metadata": {
    "id": "WdUi4etiIDPY"
   },
   "source": [
    "1. Implemente la función `get_top_n()` que le permita extraer las `N` mejores cervezas recomendadas para cada ciudadano utilizando las predicciones generadas por el mejor modelo seleccionado en la sección anterior. Luego obtenga las `3` mejores cervezas recomendadas para Carl (`userId = 100`). `Hint`: Para cada ciudadano, elimine las predicciones duplicadas. [2 puntos]\n",
    "2. Realice predicciones de rating para 5 cervezas aleatorias no evaluadas por Carl, para estimar las calificaciones que Carl podría darles. [1 punto]\n",
    "3. Calcule los promedios de `precisión@k` y el `recall@k` para `k=10` y `threshold = 3.5`. Analice sus resultados. ¿Es un buen modelo? `Hint:` Utilice la función dada `precision_recall_at_k(...)`. [1 punto]\n",
    "4. Calcule la `precisión@k` y el `recall@k` para valores de `k` que varíen entre 3 y 25 con paso de 1 unidad. Luego, grafique los resultados y analice el comportamiento de las curvas de precisión y recall en función de `k`. [1 punto]\n",
    "5. Calcule la `precisión@k` y el `recall@k` para valores de `threshold` que varíen entre 3.0 y 4.5, con paso de 0.1. Luego, grafique los resultados y analice el comportamiento de las curvas de precisión y recall en función de `threshold`. [1 punto]\n",
    "6. Finalmente utilice el mejor modelo para estimar los ratings faltantes. Muestre sus resultados en una matriz (usuario, producto) sin valores nulos. [1 punto]\n",
    "\n"
   ]
  },
  {
   "cell_type": "code",
   "execution_count": 42,
   "metadata": {
    "id": "OsV3CY1uxRig"
   },
   "outputs": [],
   "source": [
    "#NO MODIFICAR ESTA CELDA\n",
    "def precision_recall_at_k(predictions, k=10, threshold=3.5):\n",
    "\n",
    "    user_est_true = defaultdict(list)\n",
    "    for uid, _, true_r, est, _ in predictions:\n",
    "        user_est_true[uid].append((est, true_r))\n",
    "    precisions = dict()\n",
    "    recalls = dict()\n",
    "    for uid, user_ratings in user_est_true.items():\n",
    "        user_ratings.sort(key=lambda x: x[0], reverse=True)\n",
    "        n_rel = sum((true_r >= threshold) for (_, true_r) in user_ratings)\n",
    "        n_rec_k = sum((est >= threshold) for (est, _) in user_ratings[:k])\n",
    "        n_rel_and_rec_k = sum(\n",
    "            ((true_r >= threshold) and (est >= threshold))\n",
    "            for (est, true_r) in user_ratings[:k]\n",
    "        )\n",
    "        precisions[uid] = n_rel_and_rec_k / n_rec_k if n_rec_k != 0 else 0\n",
    "        recalls[uid] = n_rel_and_rec_k / n_rel if n_rel != 0 else 0\n",
    "    return precisions, recalls"
   ]
  },
  {
   "cell_type": "markdown",
   "metadata": {
    "id": "OUcwX6xfTyGB"
   },
   "source": [
    "**Respuesta:**"
   ]
  },
  {
   "cell_type": "code",
   "execution_count": 45,
   "metadata": {},
   "outputs": [
    {
     "name": "stdout",
     "output_type": "stream",
     "text": [
      "Top 3 recomendaciones para Carl: [(325, 3.837597113285473), (1814, 3.806935071113022), (1393, 3.803528210327427)]\n"
     ]
    }
   ],
   "source": [
    "# Parte 1: Implementar función get_top_n eliminando predicciones duplicadas por usuario, luego predecir top 3 de Carl\n",
    "def get_top_n(predictions, N=10):\n",
    "    \"\"\"\n",
    "    Input:\n",
    "        - predictions: lista de predicciones generadas por el modelo.\n",
    "        - N: número de recomendaciones a retornar por usuario.\n",
    "    Output:\n",
    "        - top_n: diccionario con el usuario como clave y una lista de las N mejores recomendaciones como valor.\n",
    "    \"\"\"\n",
    "\n",
    "    top_n = defaultdict(list)\n",
    "    for uid, iid, true_r, est, _ in predictions:\n",
    "        top_n[uid].append((iid, est))\n",
    "    # Eliminar duplicados por iid para cada usuario\n",
    "    for uid, user_ratings in top_n.items():\n",
    "        seen = set()\n",
    "        unique_ratings = []\n",
    "        for iid, est in user_ratings:\n",
    "            if iid not in seen:\n",
    "                unique_ratings.append((iid, est))\n",
    "                seen.add(iid)\n",
    "        unique_ratings.sort(key=lambda x: x[1], reverse=True)\n",
    "        top_n[uid] = unique_ratings[:N]\n",
    "    return top_n\n",
    "\n",
    "print(\"Top 3 recomendaciones para Carl:\", get_top_n(predictions_svd, N=3)[100])"
   ]
  },
  {
   "cell_type": "markdown",
   "metadata": {
    "id": "VS418FVdIO97"
   },
   "source": [
    "# Conclusión\n",
    "\n",
    "Éxito!\n",
    "<center>\n",
    "<img src =\"https://i.gifer.com/origin/cb/cbd80e6045652ab123caffef72f29210_w200.gif\" width = 400 />\n"
   ]
  }
 ],
 "metadata": {
  "colab": {
   "provenance": [
    {
     "file_id": "1NgqxoakOvc-fIPtuSPA8O-w9vjjIgOYz",
     "timestamp": 1728359836069
    }
   ]
  },
  "kernelspec": {
   "display_name": "base",
   "language": "python",
   "name": "python3"
  },
  "language_info": {
   "codemirror_mode": {
    "name": "ipython",
    "version": 3
   },
   "file_extension": ".py",
   "mimetype": "text/x-python",
   "name": "python",
   "nbconvert_exporter": "python",
   "pygments_lexer": "ipython3",
   "version": "3.12.2"
  }
 },
 "nbformat": 4,
 "nbformat_minor": 0
}
