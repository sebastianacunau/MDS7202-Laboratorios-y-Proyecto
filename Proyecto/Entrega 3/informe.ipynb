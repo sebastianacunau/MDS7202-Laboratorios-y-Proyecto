{
 "cells": [
  {
   "cell_type": "markdown",
   "id": "d108396c",
   "metadata": {},
   "source": [
    "![](https://www.dii.uchile.cl/wp-content/uploads/2021/06/Magi%CC%81ster-en-Ciencia-de-Datos.png)"
   ]
  },
  {
   "cell_type": "markdown",
   "id": "19467d9e",
   "metadata": {},
   "source": [
    "# Informe Final: Proyecto SodAI Drinks"
   ]
  },
  {
   "cell_type": "markdown",
   "id": "3a592ff4",
   "metadata": {},
   "source": [
    "**MDS7202: Laboratorio de Programación Científica para Ciencia de Datos**\n",
    "\n",
    "**👨‍🏫👩‍🏫 Cuerpo Docente:**\n",
    "\n",
    "- Profesor: Sebastián Tinoco, Stefano Schiappacasse\n",
    "- Auxiliar: Melanie Peña Torres, Valentina Rojas Osorio\n",
    "- Ayudante: Valentina Zuñiga, Ángelo Muñoz\n",
    "\n",
    "**👨‍💻👩‍💻 Estudiantes:**\n",
    "- Estudiante n°1: Sebastián Acuña U.\n",
    "- Estudiante n°2: Martín Guzmán S."
   ]
  },
  {
   "cell_type": "markdown",
   "id": "309ba5db",
   "metadata": {},
   "source": [
    "## Entrega 1"
   ]
  },
  {
   "cell_type": "markdown",
   "id": "870ea836",
   "metadata": {},
   "source": [
    "### Generación de dataset \n",
    "\n",
    "* Se abren los parquets de clientes, productos y transacciones.\n",
    "\n",
    "* Se botan filas repetidas.\n",
    "\n",
    "* Se botan columnas con un sólo valor (`nunique`=1). Estas son:\n",
    "    * region_id\n",
    "    * zone_id\n",
    "    * num_visit_per_week\n",
    "\n",
    "* En el DataFrame de transacciones, se agregan columnas que indican la semana del año (week_of_year, de 1 a 52) y año (2024 de momento, pero se espera data de 2025 en producción).\n",
    "\n",
    "* A partir de la data de transacciones, se realiza agregación de órdenes realizadas por un mismo cliente, del mismo producto, la misma semana del año. Esto genera un DataFrame `transacciones_agrupadas` que contempla la cantidad de veces que un cliente compró un mismo producto en la misma semana, `order_qty`.\n",
    "\n",
    "* Con ello, se realiza merge entre clientes, productos y las transacciones_agrupadas, realizando producto cruz de todas las combinaciones (cliente, producto, semana, año)."
   ]
  },
  {
   "cell_type": "markdown",
   "id": "31a868d1",
   "metadata": {},
   "source": [
    "* ¿Qué significa que hayan instancias de items negativas?\n",
    "\n",
    "* "
   ]
  },
  {
   "cell_type": "markdown",
   "id": "e09a0176",
   "metadata": {},
   "source": [
    "## Entrega 2"
   ]
  },
  {
   "cell_type": "markdown",
   "id": "e6711493",
   "metadata": {},
   "source": []
  }
 ],
 "metadata": {
  "language_info": {
   "name": "python"
  }
 },
 "nbformat": 4,
 "nbformat_minor": 5
}
