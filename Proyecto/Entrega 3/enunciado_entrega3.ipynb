{
  "cells": [
    {
      "cell_type": "markdown",
      "metadata": {
        "cell_id": "516acf1d6e9d4ddb9a8acdeb6b1cca14",
        "deepnote_app_block_visible": true,
        "deepnote_cell_type": "markdown",
        "id": "-MGJGjPDimJI"
      },
      "source": [
        "![](https://www.dii.uchile.cl/wp-content/uploads/2021/06/Magi%CC%81ster-en-Ciencia-de-Datos.png)"
      ]
    },
    {
      "cell_type": "markdown",
      "metadata": {
        "cell_id": "befdb70375f04ab79952117eb63723e7",
        "deepnote_app_block_visible": true,
        "deepnote_cell_type": "markdown",
        "id": "SN4W-_BNimJJ"
      },
      "source": [
        "**MDS7202: Laboratorio de Programación Científica para Ciencia de Datos**\n",
        "\n",
        "### 👨‍🏫👩‍🏫 Cuerpo Docente:\n",
        "\n",
        "- Profesor: Sebastián Tinoco, Stefano Schiappacasse\n",
        "- Auxiliar: Melanie Peña Torres, Valentina Rojas Osorio\n",
        "- Ayudante: Valentina Zuñiga, Ángelo Muñoz\n",
        "\n",
        "### 👨‍💻👩‍💻 Estudiantes:\n",
        "- Estudiante n°1:\n",
        "- Estudiante n°2:\n",
        "\n",
        "_Por favor, lean detalladamente las instrucciones de la tarea antes de empezar a escribir._\n",
        "\n",
        "---"
      ]
    },
    {
      "cell_type": "markdown",
      "metadata": {
        "id": "2GjshSnpjGcr"
      },
      "source": [
        "### **Instrucciones importantes**\n",
        "\n",
        "1. **Formato del informe**:  \n",
        "   - El informe debe estar integrado dentro de un **Jupyter Notebook**. No es necesario subirlo a una plataforma externa, pero debe cumplir con los siguientes requisitos:  \n",
        "     - Estructura clara y ordenada.  \n",
        "     - Código acompañado de explicaciones detalladas.  \n",
        "     - Resultados presentados de forma visual y analítica.  \n",
        "\n",
        "2. **Descuento por informes deficientes**:  \n",
        "   - Cualquier sección del informe que no tenga una explicación adecuada o no respete el formato será penalizada con un descuento en la nota. Esto incluye código sin comentarios o análisis que no sean coherentes con los resultados presentados.\n",
        "   - **Comentarios sin formatear de ChatGPT o herramientas similares serán penalizados (e.g: \"Inserta tu modelo acá\", etc.)**\n",
        "\n",
        "<center>\n",
        "<img src=\"https://media1.giphy.com/media/ZkIUY6LZJMwrSMQMWu/giphy.gif?cid=6c09b952msc755426bpsadn4sysofcpqczczi7x1pghd41sw&ep=v1_internal_gif_by_id&rid=giphy.gif&ct=v\" width=\"400\" height=\"300\">"
      ]
    },
    {
      "cell_type": "markdown",
      "metadata": {
        "cell_id": "73dd6ad576224431b010e7650d06156e",
        "deepnote_app_block_visible": true,
        "deepnote_cell_type": "markdown",
        "id": "mMwIvE7AimJK"
      },
      "source": [
        "# 📬 Entrega Parcial 3 (30% del Proyecto)"
      ]
    },
    {
      "cell_type": "markdown",
      "metadata": {
        "id": "rbrEry-nnsfs"
      },
      "source": [
        "### 📪 Fecha de Entrega: \n",
        "\n",
        "Esta entrega cuenta con 2 partes:\n",
        "\n",
        "- **Predicciones**: 1 de Julio, 2 de Julio, 3 de Julio, 4 de Julio\n",
        "- **Informe:** 9 de Julio."
      ]
    },
    {
      "cell_type": "markdown",
      "metadata": {
        "id": "7S9iswjPnxmu"
      },
      "source": [
        "## 📖 Enunciado\n",
        "\n",
        "Después de haber superado con éxito la implementación de sus flujos de trabajo con `Airflow`, el equipo **Deep Drinkers 🤖** ha demostrado que no solo sabe construir modelos, sino también integrarlos en pipelines reales listos para producción.\n",
        "\n",
        "El equipo técnico de **SodAI Drinks 🥤** ha quedado tan satisfecho con la automatización de sus procesos que ahora les ha encomendado una nueva, y final, misión:  \n",
        "- 📊 **Evaluar la calidad real de sus modelos en un entorno más desafiante** \n",
        "- 🧠 **Comunicar los hallazgos de forma clara y profesional frente a una comisión**.\n",
        "\n",
        "<center>\n",
        "<img src=\"https://i.giphy.com/btbUGSHh3f6eBjbDfh.webp\" width=\"350\">\n"
      ]
    },
    {
      "cell_type": "markdown",
      "metadata": {},
      "source": [
        "## 📌 Predicciones\n",
        "<center>\n",
        "<img src=\"https://i.giphy.com/NTMxntb8rMzmbd1x97.webp\" width=\"500\" height=\"300\">\n",
        "</center>"
      ]
    },
    {
      "cell_type": "markdown",
      "metadata": {
        "vscode": {
          "languageId": "plaintext"
        }
      },
      "source": [
        "Su *pipeline* automatizado debe demostrar que puede manejar datos reales en producción. **SodAI Drinks** 🥤 liberará *batches* de datos en fechas diferentes para evaluar si su sistema se adapta correctamente, los cuales simularán la llegada de información nueva (cada batch es una semana).\n",
        "\n",
        "Lo que debe funcionar automáticamente:\n",
        "- **Ejecución Automatizada**: Su DAG de `Airflow` debe ser capaz de procesar cada *batch* de datos de manera automática cuando esté disponible.\n",
        "- **Monitoreo Continuo**: El *pipeline* debe evaluar la calidad de los datos entrantes y detectar posibles desviaciones respecto al conjunto original.\n",
        "- **Decisión de Reentrenamiento**: Basándose en los análisis de *data drift* y métricas de rendimiento, el sistema debe determinar automáticamente si es necesario reentrenar el modelo.\n",
        "- **Tracking Completo**: Todas las ejecuciones, métricas y decisiones deben quedar registradas en `MLFlow` para posterior análisis.\n",
        "- **Generación de Predicciones**: Para cada *batch* procesado, el sistema debe generar las predicciones correspondientes y almacenarlas de manera organizada.\n",
        "\n",
        "**IMPORTANTE: Es imperativo que guarden los resultados de su pipeline (métricas, tracking, predicciones, etc) para su análisis en la siguiente sección.**\n",
        "\n",
        "### 📌Entregable: Competencia en CodaLab\n",
        "\n",
        "<center>\n",
        "<img src=\"https://i.giphy.com/NomCzPIGoXs3EIq77v.webp\" width=\"300\" height=\"300\">\n",
        "</center>\n",
        "\n",
        "Como parte de esta entrega final, el equipo debe utilizar su pipeline entrenado para **generar predicciones en los nuevos conjuntos de datos mencionados anteriormente**.\n",
        "\n",
        "Estas predicciones deben:\n",
        "\n",
        "- Ser generadas directamente desde el *pipeline* previamente desarrollado.  \n",
        "- Guardarse en archivos `.csv` siguiendo el formato requerido.  \n",
        "- Subirse a la plataforma **CodaLab**, donde se realizará la evaluación final.\n",
        "\n",
        "En CodaLab podrán:\n",
        "\n",
        "- Ver el rendimiento de su modelo frente a los de otros equipos.  \n",
        "- Obtener una puntuación basada en la métrica definida del proyecto.  \n",
        "\n",
        "Cada set de predicciones debe ser publicado en CodaLab en las siguientes fechas:\n",
        "- **Predicciones 1 📅** : 1 de Julio (Fecha de predicción: 01/01/25 - 05/01/25)\n",
        "    - Note que para este set de predicciones, sólo tendrán acceso a los datos publicados en la Entrega 1.\n",
        "- **Predicciones 2 📅** : 2 de Julio (Fecha de predicción: 06/01/25 - 12/01/25)\n",
        "- **Predicciones 3 📅** : 3 de Julio (Fecha de predicción: 13/01/25 - 19/01/25)\n",
        "- **Predicciones 4 📅** : 4 de Julio (Fecha de predicción: 20/01/25 - 26/01/25)\n",
        "\n",
        "Para simular la llegada de nuevos datos, se publicarán los siguientes conjuntos de datos:\n",
        "- **Batch 1 📅** : 2 de Julio (Con datos realizados del período 01/01/25 - 05/01/25)\n",
        "- **Batch 2 📅** : 3 de Julio (Con datos realizados del período 06/01/25 - 12/01/25)\n",
        "- **Batch 3 📅** : 4 de Julio (Con datos realizados del período 13/01/25 - 19/01/25)\n",
        "- **Batch 4 📅** 5 de Julio (Con datos realizados del período 20/01/25 - 26/01/25)\n",
        "    - Note como este conjunto de datos se publica **después** de la competencia, por lo que sólo les servirá para la última evaluación requerida en el informe.\n",
        "\n",
        "**IMPORTANTE:** Subir los resultados a tiempo en las tres fechas es **<u>OBLIGATORIO</u>** para la evaluación del desempeño final del equipo. **Por cada fecha en la que no se suban predicciones, se aplicará un descuento de 0.75 puntos (75 décimas) sobre la nota de la Entrega 3.**\n",
        "\n",
        "### 🎁 Bonus [0.5 puntos]\n",
        "\n",
        "Como incentivo adicional, se premiará a los **3 equipos con mejor performance en la métrica F1** con **0.5 puntos de puntaje adicional** sobre la nota de la Entrega 3."
      ]
    },
    {
      "cell_type": "markdown",
      "metadata": {},
      "source": [
        "## 📌 Informe: Performance del modelo [6.0 puntos]\n",
        "\n",
        "En esta sección se espera que el equipo analice de manera retrospectiva el performance de su modelo y saque conclusiones en función de sus resultados. \n",
        "\n",
        "Para esto, tendrán que incurrir en 3 tipos de análisis:\n",
        "\n",
        "- **Individual:** Deben evaluar el performance de su modelo tomando cada semana de forma aislada.\n",
        "\n",
        "- **Comparativo:** Deben evaluar el performance de su modelo *a través* de las semanas, comparando el desempeño entre las semanas e identificando posibles tendencias.\n",
        "    - Para esta parte se espera que generen gráficos de tendencia y tablas comparativas para apoyar su análisis.\n",
        "\n",
        "- **Conclusiones y Aprendizajes:** Deben escribir sus principales conclusiones y aprendizajes de este proyecto. \n",
        "\n",
        "A lo largo de esta sección, se espera que respondan preguntas como:\n",
        "\n",
        "1. ¿Cómo variaron sus métricas a lo largo de los distintos conjuntos de datos? \n",
        "2. ¿En qué momento el modelo tuvo su peor desempeño y por qué?\n",
        "3. ¿Detectaron algún cambio significativo (drift) en la distribución de los datos? ¿Cómo lo identificaron?  \n",
        "4. ¿Tuvieron que reentrenar su modelo con los nuevos datos? ¿Porqué? ¿Ayudó esto al performance de su modelo?\n",
        "4. ¿Qué decisión técnica (modelo, métrica, imputación, etc.) tuvo más impacto en los resultados?  \n",
        "5. ¿Qué hiperparámetro fue el más importante para su modelo? \n",
        "5. ¿Qué variable fue más influyente en las predicciones? ¿Cómo lo interpretan? ¿Cómo cambió su importancia con respecto a las otras variables a lo largo de los batch de datos?\n",
        "6. ¿Qué aprendieron sobre el negocio a partir de los resultados del modelo?\n",
        "7. ¿Qué limitaciones detectaron en su modelo o en los datos?  \n",
        "\n",
        "**IMPORTANTE: Se espera que en sus respuestas hagan referencia a los artefactos (métricas, hiperparámetros, gráficos de interpretabilidad, etc) que su pipeline genera.**\n",
        "\n",
        "<center>\n",
        "<img src=\"https://media1.tenor.com/m/jyQ3SPT1htEAAAAd/i-love-this-performance-even-more-simon-cowell.gif\" width=\"300\" height=\"300\">\n",
        "</center>"
      ]
    },
    {
      "cell_type": "markdown",
      "metadata": {},
      "source": [
        "### 📌 Análisis individual [3.0 puntos]"
      ]
    },
    {
      "cell_type": "markdown",
      "metadata": {},
      "source": [
        "#### 📌 Batch 1 (01/01/25 - 05/01/25) [0.75 puntos]"
      ]
    },
    {
      "cell_type": "code",
      "execution_count": 2,
      "metadata": {},
      "outputs": [],
      "source": [
        "# código para evaluar el performance de su modelo"
      ]
    },
    {
      "cell_type": "markdown",
      "metadata": {},
      "source": [
        "#### 📌 Batch 2 (06/01/25 - 12/01/25) [0.75 puntos]"
      ]
    },
    {
      "cell_type": "code",
      "execution_count": null,
      "metadata": {},
      "outputs": [],
      "source": [
        "# código para evaluar el performance de su modelo"
      ]
    },
    {
      "cell_type": "markdown",
      "metadata": {},
      "source": [
        "#### 📌 Batch 03 (13/01/25 - 19/01/25) [0.75 puntos]"
      ]
    },
    {
      "cell_type": "code",
      "execution_count": 1,
      "metadata": {},
      "outputs": [],
      "source": [
        "# código para evaluar el performance de su modelo"
      ]
    },
    {
      "cell_type": "markdown",
      "metadata": {},
      "source": [
        "#### 📌 Batch 04 (20/01/25 - 26/01/25) [0.75 puntos]"
      ]
    },
    {
      "cell_type": "code",
      "execution_count": null,
      "metadata": {},
      "outputs": [],
      "source": [
        "# código para evaluar el performance de su modelo"
      ]
    },
    {
      "cell_type": "markdown",
      "metadata": {},
      "source": [
        "### 📌 Análisis comparativo [2.0 puntos]"
      ]
    },
    {
      "cell_type": "code",
      "execution_count": null,
      "metadata": {},
      "outputs": [],
      "source": [
        "# código para realizar análisis de resultados entre batchs"
      ]
    },
    {
      "cell_type": "markdown",
      "metadata": {},
      "source": [
        "### 📌 Conclusiones y Aprendizajes [1.0 puntos]"
      ]
    },
    {
      "cell_type": "markdown",
      "metadata": {},
      "source": [
        "> [Escriba aquí sus conclusiones y aprendizajes]"
      ]
    },
    {
      "cell_type": "markdown",
      "metadata": {},
      "source": [
        "## 📁 Estructura de entrega\n",
        "\n",
        "Se espera que su entrega cuente con la siguiente estructura de carpetas:\n",
        "\n",
        "```bash\n",
        "entrega_3/\n",
        "│\n",
        "├── informe.ipynb # Jupyter notebook con sus resultados\n",
        "│\n",
        "├── predictions/ # Carpeta con las predicciones para cada batch de datos\n",
        "│\n",
        "└── data/ # Carpeta con los datos realizados (lo que realmente ocurrió)\n",
        "```"
      ]
    },
    {
      "cell_type": "markdown",
      "metadata": {
        "id": "AM6rrqJ85tmz"
      },
      "source": [
        "Mucho éxito!\n",
        "\n",
        "<center>\n",
        "<img src=\"https://gifdb.com/images/high/may-the-force-be-with-you-anakin-skywalker-n2g5o0pm4h6iylsx.gif\" width=\"400\" height=\"300\">\n"
      ]
    }
  ],
  "metadata": {
    "colab": {
      "provenance": []
    },
    "deepnote_app_layout": "powerful-article",
    "deepnote_app_reactivity_enabled": true,
    "deepnote_notebook_id": "2939a76dd7c14f7f948714e40aa8bd20",
    "kernelspec": {
      "display_name": "base",
      "language": "python",
      "name": "python3"
    },
    "language_info": {
      "codemirror_mode": {
        "name": "ipython",
        "version": 3
      },
      "file_extension": ".py",
      "mimetype": "text/x-python",
      "name": "python",
      "nbconvert_exporter": "python",
      "pygments_lexer": "ipython3",
      "version": "3.12.7"
    }
  },
  "nbformat": 4,
  "nbformat_minor": 0
}
