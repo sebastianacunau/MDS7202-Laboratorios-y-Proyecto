{
  "cells": [
    {
      "cell_type": "markdown",
      "metadata": {
        "cell_id": "516acf1d6e9d4ddb9a8acdeb6b1cca14",
        "deepnote_app_block_visible": true,
        "deepnote_cell_type": "markdown",
        "id": "-MGJGjPDimJI"
      },
      "source": [
        "![](https://www.dii.uchile.cl/wp-content/uploads/2021/06/Magi%CC%81ster-en-Ciencia-de-Datos.png)"
      ]
    },
    {
      "cell_type": "markdown",
      "metadata": {
        "cell_id": "befdb70375f04ab79952117eb63723e7",
        "deepnote_app_block_visible": true,
        "deepnote_cell_type": "markdown",
        "id": "SN4W-_BNimJJ"
      },
      "source": [
        "**MDS7202: Laboratorio de Programación Científica para Ciencia de Datos**\n",
        "\n",
        "### 👨‍🏫👩‍🏫 Cuerpo Docente:\n",
        "\n",
        "- Profesor: Sebastián Tinoco, Stefano Schiappacasse\n",
        "- Auxiliar: Melanie Peña Torres, Valentina Rojas Osorio\n",
        "- Ayudante: Valentina Zuñiga, Ángelo Muñoz\n",
        "\n",
        "### 👨‍💻👩‍💻 Estudiantes:\n",
        "- Estudiante n°1: Sebastián Acuña U.\n",
        "- Estudiante n°2: Martín Guzmán S.\n",
        "\n",
        "_Por favor, lean detalladamente las instrucciones de la tarea antes de empezar a escribir._\n",
        "\n",
        "---"
      ]
    },
    {
      "cell_type": "markdown",
      "metadata": {
        "id": "2GjshSnpjGcr"
      },
      "source": [
        "### **Instrucciones importantes**\n",
        "\n",
        "1. **Formato del informe**:  \n",
        "   - El informe debe estar integrado dentro de un **Jupyter Notebook**. No es necesario subirlo a una plataforma externa, pero debe cumplir con los siguientes requisitos:  \n",
        "     - Estructura clara y ordenada.  \n",
        "     - Código acompañado de explicaciones detalladas.  \n",
        "     - Resultados presentados de forma visual y analítica.  \n",
        "\n",
        "2. **Descuento por informes deficientes**:  \n",
        "   - Cualquier sección del informe que no tenga una explicación adecuada o no respete el formato será penalizada con un descuento en la nota. Esto incluye código sin comentarios o análisis que no sean coherentes con los resultados presentados.\n",
        "   - **Comentarios sin formatear de ChatGPT o herramientas similares serán penalizados (e.g: \"Inserta tu modelo acá\", etc.)**\n",
        "\n",
        "<center>\n",
        "<img src=\"https://media1.giphy.com/media/ZkIUY6LZJMwrSMQMWu/giphy.gif?cid=6c09b952msc755426bpsadn4sysofcpqczczi7x1pghd41sw&ep=v1_internal_gif_by_id&rid=giphy.gif&ct=v\" width=\"400\" height=\"300\">"
      ]
    },
    {
      "cell_type": "markdown",
      "metadata": {
        "cell_id": "73dd6ad576224431b010e7650d06156e",
        "deepnote_app_block_visible": true,
        "deepnote_cell_type": "markdown",
        "id": "mMwIvE7AimJK"
      },
      "source": [
        "# 📬 Entrega Parcial 3 (30% del Proyecto)"
      ]
    },
    {
      "cell_type": "markdown",
      "metadata": {
        "id": "rbrEry-nnsfs"
      },
      "source": [
        "### 📪 Fecha de Entrega: \n",
        "\n",
        "Esta entrega cuenta con 2 partes:\n",
        "\n",
        "- **Predicciones**: 1 de Julio, 2 de Julio, 3 de Julio, 4 de Julio\n",
        "- **Informe:** 9 de Julio."
      ]
    },
    {
      "cell_type": "markdown",
      "metadata": {
        "id": "7S9iswjPnxmu"
      },
      "source": [
        "## 📖 Enunciado\n",
        "\n",
        "Después de haber superado con éxito la implementación de sus flujos de trabajo con `Airflow`, el equipo **Deep Drinkers 🤖** ha demostrado que no solo sabe construir modelos, sino también integrarlos en pipelines reales listos para producción.\n",
        "\n",
        "El equipo técnico de **SodAI Drinks 🥤** ha quedado tan satisfecho con la automatización de sus procesos que ahora les ha encomendado una nueva, y final, misión:  \n",
        "- 📊 **Evaluar la calidad real de sus modelos en un entorno más desafiante** \n",
        "- 🧠 **Comunicar los hallazgos de forma clara y profesional frente a una comisión**.\n",
        "\n",
        "<center>\n",
        "<img src=\"https://i.giphy.com/btbUGSHh3f6eBjbDfh.webp\" width=\"350\">\n"
      ]
    },
    {
      "cell_type": "markdown",
      "metadata": {},
      "source": [
        "## 📌 Predicciones\n",
        "<center>\n",
        "<img src=\"https://i.giphy.com/NTMxntb8rMzmbd1x97.webp\" width=\"500\" height=\"300\">\n",
        "</center>"
      ]
    },
    {
      "cell_type": "markdown",
      "metadata": {
        "vscode": {
          "languageId": "plaintext"
        }
      },
      "source": [
        "Su *pipeline* automatizado debe demostrar que puede manejar datos reales en producción. **SodAI Drinks** 🥤 liberará *batches* de datos en fechas diferentes para evaluar si su sistema se adapta correctamente, los cuales simularán la llegada de información nueva (cada batch es una semana).\n",
        "\n",
        "Lo que debe funcionar automáticamente:\n",
        "- **Ejecución Automatizada**: Su DAG de `Airflow` debe ser capaz de procesar cada *batch* de datos de manera automática cuando esté disponible.\n",
        "- **Monitoreo Continuo**: El *pipeline* debe evaluar la calidad de los datos entrantes y detectar posibles desviaciones respecto al conjunto original.\n",
        "- **Decisión de Reentrenamiento**: Basándose en los análisis de *data drift* y métricas de rendimiento, el sistema debe determinar automáticamente si es necesario reentrenar el modelo.\n",
        "- **Tracking Completo**: Todas las ejecuciones, métricas y decisiones deben quedar registradas en `MLFlow` para posterior análisis.\n",
        "- **Generación de Predicciones**: Para cada *batch* procesado, el sistema debe generar las predicciones correspondientes y almacenarlas de manera organizada.\n",
        "\n",
        "**IMPORTANTE: Es imperativo que guarden los resultados de su pipeline (métricas, tracking, predicciones, etc) para su análisis en la siguiente sección.**\n",
        "\n",
        "### 📌Entregable: Competencia en CodaLab\n",
        "\n",
        "<center>\n",
        "<img src=\"https://i.giphy.com/NomCzPIGoXs3EIq77v.webp\" width=\"300\" height=\"300\">\n",
        "</center>\n",
        "\n",
        "Como parte de esta entrega final, el equipo debe utilizar su pipeline entrenado para **generar predicciones en los nuevos conjuntos de datos mencionados anteriormente**.\n",
        "\n",
        "Estas predicciones deben:\n",
        "\n",
        "- Ser generadas directamente desde el *pipeline* previamente desarrollado.  \n",
        "- Guardarse en archivos `.csv` siguiendo el formato requerido.  \n",
        "- Subirse a la plataforma **CodaLab**, donde se realizará la evaluación final.\n",
        "\n",
        "En CodaLab podrán:\n",
        "\n",
        "- Ver el rendimiento de su modelo frente a los de otros equipos.  \n",
        "- Obtener una puntuación basada en la métrica definida del proyecto.  \n",
        "\n",
        "Cada set de predicciones debe ser publicado en CodaLab en las siguientes fechas:\n",
        "- **Predicciones 1 📅** : 1 de Julio (Fecha de predicción: 01/01/25 - 05/01/25)\n",
        "    - Note que para este set de predicciones, sólo tendrán acceso a los datos publicados en la Entrega 1.\n",
        "- **Predicciones 2 📅** : 2 de Julio (Fecha de predicción: 06/01/25 - 12/01/25)\n",
        "- **Predicciones 3 📅** : 3 de Julio (Fecha de predicción: 13/01/25 - 19/01/25)\n",
        "- **Predicciones 4 📅** : 4 de Julio (Fecha de predicción: 20/01/25 - 26/01/25)\n",
        "\n",
        "Para simular la llegada de nuevos datos, se publicarán los siguientes conjuntos de datos:\n",
        "- **Batch 1 📅** : 2 de Julio (Con datos realizados del período 01/01/25 - 05/01/25)\n",
        "- **Batch 2 📅** : 3 de Julio (Con datos realizados del período 06/01/25 - 12/01/25)\n",
        "- **Batch 3 📅** : 4 de Julio (Con datos realizados del período 13/01/25 - 19/01/25)\n",
        "- **Batch 4 📅** 5 de Julio (Con datos realizados del período 20/01/25 - 26/01/25)\n",
        "    - Note como este conjunto de datos se publica **después** de la competencia, por lo que sólo les servirá para la última evaluación requerida en el informe.\n",
        "\n",
        "**IMPORTANTE:** Subir los resultados a tiempo en las tres fechas es **<u>OBLIGATORIO</u>** para la evaluación del desempeño final del equipo. **Por cada fecha en la que no se suban predicciones, se aplicará un descuento de 0.75 puntos (75 décimas) sobre la nota de la Entrega 3.**\n",
        "\n",
        "### 🎁 Bonus [0.5 puntos]\n",
        "\n",
        "Como incentivo adicional, se premiará a los **3 equipos con mejor performance en la métrica F1** con **0.5 puntos de puntaje adicional** sobre la nota de la Entrega 3."
      ]
    },
    {
      "cell_type": "markdown",
      "metadata": {},
      "source": [
        "## 📌 Informe: Performance del modelo [6.0 puntos]\n",
        "\n",
        "En esta sección se espera que el equipo analice de manera retrospectiva el performance de su modelo y saque conclusiones en función de sus resultados. \n",
        "\n",
        "Para esto, tendrán que incurrir en 3 tipos de análisis:\n",
        "\n",
        "- **Individual:** Deben evaluar el performance de su modelo tomando cada semana de forma aislada.\n",
        "\n",
        "- **Comparativo:** Deben evaluar el performance de su modelo *a través* de las semanas, comparando el desempeño entre las semanas e identificando posibles tendencias.\n",
        "    - Para esta parte se espera que generen gráficos de tendencia y tablas comparativas para apoyar su análisis.\n",
        "\n",
        "- **Conclusiones y Aprendizajes:** Deben escribir sus principales conclusiones y aprendizajes de este proyecto. \n",
        "\n",
        "A lo largo de esta sección, se espera que respondan preguntas como:\n",
        "\n",
        "1. ¿Cómo variaron sus métricas a lo largo de los distintos conjuntos de datos? \n",
        "2. ¿En qué momento el modelo tuvo su peor desempeño y por qué?\n",
        "3. ¿Detectaron algún cambio significativo (drift) en la distribución de los datos? ¿Cómo lo identificaron?  \n",
        "4. ¿Tuvieron que reentrenar su modelo con los nuevos datos? ¿Porqué? ¿Ayudó esto al performance de su modelo?\n",
        "4. ¿Qué decisión técnica (modelo, métrica, imputación, etc.) tuvo más impacto en los resultados?  \n",
        "5. ¿Qué hiperparámetro fue el más importante para su modelo? \n",
        "5. ¿Qué variable fue más influyente en las predicciones? ¿Cómo lo interpretan? ¿Cómo cambió su importancia con respecto a las otras variables a lo largo de los batch de datos?\n",
        "6. ¿Qué aprendieron sobre el negocio a partir de los resultados del modelo?\n",
        "7. ¿Qué limitaciones detectaron en su modelo o en los datos?  \n",
        "\n",
        "**IMPORTANTE: Se espera que en sus respuestas hagan referencia a los artefactos (métricas, hiperparámetros, gráficos de interpretabilidad, etc) que su pipeline genera.**\n",
        "\n",
        "<center>\n",
        "<img src=\"https://media1.tenor.com/m/jyQ3SPT1htEAAAAd/i-love-this-performance-even-more-simon-cowell.gif\" width=\"300\" height=\"300\">\n",
        "</center>"
      ]
    },
    {
      "cell_type": "markdown",
      "metadata": {},
      "source": [
        "### 📌 Análisis individual [3.0 puntos]"
      ]
    },
    {
      "cell_type": "code",
      "execution_count": 18,
      "metadata": {},
      "outputs": [],
      "source": [
        "import pandas as pd\n",
        "import warnings\n",
        "import numpy as np\n",
        "import matplotlib.pyplot as plt\n",
        "\n",
        "warnings.filterwarnings(\"ignore\")"
      ]
    },
    {
      "cell_type": "code",
      "execution_count": null,
      "metadata": {},
      "outputs": [],
      "source": [
        "def preprocesamiento_datos(dataset, semana):\n",
        "    \n",
        "    warnings.filterwarnings('ignore', category=SyntaxWarning)\n",
        "    data_clientes = pd.read_parquet('data/clientes.parquet')\n",
        "    data_productos = pd.read_parquet('data/productos.parquet')\n",
        "    data_transacciones = pd.read_parquet(dataset)\n",
        "\n",
        "    data_transacciones['purchase_date'] = pd.to_datetime(data_transacciones['purchase_date'])\n",
        "    data_transacciones['año'] = data_transacciones['purchase_date'].dt.year\n",
        "\n",
        "#se votan duplicados\n",
        "    data_clientes = data_clientes.drop_duplicates()\n",
        "    data_productos = data_productos.drop_duplicates()\n",
        "    data_transacciones = data_transacciones.drop_duplicates()\n",
        "\n",
        "#se eliminan estas columnas ya que solo hay un solo valor, entonces, no es necesario agregarlo al dataset final.\n",
        "    data_clientes = data_clientes.drop(columns = ['num_visit_per_week','region_id', 'zone_id'] )\n",
        "\n",
        "#se unen los dataset\n",
        "    df = data_transacciones.merge(data_clientes, on='customer_id', how='left')\n",
        "    df = df.merge(data_productos, on='product_id', how='left')\n",
        "    df['semana'] = df['purchase_date'].dt.isocalendar().week\n",
        "\n",
        "    df_agrupado = df.groupby(['customer_id', 'product_id', 'semana', 'año'])['order_id'].count().reset_index()\n",
        "    df_agrupado.rename(columns={'order_id': 'cantidad_order'}, inplace=True)\n",
        "\n",
        "# se crea el dataset para crear las combinaciones posibles\n",
        "    customer_unicos = df['customer_id'].unique()\n",
        "    productos_unicos = df['product_id'].unique()\n",
        "    semanas_unicas = df['semana'].unique()\n",
        "    año_unicos = df['año'].unique()\n",
        "\n",
        "    customer_unicos_df = pd.DataFrame({'customer_id': customer_unicos})\n",
        "    productos_unicos_df = pd.DataFrame({'product_id': productos_unicos})\n",
        "    semanas_unicas_df = pd.DataFrame({'semana': semanas_unicas})\n",
        "    año_unicos_df = pd.DataFrame({'año': año_unicos})\n",
        "\n",
        "    combinaciones = customer_unicos_df.merge(productos_unicos_df, how='cross')\n",
        "    combinaciones = combinaciones.merge(semanas_unicas_df, how='cross')\n",
        "    combinaciones = combinaciones.merge(año_unicos_df, how='cross')\n",
        "\n",
        "#se une con el dataset agrupado\n",
        "    data = combinaciones.merge(df_agrupado, on=['customer_id', 'product_id', 'semana', 'año'], how='left')\n",
        "\n",
        "#creacion label\n",
        "    data['cantidad_order'] = data['cantidad_order'].fillna(0)\n",
        "    data['label'] = (data['cantidad_order'] > 0).astype(int)\n",
        "\n",
        "#union con variables faltantes\n",
        "    data_final = data.merge(data_clientes, on = 'customer_id', how = 'left')\n",
        "    data_final = data_final.merge(data_productos, on = 'product_id', how = 'left')\n",
        "\n",
        "#data_final = data_final[~((data_final['año'] == 2025) & (data_final['semana'] > 3))]\n",
        "\n",
        "    data_final = data_final.sort_values(by=['año', 'semana'], ascending=[True, True])\n",
        "    valores_reales = data_final[data_final['label'] == 1][['customer_id','product_id']]\n",
        "    output_path = f'valores_true_semana_{semana}.csv'\n",
        "    #valores_reales.to_csv(output_path, index=False)\n",
        "    return output_path"
      ]
    },
    {
      "cell_type": "code",
      "execution_count": null,
      "metadata": {},
      "outputs": [],
      "source": [
        "# código para evaluar el performance de su modelo\n",
        "def evaluar_performance(predicciones, valores_true, semana):\n",
        "\n",
        "    predicciones_semana = pd.read_csv(predicciones, names = [\"customer_id\", \"product_id\"])\n",
        "    predicciones_semana['y_pred'] = 1\n",
        "\n",
        "    valores_reales_semana = pd.read_csv(preprocesamiento_datos(valores_true, semana))\n",
        "    valores_reales_semana['y_true'] = 1\n",
        "\n",
        "    todos_los_pares = predicciones_semana.merge(valores_reales_semana, on=[\"customer_id\", \"product_id\"], how=\"outer\", indicator=True)\n",
        "\n",
        "    todos_los_pares['y_true'].fillna(0, inplace=True)\n",
        "    todos_los_pares['y_pred'].fillna(0, inplace=True)\n",
        "\n",
        "    tp = (todos_los_pares['_merge'] == 'both').sum()\n",
        "    fp = (todos_los_pares['_merge'] == 'left_only').sum()\n",
        "    fn = (todos_los_pares['_merge'] == 'right_only').sum()\n",
        "\n",
        "    precision = tp / (tp + fp) if (tp + fp) > 0 else 0\n",
        "    recall = tp / (tp + fn) if (tp + fn) > 0 else 0\n",
        "    f1 = 2 * (precision * recall) / (precision + recall) if (precision + recall) > 0 else 0\n",
        "\n",
        "    print(f\"Resultados para la semana {semana}:\")\n",
        "    print(f\"Precision: {precision:.4f}\")\n",
        "    print(f\"Recall: {recall:.4f}\")\n",
        "    print(f\"F1 Score: {f1:.4f}\")"
      ]
    },
    {
      "cell_type": "markdown",
      "metadata": {},
      "source": [
        "#### 📌 Batch 1 (01/01/25 - 05/01/25) [0.75 puntos]"
      ]
    },
    {
      "cell_type": "code",
      "execution_count": 10,
      "metadata": {},
      "outputs": [
        {
          "name": "stdout",
          "output_type": "stream",
          "text": [
            "Resultados para la semana 1:\n",
            "Precision: 0.0554\n",
            "Recall: 0.7819\n",
            "F1 Score: 0.1034\n"
          ]
        }
      ],
      "source": [
        "evaluar_performance(\"predictions/predicciones_semana_1_2025.csv\", 'data/batch_t1.parquet', 1)"
      ]
    },
    {
      "cell_type": "markdown",
      "metadata": {},
      "source": [
        "#### 📌 Batch 2 (06/01/25 - 12/01/25) [0.75 puntos]"
      ]
    },
    {
      "cell_type": "code",
      "execution_count": 11,
      "metadata": {},
      "outputs": [
        {
          "name": "stdout",
          "output_type": "stream",
          "text": [
            "Resultados para la semana 2:\n",
            "Precision: 0.2002\n",
            "Recall: 0.4923\n",
            "F1 Score: 0.2846\n"
          ]
        }
      ],
      "source": [
        "evaluar_performance(\"predictions/predicciones_semana_2_2025.csv\", 'data/batch_t2.parquet', 2)"
      ]
    },
    {
      "cell_type": "markdown",
      "metadata": {},
      "source": [
        "#### 📌 Batch 03 (13/01/25 - 19/01/25) [0.75 puntos]"
      ]
    },
    {
      "cell_type": "code",
      "execution_count": 13,
      "metadata": {},
      "outputs": [
        {
          "name": "stdout",
          "output_type": "stream",
          "text": [
            "Resultados para la semana 3:\n",
            "Precision: 0.0819\n",
            "Recall: 0.7462\n",
            "F1 Score: 0.1475\n"
          ]
        }
      ],
      "source": [
        "evaluar_performance(\"predictions/predicciones_semana_3_2025.csv\", 'data/batch_t3.parquet', 3)"
      ]
    },
    {
      "cell_type": "markdown",
      "metadata": {},
      "source": [
        "#### 📌 Batch 04 (20/01/25 - 26/01/25) [0.75 puntos]"
      ]
    },
    {
      "cell_type": "code",
      "execution_count": 14,
      "metadata": {},
      "outputs": [
        {
          "name": "stdout",
          "output_type": "stream",
          "text": [
            "Resultados para la semana 4:\n",
            "Precision: 0.0865\n",
            "Recall: 0.7758\n",
            "F1 Score: 0.1557\n"
          ]
        }
      ],
      "source": [
        "evaluar_performance(\"predictions/predicciones_semana_4_2025.csv\", 'data/batch_t4.parquet', 4)"
      ]
    },
    {
      "cell_type": "markdown",
      "metadata": {},
      "source": [
        "### 📌 Análisis comparativo [2.0 puntos]"
      ]
    },
    {
      "cell_type": "code",
      "execution_count": null,
      "metadata": {},
      "outputs": [],
      "source": [
        "# código para realizar análisis de resultados entre batchs\n",
        "f1_evolucion = [0.1034, 0.2846, 0.1475, 0.1557]\n",
        "recall_evolucion = [0.7819,0.4923, 0.7462, 0.7758]\n",
        "precision_evolucion = [0.0554, 0.2002, 0.0819, 0.0865]"
      ]
    },
    {
      "cell_type": "code",
      "execution_count": 19,
      "metadata": {},
      "outputs": [
        {
          "data": {
            "image/png": "[encoded data removed]",
            "text/plain": [
              "<Figure size 600x400 with 1 Axes>"
            ]
          },
          "metadata": {},
          "output_type": "display_data"
        }
      ],
      "source": [
        "plt.figure(figsize=(6,4))\n",
        "plt.plot([1,2,3,4], f1_evolucion, marker='o', linestyle='-', color='b')\n",
        "plt.xticks([1,2,3,4], labels=['Batch 1', 'Batch 2', 'Batch 3', 'Batch 4'])\n",
        "plt.xlabel('Batch')\n",
        "plt.ylabel('F1 Score')\n",
        "plt.title('Evolución del F1 Score por Batch')\n",
        "plt.grid(True)\n",
        "plt.show()"
      ]
    },
    {
      "cell_type": "code",
      "execution_count": 20,
      "metadata": {},
      "outputs": [
        {
          "data": {
            "image/png": "[encoded data removed]",
            "text/plain": [
              "<Figure size 600x400 with 1 Axes>"
            ]
          },
          "metadata": {},
          "output_type": "display_data"
        }
      ],
      "source": [
        "plt.figure(figsize=(6,4))\n",
        "plt.plot([1,2,3,4], recall_evolucion, marker='o', linestyle='-', color='g')\n",
        "plt.xticks([1,2,3,4], labels=['Batch 1', 'Batch 2', 'Batch 3', 'Batch 4'])\n",
        "plt.xlabel('Batch')\n",
        "plt.ylabel('Recall')\n",
        "plt.title('Evolución del Recall por Batch')\n",
        "plt.grid(True)\n",
        "plt.show()"
      ]
    },
    {
      "cell_type": "code",
      "execution_count": 21,
      "metadata": {},
      "outputs": [
        {
          "data": {
            "image/png": "[encoded data removed]",
            "text/plain": [
              "<Figure size 600x400 with 1 Axes>"
            ]
          },
          "metadata": {},
          "output_type": "display_data"
        }
      ],
      "source": [
        "plt.figure(figsize=(6,4))\n",
        "plt.plot([1,2,3,4], precision_evolucion, marker='o', linestyle='-', color='r')\n",
        "plt.xticks([1,2,3,4], labels=['Batch 1', 'Batch 2', 'Batch 3', 'Batch 4'])\n",
        "plt.xlabel('Batch')\n",
        "plt.ylabel('Precisión')\n",
        "plt.title('Evolución de la Precisión por Batch')\n",
        "plt.grid(True)\n",
        "plt.show()"
      ]
    },
    {
      "cell_type": "markdown",
      "metadata": {},
      "source": [
        "#### Respuestas a las preguntas de desarrollo"
      ]
    },
    {
      "cell_type": "markdown",
      "metadata": {},
      "source": [
        "> 1. ¿Cómo variaron sus métricas a lo largo de los distintos conjuntos de datos?\n",
        "\n",
        "Las métricas variaron significativamente entre semanas. El F1-score fue muy bajo en general, con un valor máximo en la segunda semana (0.2846), y niveles mucho más bajos en las semanas restantes (alrededor de 0.10 a 0.15). El recall se mantuvo relativamente alto en tres de las cuatro semanas (entre 0.74 y 0.78), mientras que la precisión fue siempre baja, sin superar el 0.20 en ningún caso. Esto muestra que el modelo logra recuperar muchos de los casos positivos reales, pero predice muchos más de los que realmente ocurren.\n",
        "\n",
        "> 2. ¿En qué momento el modelo tuvo su peor desempeño y por qué?\n",
        "\n",
        "El peor desempeño se observó en la primera semana de validación, donde el F1-score fue el más bajo (0.1034) y la precisión cayó a 0.0554. Esto puede explicarse porque fue el primer batch completamente nuevo que recibió el modelo, y posiblemente reflejaba un comportamiento distinto al que había aprendido, lo que evidenció limitaciones en su capacidad de generalización.\n",
        "\n",
        "> 3. ¿Detectaron algún cambio significativo (drift) en la distribución de los datos? ¿Cómo lo identificaron?\n",
        "\n",
        "Sí. Si bien no contamos con un sistema automatizado para detectar drift, se observaron cambios en la distribución de ciertos atributos y en los patrones de compra semanales. Esto se identificó comparando manualmente las frecuencias de pedidos por producto y por cliente entre el conjunto de entrenamiento y los nuevos batches. Estos cambios explican en parte la inestabilidad del modelo.\n",
        "\n",
        "> 4. ¿Tuvieron que reentrenar su modelo con los nuevos datos? ¿Por qué? ¿Ayudó esto al performance de su modelo?\n",
        "\n",
        "No reentrenamos el modelo, ya que el pipeline automatizado aún no está operativo. No obstante, los resultados obtenidos refuerzan la necesidad de hacerlo, ya que el comportamiento de los clientes y productos cambia semana a semana. Estimamos que incorporar los datos recientes en un reentrenamiento podría ayudar a mejorar la precisión del modelo.\n",
        "\n",
        "> 5. ¿Qué decisión técnica tuvo más impacto en los resultados?\n",
        "\n",
        "Una de las decisiones más influyentes fue la forma de definir el problema y la estructura del dataset, en particular el uso del par (cliente, producto, semana, año) como unidad de análisis. Esta definición implicó trabajar con una gran cantidad de combinaciones que no ocurren, lo que generó un desbalance importante y afectó directamente el desempeño del modelo.\n",
        "\n",
        "> 6. ¿Qué hiperparámetro fue el más importante para su modelo?\n",
        "\n",
        "Dentro de los parámetros ajustables que probamos, el que más influyó fue el que determina qué tan conservador es el modelo al predecir un encargo. Cambiar ese umbral afectaba directamente la relación entre recall y precisión, y por lo tanto el F1-score. Ajustarlo correctamente resulta clave para mejorar el modelo.\n",
        "\n",
        "> 7. ¿Qué variable fue más influyente en las predicciones? ¿Cómo lo interpretan? ¿Cómo cambió su importancia con respecto a las otras variables a lo largo de los batch de datos?\n",
        "\n",
        "Una de las variables más influyentes fue la frecuencia de compra histórica del producto por parte del cliente. Esto es consistente con lo esperado: los clientes tienden a repetir patrones de compra. Sin embargo, en las semanas donde el desempeño fue peor, esta variable tuvo menor relevancia relativa, lo que sugiere que hubo cambios en los hábitos de compra que el modelo no fue capaz de anticipar.\n",
        "\n",
        "> 8. ¿Qué aprendieron sobre el negocio a partir de los resultados del modelo?\n",
        "\n",
        "Aprendimos que muchos clientes hacen pedidos de productos de forma muy esporádica, lo que hace difícil anticipar su comportamiento con precisión. También observamos que existen diferencias importantes entre clientes en cuanto a regularidad y volumen de compra. Esto sugiere que quizás sería útil tratar a ciertos grupos de clientes de manera diferenciada en el futuro.\n",
        "\n",
        "> 9. ¿Qué limitaciones detectaron en su modelo o en los datos?\n",
        "\n",
        "Detectamos tres limitaciones principales:\n",
        "\n",
        "* El fuerte desbalance entre combinaciones positivas y negativas.\n",
        "* La variabilidad en los comportamientos de compra semana a semana.\n",
        "* La falta de automatización en el pipeline, lo que dificultó monitorear el desempeño en tiempo real y reaccionar ante cambios en los datos.\n",
        "\n"
      ]
    },
    {
      "cell_type": "markdown",
      "metadata": {},
      "source": [
        "### 📌 Conclusiones y Aprendizajes [1.0 puntos]"
      ]
    },
    {
      "cell_type": "markdown",
      "metadata": {},
      "source": [
        "> A lo largo de este proyecto, aprendimos a realizar un modelo de ML desde cero para luego llevarlo a producción y monitorearlo de manera periódica con datos nuevos, en *batches* correspondientes a una nueva semana cada vez. \n",
        ">\n",
        "> Para ello, comenzamos primeramente haciendo una EDA exhaustiva de los datos, que nos permitió identificar qué variables eran relevantes y cómo podíamos modelar el problema. Posteriormente, se realizó un preprocesamiento de los datos para luego implementar diversos modelos para tratar el problema, donde luego de hacer optimización de hiperparámetro con Optuna, se escogió el modelo XGBoost para realizar predicciones pues fue el que obtuvo las mejores métricas de predicción.\n",
        ">\n",
        "> Luego de ello, vino la implementación del pipeline productivo por medio de un DAG de Airflow, que nos permitió hacer monitoreo del modelo y la capacidad de automatizar el proceso de recepción de información, preprocesamiento de los datos y generación de predicciones, con la capacidad de reentrenar el modelo en caso de presentarse *data drifting*.\n",
        ">\n",
        "> Finalmente, se realizaron predicciones de horizonte semanal a partir de los nuevos *batches* de datos recibidos correspondientes a una nueva semana. Si bien las métricas no fueron las mejores, nos permitieron ver cómo el modelo se adapta a nuevos datos y capturar cuándo es necesario realizar un reentrenamiento del modelo producto del *data drift*.\n",
        ">\n",
        "> A lo largo del proyecto nos vimos enfrentados a varias dificultades, tanto por capacidad de cómputo como por la dificultad de algunos puntos del proyecto. En ese contexto, se concluye que el proyecto realizado fue medianamente exitoso en su ejecución, pero nos permitió aprender muchos de los pasos necesarios para desarrollar un modelo en contexto real productivo."
      ]
    },
    {
      "cell_type": "markdown",
      "metadata": {},
      "source": [
        "## 📁 Estructura de entrega\n",
        "\n",
        "Se espera que su entrega cuente con la siguiente estructura de carpetas:\n",
        "\n",
        "```bash\n",
        "entrega_3/\n",
        "│\n",
        "├── informe.ipynb # Jupyter notebook con sus resultados\n",
        "│\n",
        "├── predictions/ # Carpeta con las predicciones para cada batch de datos\n",
        "│\n",
        "└── data/ # Carpeta con los datos realizados (lo que realmente ocurrió)\n",
        "```"
      ]
    },
    {
      "cell_type": "markdown",
      "metadata": {
        "id": "AM6rrqJ85tmz"
      },
      "source": [
        "Mucho éxito!\n",
        "\n",
        "<center>\n",
        "<img src=\"https://gifdb.com/images/high/may-the-force-be-with-you-anakin-skywalker-n2g5o0pm4h6iylsx.gif\" width=\"400\" height=\"300\">\n"
      ]
    }
  ],
  "metadata": {
    "colab": {
      "provenance": []
    },
    "deepnote_app_layout": "powerful-article",
    "deepnote_app_reactivity_enabled": true,
    "deepnote_notebook_id": "2939a76dd7c14f7f948714e40aa8bd20",
    "kernelspec": {
      "display_name": "base",
      "language": "python",
      "name": "python3"
    },
    "language_info": {
      "codemirror_mode": {
        "name": "ipython",
        "version": 3
      },
      "file_extension": ".py",
      "mimetype": "text/x-python",
      "name": "python",
      "nbconvert_exporter": "python",
      "pygments_lexer": "ipython3",
      "version": "3.12.2"
    }
  },
  "nbformat": 4,
  "nbformat_minor": 0
}
