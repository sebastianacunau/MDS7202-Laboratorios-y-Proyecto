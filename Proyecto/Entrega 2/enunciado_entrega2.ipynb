{
  "cells": [
    {
      "cell_type": "markdown",
      "metadata": {
        "cell_id": "516acf1d6e9d4ddb9a8acdeb6b1cca14",
        "deepnote_app_block_visible": true,
        "deepnote_cell_type": "markdown",
        "id": "-MGJGjPDimJI"
      },
      "source": [
        "![](https://www.dii.uchile.cl/wp-content/uploads/2021/06/Magi%CC%81ster-en-Ciencia-de-Datos.png)"
      ]
    },
    {
      "cell_type": "markdown",
      "metadata": {
        "cell_id": "befdb70375f04ab79952117eb63723e7",
        "deepnote_app_block_visible": true,
        "deepnote_cell_type": "markdown",
        "id": "SN4W-_BNimJJ"
      },
      "source": [
        "**MDS7202: Laboratorio de Programación Científica para Ciencia de Datos**\n",
        "\n",
        "### 👨‍🏫👩‍🏫 Cuerpo Docente:\n",
        "\n",
        "- Profesor: Sebastián Tinoco, Stefano Schiappacasse\n",
        "- Auxiliar: Melanie Peña Torres, Valentina Rojas Osorio\n",
        "- Ayudante: Valentina Zuñiga, Ángelo Muñoz\n",
        "\n",
        "### 👨‍💻👩‍💻 Estudiantes:\n",
        "- Estudiante n°1: Sebastián Acuña U.\n",
        "- Estudiante n°2: Martín Guzmán S.\n",
        "\n",
        "_Por favor, lean detalladamente las instrucciones de la tarea antes de empezar a escribir._\n",
        "\n",
        "---"
      ]
    },
    {
      "cell_type": "markdown",
      "metadata": {
        "cell_id": "e38a0c399b794718916b5eb2d04e0d91",
        "deepnote_app_block_visible": true,
        "deepnote_cell_type": "markdown",
        "id": "_kBT6Cn2imJJ"
      },
      "source": [
        "## 📚 Reglas\n",
        "\n",
        "<center>\n",
        "<img src=\"https://media1.tenor.com/m/0Qtv_cQ4ITsAAAAd/necohaus-grey-name.gif\" width=\"450\">\n",
        "\n"
      ]
    },
    {
      "cell_type": "markdown",
      "metadata": {
        "id": "2GjshSnpjGcr"
      },
      "source": [
        "El proyecto consta de **dos entregas parciales** y una **entrega final** en donde la primera entrega la idea es poder reflejar lo aprendido durante la primera mitad del curso, que será sobre los contenidos relacionados a *machine learning*, la segunda será sobre los contenidos de la segunda mitad del curso relacionados a *MLOps* y por último la entrega final constará de dos partes, donde la primera será relacionada con experimentación sobre nuevos datasets que serán disponibilizados durante las últimas semanas del curso de manera incremental y una segunda parte que será el informe final escrito que deberá explicar el desarrollo del proyecto completo, como tambien los resultados y análisis de los experimentos realizados sobre los datasets incrementales. La idea es que todo el código esté desarrollado durante las primeras dos entregas y luego en la entrega final sólo se ejecute el código sobre nuevos conjuntos de datos.\n",
        "\n",
        "La idea de generar el proyecto por etapas es poder aliviar la carga de trabajo en las últimas semanas del semestre donde sabemos que están muy cargado con entregas, pruebas y exámenes de otros ramos, y así garantizamos que habiendo la desarrollado las dos primeras entregas parciales, tendrán el grueso del proyecto listo para luego experimentar y documentar.\n",
        "\n",
        "---\n",
        "### **Fechas de entrega**\n",
        "- **Entrega parcial 1**: 14 de Mayo\n",
        "- **Entrega parcial 2**: 27 de Junio\n",
        "- **Entrega final**: Por definir\n",
        "\n",
        "---\n",
        "\n",
        "### **Requisitos del proyecto**\n",
        "- **Grupos**: Formar equipos de **2 personas**. No se aceptarán trabajos individuales o grupos con más integrantes.\n",
        "- **Consultas**: Cualquier duda fuera del horario de clases debe ser planteada en el foro correspondiente. Los mensajes enviados al equipo docente serán respondidos únicamente por este medio. Por favor, revisen las respuestas anteriores en el foro antes de realizar nuevas consultas.\n",
        "- **Plagio**: La copia o reutilización no autorizada de trabajos de otros grupos está **estrictamente prohibida**. El incumplimiento de esta norma implicará la anulación inmediata del proyecto y una posible sanción académica.\n",
        "- **Material permitido**: Pueden usar cualquier material del curso, ya sea notas, lecturas, códigos, o referencias proporcionadas por los docentes, que consideren útil para el desarrollo del proyecto.\n",
        "\n",
        "---\n",
        "\n",
        "### **Entregables y etapas**\n",
        "\n",
        "#### **1. Entrega Parcial 1**  \n",
        "- Dispondrán de los archivos de datos **productos.parquet**, **clientes.parquet** y **transacciones.parquet** para el modelamiento inicial.  \n",
        "- Utilizarán estos archivos para desarrollar lo solicitado para la entrega 1.\n",
        "- En esta etapa, se espera que apliquen todos los conocimientos aprendidos durante la primera parte del curso relacionados con *machine learning*.\n",
        "- **Informe**: No se exige un avance del informe en esta etapa, sólo un notebook con su desarrollo actual, pero se **recomienda comenzar** a redactar el informe final en paralelo para disminuir la carga académica en las etapas posteriores.  \n",
        "\n",
        "#### **2. Entrega Parcial 2**  \n",
        "- En esta entrega, deberán aplicar los conocimientos aprendidos durante la segunda mitad del curso sobre *MLOps*  \n",
        "- Se espera que implementen estos conocimientos para desplegar su modelo elegido en la primera entrega y crear *pipelines* automatizados que simulen un entorno productivo.\n",
        "- **Informe**: Similar a la primera etapa, no se exige un avance del informe, pero se **recomienda avanzar con su redacción** para evitar una acumulación de trabajo en la etapa final.  \n",
        "\n",
        "#### **3. Entrega Final**  \n",
        "- En la entrega final, deberán realizar dos etapas:\n",
        "\t- La primera etapa es sobre experimentación utilizando datasets incrementales que se irán disponibilizando de manera parcial, para que vayan generando predicciones con su modelo ya desplegado. El objetivo de esta etapa es poder testear su solución *end-to-end* y que vayan analizando los resultados obtenidos a medida que se van agregando más datos.\n",
        "\t- La segunda etapa consiste en redactar un informe final que deberá explicar el desarrollo completo de tu proyecto y un análisis profundo de sus resultados de experimentación. Este informe debera incluir a lo menos las siguientes secciones:\n",
        "\t\t- Análisis exploratorio de datos  \n",
        "\t\t- Metodología aplicada  \n",
        "\t\t- Selección y entrenamiento de modelos  \n",
        "\t\t- Evaluación de resultados  \n",
        "\t\t- Optimización de modelos\n",
        "\t\t- Interpretabilidad\n",
        "\t\t- Re-entrenamiento\n",
        "\t\t- Tracking con MLFlow\n",
        "\t\t- Creación de la aplicación web con Gradio y FastAPI\n",
        "\n",
        "Es **altamente recomendable** ir redactando el informe en paralelo al desarrollo de los modelos para garantizar que toda la información relevante quede documentada adecuadamente.  \n",
        "\n",
        "### Nota Final\n",
        "\n",
        "La calificación final de su proyecto se calculará utilizando la siguiente ponderación:\n",
        "\n",
        "$$Nota Final = 0.30 * EntregaParcial1 + 0.40 * EntregaParcial2 + 0.30 * EntregaFinal$$\n",
        "\n",
        "---\n",
        "\n",
        "### **Instrucciones importantes**\n",
        "\n",
        "1. **Formato del informe**:  \n",
        "   - El informe debe estar integrado dentro de un **Jupyter Notebook**. No es necesario subirlo a una plataforma externa, pero debe cumplir con los siguientes requisitos:  \n",
        "     - Estructura clara y ordenada.  \n",
        "     - Código acompañado de explicaciones detalladas.  \n",
        "     - Resultados presentados de forma visual y analítica.  \n",
        "\n",
        "2. **Descuento por informes deficientes**:  \n",
        "   - Cualquier sección del informe que no tenga una explicación adecuada o no respete el formato será penalizada con un descuento en la nota. Esto incluye código sin comentarios o análisis que no sean coherentes con los resultados presentados.\n",
        "   - **Comentarios sin formatear de ChatGPT o herramientas similares serán penalizados (e.g: \"Inserta tu modelo acá\", etc.)**\n",
        "\n",
        "<center>\n",
        "<img src=\"https://media1.giphy.com/media/ZkIUY6LZJMwrSMQMWu/giphy.gif?cid=6c09b952msc755426bpsadn4sysofcpqczczi7x1pghd41sw&ep=v1_internal_gif_by_id&rid=giphy.gif&ct=v\" width=\"400\" height=\"300\">"
      ]
    },
    {
      "cell_type": "markdown",
      "metadata": {
        "cell_id": "ad10b0086d0241a3b3063e36555d6b9f",
        "deepnote_app_block_visible": true,
        "deepnote_cell_type": "markdown",
        "id": "LDShUyH4imJK"
      },
      "source": [
        "## Notas adicionales\n",
        "- No necesitan tener un rendimiento cercano al 100% para tener una resolución exitosa en el proyecto.\n",
        "- Utilizar paralelización para acelerar búsquedas. Esto podría ser una buena solución para el caso de que la búsqueda de hiperparámetros sea muy lenta. En caso de tener problemas de RAM, reducir la cantidad de `jobs` a algo que su computador/interprete web pueda procesar.\n",
        "- Generar grillas de búsquedas razonables. Entre más grande es la grilla, más lento el proceso de búsqueda. Utilice grillas de tamaños adecuados para que la búsqueda converga en tiempos razonables y no se demore 3.5 eternidades en terminar."
      ]
    },
    {
      "cell_type": "markdown",
      "metadata": {
        "cell_id": "73dd6ad576224431b010e7650d06156e",
        "deepnote_app_block_visible": true,
        "deepnote_cell_type": "markdown",
        "id": "mMwIvE7AimJK"
      },
      "source": [
        "# 📬 Entrega Parcial 2 (40% del Proyecto)"
      ]
    },
    {
      "cell_type": "markdown",
      "metadata": {
        "id": "rbrEry-nnsfs"
      },
      "source": [
        "### 📪 Fecha de Entrega: 27 de Junio\n"
      ]
    },
    {
      "cell_type": "markdown",
      "metadata": {
        "id": "7S9iswjPnxmu"
      },
      "source": [
        "## 📖 Enunciado\n",
        "\n",
        "Gracias al impecable trabajo que presento su dupla, la primera etapa del proyecto fue un éxito rotundo! Pero no hay tiempo para descansar...\n",
        "\n",
        "<center>\n",
        "<img src=\"https://media.tenor.com/ibeRrcBcNFAAAAAM/theres-no-time-to-waste-barack-obama.gif\" width=\"350\">\n"
      ]
    },
    {
      "cell_type": "markdown",
      "metadata": {
        "cell_id": "a2fbf90275b84abc9efb217f8722a11d",
        "deepnote_app_block_visible": true,
        "deepnote_cell_type": "markdown",
        "id": "MVh_MqB8imJK"
      },
      "source": [
        "Tras haber entrenado su primer modelo predictivo, el equipo **Deep Drinkers 🤖** ha demostrado que tiene lo necesario para revolucionar la manera en que se toman decisiones comerciales dentro de **SodAI Drinks 🥤**. El comité de innovación ha quedado tan impresionado que les ha encomendado una nueva y más desafiante misión.\n",
        "\n",
        "En esta segunda fase del proyecto, deberán fortalecer su solución y prepararla para el mundo real (también conocido como producción). La idea es que tomen el modelo elegido en la primera entrega y lo utilicen para implementar toda esta segunda entrega que tendrá como objetivo último, disponibilizar su modelo en producción para que pueda ser consumido a través de la web. Entonces, deben aplicar lo aprendido en las clases relacionadas a `MLOps` (despliegue, `Docker`, *pipeline productivo*, monitoreo), en conjunto con los conocimientos adquiridos en la primera parte del curso (`Mlflow`, `SHAP`, `sklearn`, entre otros.) e implementarlo sobre su modelo.\n",
        "\n",
        "Esta nueva misión que se les ha encargado incluye que realicen, a lo menos, las siguientes partes.\n",
        "\n",
        "⚠️ Advertencia importante: **SodAI Drinks** 🥤 no quiere tener que despedir a sus empleados estrella si su modelo empieza a hacer predicciones incoherentes."
      ]
    },
    {
      "cell_type": "markdown",
      "metadata": {},
      "source": [
        "## 📌Pipelines Productivos [3.0 puntos]\n",
        "<center>\n",
        "<img src=\"https://media.tenor.com/ACThgg-lfvEAAAAM/goofy-working-hard.gif\" width=\"400\" height=\"250\">"
      ]
    },
    {
      "cell_type": "markdown",
      "metadata": {},
      "source": [
        "En esta etapa, el equipo debe diseñar e implementar una canalización automatizada utilizando `Apache Airflow` para orquestar de forma eficiente todo el flujo de trabajo de su sistema predictivo, integrando herramientas como `MLflow`, `Optuna` y `SHAP`. Esta canalización debe contemplar el ciclo completo de modelado: desde la extracción de datos hasta la generación de predicciones y el seguimiento de resultados, de manera robusta y flexible.\n",
        "\n",
        "Aunque en esta entrega se trabajará únicamente con los datos iniciales proporcionados, es **fundamental** que el *pipeline* sea diseñado con visión de producción, tal como se esperaría en un entorno empresarial real. Por tanto, el *pipeline* debe estar preparado para detectar *drift* en los datos y, de ser necesario, reentrenar el modelo de forma automatizada ante la llegada de nuevos datos.\n",
        "\n",
        "**Nota importante: Tómense un tiempo para leer detenidamente esto para entender lo que esto significa. Para entrega final del proyecto se les pedirá que su pipeline reciba un nuevo conjunto de datos (por ejemplo, ustedes cuentan con datos (t) y reciben una nueva semana de datos (t+1)) y genere la predicción para la semana siguiente (t+2). <u>Repetiremos este ejercicio varias veces</u>. Tome esto en consideración para el desarrollo de esta sección.**\n",
        "\n",
        "**BONUS**: Si deciden utilizar `MLflow`, se les otorgará entre 0 y 0.5 puntos de puntaje adicional dependiendo su uso y en qué partes lo utilizan.\n",
        "\n",
        "Su *pipeline* debe considerar los siguientes puntos:\n",
        "\n",
        "- **Extracción de datos**: Configurar `Airflow` para obtener automáticamente los datos y prepararlos como se realizó en la primera entrega. \n",
        "  - Asuman que los nuevos datos cuentan con la misma estructura de `transacciones.parquet`.\n",
        "  - Para esta parte, pueden asumir que los datos aparecen *mágicamente* en su directorio de trabajo.\n",
        "  - Pueden realizar supuestos adicionales, pero estos deben quedar evidenciados de forma clara y fácil de distinguir para su posterior revisión.\n",
        "- **Limpieza y transformación**: Estandarizar y preparar los datos para su uso en el modelo. Esta etapa debe ser modular y replicable para nuevos datos.\n",
        "- **Detección de drift en los datos [BONUS: 0.3 puntos]**: Desarrollar un sistema o modelo que sea capaz de distinguir cuando exista *drift* en los datos.\n",
        "- **Reentrenamiento del modelo**: Implementar una rutina de reentrenamiento y trackeo de resultados. Además, esta etaba debe considerar:\n",
        "    - Si deciden implementar la detección de *drift*, este paso sólo debe ser ejecutado en caso de que exista drift en los datos. En caso contrario, deben desarrollar código para que el reentrenamiento sea ejecutado de forma periódica.\n",
        "    - Optimización de hiperparámetros.\n",
        "    - Entrenar modelo con los hiperparámetros seleccionados usando la data nueva.\n",
        "    - Trackeo de sus resultados, registrando de manera organizada la siguiente información (se recomienda muchísimo usar `MLflow`):\n",
        "      - Métricas de desempeño\n",
        "      - Hiperparámetros del modelo\n",
        "      - Gráficos de interpretabilidad.\n",
        "    - Exportar el modelo entrenado para su posterior uso (se recomienda usar `MLflow` para esto). \n",
        "\n",
        "    Esta lógica puede quedar implementada como tareas condicionales, *placeholders* o módulos configurables, que se activarán más adelante.\n",
        "  \n",
        "- **Generación de predicciones**  \n",
        "  - Utilizar el mejor modelo disponible para predecir, para cada par cliente-producto, si el cliente comprará ese producto la próxima semana.  \n",
        "  - **Salida**: el *pipeline* debe generar un **archivo `.csv`** que contenga **solo** las combinaciones *cliente-producto* con predicción positiva (es decir, los productos que se espera que el cliente compre). NO deben incluirse los pares con predicción negativa.\n",
        "\n",
        "\n",
        "**IMPORTANTE**: Como \"próxima semana\" deben usar la **semana siguiente a la semana más reciente presente en los datos**. Por ejemplo, si sus datos contienen hasta la última semana del 2024, se le pide generar predicciones para la primera semana del 2025.\n",
        "\n",
        "Para esta sección se esperan los siguientes entregables:\n",
        "\n",
        "* **Código del DAG de Airflow [2.0 puntos]**: \n",
        "  * Archivos Python con la definición completa del `DAG` y todos sus operadores.\n",
        "  * Scripts auxiliares para las diferentes tareas, si lo estima necesario (transformación, entrenamiento, evaluación, interpretabilidad, entre otros).\n",
        "  * Configuración del entorno `Airflow` (requisitos, conexiones, variables, entre otros).\n",
        "  * Todo el código debe ser reproducible.\n",
        "\n",
        "* **Video de ejecución del pipeline [0.5 puntos]**\n",
        "  * Deben adjuntar un video mostrando la ejecución del pipeline de `Airflow` siendo ejecutado de principio a fin.\n",
        "  * El pipeline debe ser ejecutado considerando un nuevo conjunto de datos de entrada (pueden generarlo de forma aleatoria, extraer una semana cualquiera del dataset, etc).\n",
        "  * La ejecución del pipeline DEBE mostrar como los datos pasan por la etapa de reentrenamiento. Pueden desarrollar flujos condicionales  para esto.\n",
        "  * No es necesario que suban este video al repositorio ni a u-cursos. En su lugar, pueden subirlo a Youtube o alguna otra plataforma de su preferencia y enviarnos el link de acceso junto a su entrega.\n",
        "\n",
        "* **Documentación detallada en markdown [0.5 puntos]**:\n",
        "  * Una descripción clara del `DAG`, explicando la funcionalidad de cada tarea y cómo se relacionan entre sí.\n",
        "  * Diagrama de flujo del *pipeline* completo.\n",
        "  * Una representación visual del `DAG` en la interfaz de `Airflow`.\n",
        "  * Explicación de cómo se diseñó la lógica para integrar futuros datos, detectar *drift* y reentrenar el modelo.\n",
        "  * Todos estos puntos deben estar contenidos en un archivo markdown junto a la carpeta de esta sección.\n",
        "\n",
        "* **Los puntos anteriores deben estar contenidos de forma ordenada en una carpeta llamada `airflow`**\n",
        "\n",
        "👀 **Hint**: *Se recomienda revisar la siguiente documentación de [MLFlow](https://mlflow.org/docs/latest/tracking/#quickstart) y [Airflow](https://airflow.apache.org/docs/apache-airflow/stable/tutorial/fundamentals.html) para el desarrollo de esta sección.*"
      ]
    },
    {
      "cell_type": "markdown",
      "metadata": {
        "id": "aMYZOfWptMrC"
      },
      "source": [
        "## 📌 Desarrollo de Aplicación Web [2.0 puntos]\n",
        "<center>\n",
        "<img src=\"https://miro.medium.com/v2/resize:fit:1400/1*eGHIz7MqdP_tUGGVNnDfWA.jpeg\" width=\"500\" height=\"300\">"
      ]
    },
    {
      "cell_type": "markdown",
      "metadata": {
        "cell_id": "b717eb9e1c3b4b7ca0648289d90be804",
        "deepnote_app_block_visible": true,
        "deepnote_cell_type": "markdown",
        "id": "F3Bz6_4simJK"
      },
      "source": [
        "Una vez implementado el *pipeline* productivo, el siguiente paso es desarrollar una interfaz que permita a los usuarios finales de **SodAI Drinks 🥤** interactuar con el modelo desplegado. Esta aplicación web debe consumir las predicciones generadas por el *pipeline* desarrollado en la sección anterior, estableciendo así un flujo completo desde el procesamiento de datos hasta la visualización de resultados.\n",
        "\n",
        "En esta etapa, deberán construir una aplicación web que integre un *frontend* desarrollado en `Gradio` y un *backend* con `FastAPI`, asegurando la comunicación efectiva entre ambos componentes y con el *pipeline* previamente implementado. Para garantizar la portabilidad y facilidad del despliegue en diferentes entornos, tanto el *backend* como el *frontend* deben ser dockerizados.\n",
        "\n",
        "Para esta sección se esperan los siguientes entregables:\n",
        "\n",
        "* **Backend con FastAPI [0.9 puntos]**: \n",
        "  * Crear rutas (*endpoints*) para recibir solicitudes y devolver predicciones.\n",
        "  * Cargar el modelo entrenado. En caso de haber utilizado `MLFlow`, se les recomienda usarlo para cargar el modelo directamente.\n",
        "  * Procesar los datos que recibe la aplicación.\n",
        "  * Dockerfile para levantar contenedor.\n",
        "  * Todo su desarrollo debe estar contenido en una carpeta `backend`\n",
        "\n",
        "* **Frontend con Gradio [0.9 puntos]**:\n",
        "  * Crear una interfaz amigable donde los usuarios puedan introducir los datos.\n",
        "  * Mostrar los resultados de las predicciones de forma clara.\n",
        "  * Incluir explicaciones sobre cómo usar la aplicación (esto debe estar en la interfaz).\n",
        "  * Dockerfile para levantar contenedor.\n",
        "  * Todo su desarrollo debe estar contenido en una carpeta `frontend`\n",
        "\n",
        "* **Un archivo `docker-compose.yml` que permita ejecutar ambos contenedores juntos. [0.2 puntos]**\n",
        "\n",
        "* **Los puntos anteriores deben estar contenidos de forma ordenada en una carpeta llamada `app`.**\n",
        "\n",
        "* **Importante: Se revisará esta sección levantando la aplicación que entreguen mediante Docker. Naturalmente, si la aplicación tiene problemas en levantar se les descontará puntaje.**\n",
        "\n",
        "👀 **Hint**: *Se recomienda revisar el cheatsheet de [Dockerlabs](https://dockerlabs.collabnix.com/docker/cheatsheet/) para optimizar la creación de las imágenes y contenedores.*"
      ]
    },
    {
      "cell_type": "markdown",
      "metadata": {
        "id": "TZ36o9Sc5lp6"
      },
      "source": [
        "## 📌Conclusiones  [1.0 punto]\n",
        "\n",
        "<center>\n",
        "<img src=\"https://i0.wp.com/vanessabrooks2020.com/wp-content/uploads/2017/12/the-end-question-mark.gif?fit=498%2C256&ssl=1\" width=\"500\" height=\"300\">"
      ]
    },
    {
      "cell_type": "markdown",
      "metadata": {},
      "source": [
        "En esta sección deben reflexionar sobre los aprendizajes, desafíos y oportunidades del enfoque `MLOps` aplicado. Sus reflexiones deben ser escritas en un archivo `conclusiones.md`\n",
        "\n",
        "Algunas ideas que pueden abordar:\n",
        "- ¿Cómo mejoró el desarrollo del proyecto al utilizar herramientas de *tracking* y despliegue?\n",
        "- ¿Qué aspectos del despliegue con `Gradio/FastAPI` fueron más desafiantes o interesantes?\n",
        "- ¿Cómo aporta `Airflow` a la robustez y escalabilidad del pipeline?\n",
        "- ¿Qué se podría mejorar en una versión futura del flujo? ¿Qué partes automatizarían más, qué monitorearían o qué métricas agregarían?"
      ]
    },
    {
      "cell_type": "markdown",
      "metadata": {},
      "source": [
        "## 🎁 Bonus [1.0 puntos]\n",
        "\n",
        "De forma adicional a todo el desarrollo anterior, pueden optar a obtener puntaje adicional desarrollando los siguientes puntos:\n",
        "\n",
        "* **Sistema de Recomendación [0.5 puntos]**: \n",
        "    * Debe generar 5 recomendaciones de productos para cualquier cliente.\n",
        "    * Debe entregar su solución separando backend y frontend, ambos dockerizados y comunicándose. \n",
        "    * Todo su desarrollo debe estar contenido en la carpeta `recsys`\n",
        "\n",
        "* **Chatbot Conversacional [0.5 puntos]**:\n",
        "    * Debe ser capaz de responder dudas sobre los datos existentes, por ejemplo:\n",
        "        * ¿Cuántos clientes únicos hay en el dataset?\n",
        "        * ¿Cuántas transacciones ha realizado el cliente X?\n",
        "        * ¿Cuántos productos únicos se encuentran en los datos?\n",
        "    * Debe entregar su solución separando backend y frontend, ambos dockerizados y comunicándose.\n",
        "    * Todo su desarrollo debe estar contenido en la carpeta `llm`"
      ]
    },
    {
      "cell_type": "markdown",
      "metadata": {},
      "source": [
        "## 📁 Estructura de entrega\n",
        "\n",
        "Se espera que su entrega cuente con la siguiente estructura de carpetas:\n",
        "\n",
        "```bash\n",
        "entrega_2/\n",
        "│\n",
        "├── airflow/ # Carpeta con todos los scripts de la sección Pipelines Productivos\n",
        "│\n",
        "├── app/\n",
        "│ ├── backend/ # Carpeta con scripts del backend\n",
        "│ ├── frontend/ # Carpeta con scripts del frontend\n",
        "│ └── docker-compose.yml\n",
        "│\n",
        "├── bonus/\n",
        "│ ├── recsys/ # Carpeta con scripts del bonus de Sistemas de Recomendación\n",
        "│ └── llm/ # Carpeta con scripts del bonus de Chat Conversacional\n",
        "│\n",
        "└── conclusiones.md # Conclusiones del trabajo realizado\n",
        "```"
      ]
    },
    {
      "cell_type": "markdown",
      "metadata": {},
      "source": [
        "**RECOMENDACIÓN** \n",
        "\n",
        "En caso de que aún no lo hagan, les recomendamos fuertemente que migren su código a un repositorio (separado del repo del curso). Este paso es necesario ya que para la entrega final requerirán un repositorio independiente y bien estructurado.\n",
        "\n",
        "<center>\n",
        "<img src=\"https://i.pinimg.com/originals/f4/75/e1/f475e17d2d74c96d45ac92b14de16da5.gif\" width=\"200\" height=\"200\">\n",
        "</center>\n"
      ]
    },
    {
      "cell_type": "markdown",
      "metadata": {
        "id": "AM6rrqJ85tmz"
      },
      "source": [
        "Mucho éxito!\n",
        "\n",
        "<center>\n",
        "<img src=\"https://gifdb.com/images/high/may-the-force-be-with-you-anakin-skywalker-n2g5o0pm4h6iylsx.gif\" width=\"400\" height=\"300\">\n"
      ]
    }
  ],
  "metadata": {
    "colab": {
      "provenance": []
    },
    "deepnote_app_layout": "powerful-article",
    "deepnote_app_reactivity_enabled": true,
    "deepnote_notebook_id": "2939a76dd7c14f7f948714e40aa8bd20",
    "language_info": {
      "name": "python"
    }
  },
  "nbformat": 4,
  "nbformat_minor": 0
}
